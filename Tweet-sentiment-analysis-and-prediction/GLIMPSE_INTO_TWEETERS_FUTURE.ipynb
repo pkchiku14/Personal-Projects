{
  "nbformat": 4,
  "nbformat_minor": 0,
  "metadata": {
    "colab": {
      "provenance": []
    },
    "kernelspec": {
      "name": "python3",
      "display_name": "Python 3"
    },
    "language_info": {
      "name": "python"
    }
  },
  "cells": [
    {
      "cell_type": "markdown",
      "source": [
        "# GLIMPSE INTO TWITTER's FUTURE\n",
        "\n",
        "As Twitter continues to evolve and adapt to the ever-changing landscape of the digital world, it's difficult to predict exactly what the future holds for the popular social media platform. One thing is certain, however: Twitter will continue to be a valuable tool for people to connect with each other and share their thoughts, ideas, and opinions.\n",
        "\n",
        "In the future, we may see Twitter incorporate even more advanced features, such as virtual reality integration or personalized AI assistants to help users manage their feeds and connect with others more easily. The platform may also continue to crack down on cyberbullying and hate speech, creating a safer and more inclusive environment for all users.\n",
        "\n",
        "As more and more people turn to social media to stay informed and connected, Twitter will undoubtedly play a crucial role in shaping the global conversation. Whether it's breaking news, discussions on important issues, or simply a funny meme, Twitter will remain a vibrant and influential platform for people around the world.\n",
        "\n",
        "<img src=\"data:image/png;base64,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\" />\n",
        "\n",
        "But, we aren't the future of Data Science for null!\n",
        "We will be attempting to Predict the Tweets for Celebrities and Do a sentiment analysis of it.\n",
        "\n",
        "TEAM OUTLIERS:\n",
        "\n",
        "* Nanda Krishna\n",
        "* Dewang Vinchhi\n",
        "* Prayash Panda\n",
        "* Shishir Tripathi"
      ],
      "metadata": {
        "id": "dXl0RAVwfJ3A"
      }
    },
    {
      "cell_type": "code",
      "source": [
        "!pip install transformers snscrape datasets -q"
      ],
      "metadata": {
        "colab": {
          "base_uri": "https://localhost:8080/"
        },
        "id": "4ald2MLV1gBc",
        "outputId": "c518ccf2-86a8-4387-b898-9dd08bd7a211"
      },
      "execution_count": null,
      "outputs": [
        {
          "output_type": "stream",
          "name": "stdout",
          "text": [
            "\u001b[K     |████████████████████████████████| 5.8 MB 4.7 MB/s \n",
            "\u001b[K     |████████████████████████████████| 59 kB 5.8 MB/s \n",
            "\u001b[K     |████████████████████████████████| 451 kB 62.4 MB/s \n",
            "\u001b[K     |████████████████████████████████| 182 kB 51.2 MB/s \n",
            "\u001b[K     |████████████████████████████████| 7.6 MB 66.6 MB/s \n",
            "\u001b[K     |████████████████████████████████| 132 kB 38.7 MB/s \n",
            "\u001b[K     |████████████████████████████████| 212 kB 52.6 MB/s \n",
            "\u001b[K     |████████████████████████████████| 127 kB 61.5 MB/s \n",
            "\u001b[?25h"
          ]
        }
      ]
    },
    {
      "cell_type": "markdown",
      "source": [
        "# Importing Libraries"
      ],
      "metadata": {
        "id": "z0qBUQsu_utm"
      }
    },
    {
      "cell_type": "code",
      "execution_count": null,
      "metadata": {
        "id": "2m3-SUsxcB8t",
        "colab": {
          "base_uri": "https://localhost:8080/"
        },
        "outputId": "1be24070-d70c-485a-e34d-40e2d3067ab5"
      },
      "outputs": [
        {
          "output_type": "stream",
          "name": "stdout",
          "text": [
            "Pandas version {pd.__version__}\n",
            "Numpy version 1.21.6\n",
            "Tensorflow version 2.9.2\n"
          ]
        }
      ],
      "source": [
        "import pandas as pd\n",
        "import numpy as np\n",
        "import re\n",
        "import os \n",
        "import matplotlib.pyplot as plt\n",
        "import seaborn as sbn\n",
        "import pickle\n",
        "import tensorflow as tf \n",
        "import time\n",
        "import json \n",
        "from collections import deque, Counter\n",
        "\n",
        "from tqdm import tqdm, trange\n",
        "from glob import glob\n",
        "from snscrape.modules import twitter\n",
        "from transformers import TFGPT2LMHeadModel, GPT2Tokenizer, DataCollatorForLanguageModeling\n",
        "from datasets import Dataset\n",
        "from transformers import pipeline\n",
        "from itertools import cycle \n",
        "from numba import cuda \n",
        "\n",
        "print(\"Pandas version {pd.__version__}\")\n",
        "print(f\"Numpy version {np.__version__}\")\n",
        "print(f\"Tensorflow version {tf.__version__}\")"
      ]
    },
    {
      "cell_type": "code",
      "source": [
        "from google.colab import drive\n",
        "drive.mount('/content/drive')"
      ],
      "metadata": {
        "colab": {
          "base_uri": "https://localhost:8080/"
        },
        "id": "SsTcTVeaz3_Q",
        "outputId": "1369d9e5-1237-4385-b731-a8b362172f12"
      },
      "execution_count": null,
      "outputs": [
        {
          "output_type": "stream",
          "name": "stdout",
          "text": [
            "Drive already mounted at /content/drive; to attempt to forcibly remount, call drive.mount(\"/content/drive\", force_remount=True).\n"
          ]
        }
      ]
    },
    {
      "cell_type": "code",
      "source": [
        "!nvidia-smi"
      ],
      "metadata": {
        "colab": {
          "base_uri": "https://localhost:8080/"
        },
        "id": "y_CKeJPrWMFL",
        "outputId": "3997abea-33f4-4fae-cec5-cc2c78e38285"
      },
      "execution_count": null,
      "outputs": [
        {
          "output_type": "stream",
          "name": "stdout",
          "text": [
            "Thu Dec 15 13:13:17 2022       \n",
            "+-----------------------------------------------------------------------------+\n",
            "| NVIDIA-SMI 460.32.03    Driver Version: 460.32.03    CUDA Version: 11.2     |\n",
            "|-------------------------------+----------------------+----------------------+\n",
            "| GPU  Name        Persistence-M| Bus-Id        Disp.A | Volatile Uncorr. ECC |\n",
            "| Fan  Temp  Perf  Pwr:Usage/Cap|         Memory-Usage | GPU-Util  Compute M. |\n",
            "|                               |                      |               MIG M. |\n",
            "|===============================+======================+======================|\n",
            "|   0  Tesla T4            Off  | 00000000:00:04.0 Off |                    0 |\n",
            "| N/A   62C    P0    27W /  70W |      0MiB / 15109MiB |      0%      Default |\n",
            "|                               |                      |                  N/A |\n",
            "+-------------------------------+----------------------+----------------------+\n",
            "                                                                               \n",
            "+-----------------------------------------------------------------------------+\n",
            "| Processes:                                                                  |\n",
            "|  GPU   GI   CI        PID   Type   Process name                  GPU Memory |\n",
            "|        ID   ID                                                   Usage      |\n",
            "|=============================================================================|\n",
            "|  No running processes found                                                 |\n",
            "+-----------------------------------------------------------------------------+\n"
          ]
        }
      ]
    },
    {
      "cell_type": "markdown",
      "source": [
        "# 1. Part 1: Tweet Generation Based on User tweets"
      ],
      "metadata": {
        "id": "J3iVV1GfAB6k"
      }
    },
    {
      "cell_type": "markdown",
      "source": [
        "## 1.1 Scraping Tweets Using TweePy"
      ],
      "metadata": {
        "id": "FoG9Edo8_0ti"
      }
    },
    {
      "cell_type": "markdown",
      "source": [
        "Following Steps are used to scrape the tweets using scnscrape library\n",
        "\n",
        "- Get the `user_ids` from tweeter client api\n",
        "- Use those ids to get past 1000 tweets of the user from snscrape `TwitterUserScraper` function"
      ],
      "metadata": {
        "id": "YI15Tw1P1xF2"
      }
    },
    {
      "cell_type": "code",
      "execution_count": null,
      "metadata": {
        "id": "j7ZcMMSenOGj"
      },
      "outputs": [],
      "source": [
        "# MAKING CONNECTION WITH THE TWITTER CLIENT\n",
        "\n",
        "PROJECT_DIRECTORY = '/content/drive/MyDrive/AI_3_PROJECT_DEVANG/'\n",
        "\n",
        "with open(f'{PROJECT_DIRECTORY}/Copy of twitterAppCred.json', 'r') as fp:\n",
        "    credentials = json.load(fp)\n",
        "\n",
        "cli = tweepy.Client(bearer_token = credentials['bearer_token'])"
      ]
    },
    {
      "cell_type": "code",
      "execution_count": null,
      "metadata": {
        "colab": {
          "base_uri": "https://localhost:8080/"
        },
        "id": "84Mt973Ondjk",
        "outputId": "c997634e-6997-47ab-f184-ea0e330040b1"
      },
      "outputs": [
        {
          "output_type": "stream",
          "name": "stdout",
          "text": [
            "There are 10 number of duplicate user names\n",
            "Duplicates dropped.\n"
          ]
        },
        {
          "output_type": "execute_result",
          "data": {
            "text/plain": [
              "0        katyperry\n",
              "1     justinbieber\n",
              "2    taylorswift13\n",
              "3          rihanna\n",
              "4         ladygaga\n",
              "5      jtimberlake\n",
              "6     TheEllenShow\n",
              "7    britneyspears\n",
              "8        Cristiano\n",
              "9    KimKardashian\n",
              "Name: twitter, dtype: object"
            ]
          },
          "metadata": {},
          "execution_count": 5
        }
      ],
      "source": [
        "# IMPORTING THE FILE CONTAINING THE USERNAMES OF TWITTER ACCOUNTS\n",
        "\n",
        "userNames = pd.read_csv(f\"{PROJECT_DIRECTORY}/tweeter_username.csv\").iloc[:, 0]\n",
        "\n",
        "print(f\"There are {userNames.duplicated().sum()} number of duplicate user names\")\n",
        "\n",
        "userNames.drop_duplicates(inplace=True)\n",
        "print(\"Duplicates dropped.\")\n",
        "\n",
        "userNames[:10]"
      ]
    },
    {
      "cell_type": "code",
      "execution_count": null,
      "metadata": {
        "colab": {
          "base_uri": "https://localhost:8080/"
        },
        "id": "rPL6Z9l7yyrz",
        "outputId": "c220bf1b-f12a-4e27-f11d-4efa15ea676c"
      },
      "outputs": [
        {
          "output_type": "stream",
          "name": "stdout",
          "text": [
            "100\n",
            "100\n",
            "100\n",
            "100\n",
            "100\n",
            "100\n",
            "100\n",
            "100\n",
            "100\n",
            "86\n"
          ]
        }
      ],
      "source": [
        "# USING THE TWITTER CLIENT API TO GET ALL THE USER-IDS\n",
        "# AND THOSE IDS OR ACCOUNTS WHICH ARE SUSPENDED\n",
        "\n",
        "twitter_unique_id = list()\n",
        "ids_not_found = list()\n",
        "\n",
        "for i in range((len(userNames) // 100)+1):\n",
        "    idx = i * 100\n",
        "\n",
        "    # The '.get_users' function takes in string of comma separated usernames\n",
        "    # Below we create them\n",
        "    uname_values = ''\n",
        "    for val in list(userNames[idx : idx+100]):\n",
        "        uname_values += (val+',')\n",
        "\n",
        "    # Getting the user ids\n",
        "    print(\"Finished :\", len(userNames[idx : idx+100]))\n",
        "    resp = cli.get_users(usernames = uname_values[:-1])\n",
        "    \n",
        "    # storing the user ids\n",
        "    twitter_unique_id.extend(\n",
        "        [val.id for val in resp.data]\n",
        "    )\n",
        "    ids_not_found.extend(\n",
        "        [val[\"value\"] for val in resp.errors]\n",
        "    )"
      ]
    },
    {
      "cell_type": "code",
      "execution_count": null,
      "metadata": {
        "id": "JFQeVCYMwwpX"
      },
      "outputs": [],
      "source": [
        "all_tweets = deque()\n",
        "NUM_OF_TWEETS_SCRAPE = 1000\n",
        "ids_with_error = list()\n",
        "batch_size = 20\n",
        "\n",
        "for u_id_idx in range(0, len(twitter_unique_id), batch_size):\n",
        "    u_ids_batch = twitter_unique_id[u_id_idx : u_id_idx + batch_size]\n",
        "    \n",
        "    for i in trange(batch_size):\n",
        "        u_id = u_ids_batch[i]\n",
        "        \n",
        "        # If there are any errors, totally ignore that\n",
        "        try:\n",
        "            for num, tweet in enumerate(twitter.TwitterUserScraper(u_id).get_items()):\n",
        "                all_tweets.append([\n",
        "                    tweet.date, \n",
        "                    u_id, \n",
        "                    tweet.user.username,\n",
        "                    tweet.rawContent\n",
        "                ])\n",
        "                if num == NUM_OF_TWEETS_SCRAPE - 1:\n",
        "                    break\n",
        "        except:\n",
        "            ids_with_error.append( u_id )\n",
        "            continue\n",
        "\n",
        "    print(f\"\\nFinished scraping {u_id_idx + batch_size} number of users\")\n",
        "    print(f\"Length of all_tweets is {len(all_tweets)}\")\n",
        "    all_tweets = pd.DataFrame(all_tweets, \n",
        "                     columns = [\n",
        "                         \"date\",\n",
        "                         \"user_id\",\n",
        "                         \"username\",\n",
        "                         \"tweet\",\n",
        "                     ])\n",
        "    \n",
        "    part_no = u_id_idx // batch_size\n",
        "        \n",
        "    all_tweets.to_pickle(f\"{PROJECT_DIRECTORY}tweets_df_part{part_no}.pkl\")\n",
        "    all_tweets = deque()\n"
      ]
    },
    {
      "cell_type": "code",
      "source": [
        "# Code to combine all the parts of user tweets scraped.\n",
        "\n",
        "files_path = glob(f\"{PROJECT_DIRECTORY}/tweets_df_part*.pkl\")\n",
        "\n",
        "tweeter_df = pd.DataFrame()\n",
        "\n",
        "# joining all the pickle files and creating one dataframe\n",
        "for p in files_path:\n",
        "    tweeter_df = pd.concat([\n",
        "        tweeter_df,        \n",
        "        pd.read_pickle( p )   ], \n",
        "        \n",
        "    ignore_index=True\n",
        "    )\n"
      ],
      "metadata": {
        "id": "K1tmLpCpb1eI"
      },
      "execution_count": null,
      "outputs": []
    },
    {
      "cell_type": "markdown",
      "source": [
        "## 1.2 Preprocessing the Tweets"
      ],
      "metadata": {
        "id": "_eUPNZ41AsJS"
      }
    },
    {
      "cell_type": "markdown",
      "source": [
        "### OBSERVATION\n",
        "- There are many tweets that are not in English language. We keep ourselves limited to only English language\n",
        "- There are also emoticons that are used extensively to express emotions and maybe for simple decorative purposes.\n",
        "\n",
        "### Decisions\n",
        "- We remove other language tweets\n",
        "- Emoticons are removed as GPT2 does not have vocabulary of emoticons"
      ],
      "metadata": {
        "id": "xYmWaVrK2OQW"
      }
    },
    {
      "cell_type": "code",
      "source": [
        "# Taking a look at the data scraped.\n",
        "\n",
        "tweeter_df.head()"
      ],
      "metadata": {
        "colab": {
          "base_uri": "https://localhost:8080/",
          "height": 206
        },
        "id": "iEaJleS1dASE",
        "outputId": "14aa27cb-4910-45ef-d6f1-076c655fbfb7"
      },
      "execution_count": null,
      "outputs": [
        {
          "output_type": "execute_result",
          "data": {
            "text/plain": [
              "                       date    user_id       username  \\\n",
              "0 2022-11-27 00:17:22+00:00  789856765  cuervotinelli   \n",
              "1 2022-11-27 00:12:27+00:00  789856765  cuervotinelli   \n",
              "2 2022-11-27 00:04:51+00:00  789856765  cuervotinelli   \n",
              "3 2022-11-24 09:54:44+00:00  789856765  cuervotinelli   \n",
              "4 2022-10-22 22:59:45+00:00  789856765  cuervotinelli   \n",
              "\n",
              "                                               tweet  \n",
              "0                             Los amoooooo❤️⚽️⚽️💪🏻🇦🇷  \n",
              "1  QUE GOLAZO POR DIOS!! VAMOS ARGENTINA CARAJOOO...  \n",
              "2  Impresionante. Vamoooooos ARGENTINA CARAJOOOO⚽...  \n",
              "3  Jajajajajaja noooooo. No mientan amigos. Estoy...  \n",
              "4  Gracias por la aclaración. https://t.co/LoJxXv...  "
            ],
            "text/html": [
              "\n",
              "  <div id=\"df-5328ba83-bd63-4e17-9a6c-19fb225a1d78\">\n",
              "    <div class=\"colab-df-container\">\n",
              "      <div>\n",
              "<style scoped>\n",
              "    .dataframe tbody tr th:only-of-type {\n",
              "        vertical-align: middle;\n",
              "    }\n",
              "\n",
              "    .dataframe tbody tr th {\n",
              "        vertical-align: top;\n",
              "    }\n",
              "\n",
              "    .dataframe thead th {\n",
              "        text-align: right;\n",
              "    }\n",
              "</style>\n",
              "<table border=\"1\" class=\"dataframe\">\n",
              "  <thead>\n",
              "    <tr style=\"text-align: right;\">\n",
              "      <th></th>\n",
              "      <th>date</th>\n",
              "      <th>user_id</th>\n",
              "      <th>username</th>\n",
              "      <th>tweet</th>\n",
              "    </tr>\n",
              "  </thead>\n",
              "  <tbody>\n",
              "    <tr>\n",
              "      <th>0</th>\n",
              "      <td>2022-11-27 00:17:22+00:00</td>\n",
              "      <td>789856765</td>\n",
              "      <td>cuervotinelli</td>\n",
              "      <td>Los amoooooo❤️⚽️⚽️💪🏻🇦🇷</td>\n",
              "    </tr>\n",
              "    <tr>\n",
              "      <th>1</th>\n",
              "      <td>2022-11-27 00:12:27+00:00</td>\n",
              "      <td>789856765</td>\n",
              "      <td>cuervotinelli</td>\n",
              "      <td>QUE GOLAZO POR DIOS!! VAMOS ARGENTINA CARAJOOO...</td>\n",
              "    </tr>\n",
              "    <tr>\n",
              "      <th>2</th>\n",
              "      <td>2022-11-27 00:04:51+00:00</td>\n",
              "      <td>789856765</td>\n",
              "      <td>cuervotinelli</td>\n",
              "      <td>Impresionante. Vamoooooos ARGENTINA CARAJOOOO⚽...</td>\n",
              "    </tr>\n",
              "    <tr>\n",
              "      <th>3</th>\n",
              "      <td>2022-11-24 09:54:44+00:00</td>\n",
              "      <td>789856765</td>\n",
              "      <td>cuervotinelli</td>\n",
              "      <td>Jajajajajaja noooooo. No mientan amigos. Estoy...</td>\n",
              "    </tr>\n",
              "    <tr>\n",
              "      <th>4</th>\n",
              "      <td>2022-10-22 22:59:45+00:00</td>\n",
              "      <td>789856765</td>\n",
              "      <td>cuervotinelli</td>\n",
              "      <td>Gracias por la aclaración. https://t.co/LoJxXv...</td>\n",
              "    </tr>\n",
              "  </tbody>\n",
              "</table>\n",
              "</div>\n",
              "      <button class=\"colab-df-convert\" onclick=\"convertToInteractive('df-5328ba83-bd63-4e17-9a6c-19fb225a1d78')\"\n",
              "              title=\"Convert this dataframe to an interactive table.\"\n",
              "              style=\"display:none;\">\n",
              "        \n",
              "  <svg xmlns=\"http://www.w3.org/2000/svg\" height=\"24px\"viewBox=\"0 0 24 24\"\n",
              "       width=\"24px\">\n",
              "    <path d=\"M0 0h24v24H0V0z\" fill=\"none\"/>\n",
              "    <path d=\"M18.56 5.44l.94 2.06.94-2.06 2.06-.94-2.06-.94-.94-2.06-.94 2.06-2.06.94zm-11 1L8.5 8.5l.94-2.06 2.06-.94-2.06-.94L8.5 2.5l-.94 2.06-2.06.94zm10 10l.94 2.06.94-2.06 2.06-.94-2.06-.94-.94-2.06-.94 2.06-2.06.94z\"/><path d=\"M17.41 7.96l-1.37-1.37c-.4-.4-.92-.59-1.43-.59-.52 0-1.04.2-1.43.59L10.3 9.45l-7.72 7.72c-.78.78-.78 2.05 0 2.83L4 21.41c.39.39.9.59 1.41.59.51 0 1.02-.2 1.41-.59l7.78-7.78 2.81-2.81c.8-.78.8-2.07 0-2.86zM5.41 20L4 18.59l7.72-7.72 1.47 1.35L5.41 20z\"/>\n",
              "  </svg>\n",
              "      </button>\n",
              "      \n",
              "  <style>\n",
              "    .colab-df-container {\n",
              "      display:flex;\n",
              "      flex-wrap:wrap;\n",
              "      gap: 12px;\n",
              "    }\n",
              "\n",
              "    .colab-df-convert {\n",
              "      background-color: #E8F0FE;\n",
              "      border: none;\n",
              "      border-radius: 50%;\n",
              "      cursor: pointer;\n",
              "      display: none;\n",
              "      fill: #1967D2;\n",
              "      height: 32px;\n",
              "      padding: 0 0 0 0;\n",
              "      width: 32px;\n",
              "    }\n",
              "\n",
              "    .colab-df-convert:hover {\n",
              "      background-color: #E2EBFA;\n",
              "      box-shadow: 0px 1px 2px rgba(60, 64, 67, 0.3), 0px 1px 3px 1px rgba(60, 64, 67, 0.15);\n",
              "      fill: #174EA6;\n",
              "    }\n",
              "\n",
              "    [theme=dark] .colab-df-convert {\n",
              "      background-color: #3B4455;\n",
              "      fill: #D2E3FC;\n",
              "    }\n",
              "\n",
              "    [theme=dark] .colab-df-convert:hover {\n",
              "      background-color: #434B5C;\n",
              "      box-shadow: 0px 1px 3px 1px rgba(0, 0, 0, 0.15);\n",
              "      filter: drop-shadow(0px 1px 2px rgba(0, 0, 0, 0.3));\n",
              "      fill: #FFFFFF;\n",
              "    }\n",
              "  </style>\n",
              "\n",
              "      <script>\n",
              "        const buttonEl =\n",
              "          document.querySelector('#df-5328ba83-bd63-4e17-9a6c-19fb225a1d78 button.colab-df-convert');\n",
              "        buttonEl.style.display =\n",
              "          google.colab.kernel.accessAllowed ? 'block' : 'none';\n",
              "\n",
              "        async function convertToInteractive(key) {\n",
              "          const element = document.querySelector('#df-5328ba83-bd63-4e17-9a6c-19fb225a1d78');\n",
              "          const dataTable =\n",
              "            await google.colab.kernel.invokeFunction('convertToInteractive',\n",
              "                                                     [key], {});\n",
              "          if (!dataTable) return;\n",
              "\n",
              "          const docLinkHtml = 'Like what you see? Visit the ' +\n",
              "            '<a target=\"_blank\" href=https://colab.research.google.com/notebooks/data_table.ipynb>data table notebook</a>'\n",
              "            + ' to learn more about interactive tables.';\n",
              "          element.innerHTML = '';\n",
              "          dataTable['output_type'] = 'display_data';\n",
              "          await google.colab.output.renderOutput(dataTable, element);\n",
              "          const docLink = document.createElement('div');\n",
              "          docLink.innerHTML = docLinkHtml;\n",
              "          element.appendChild(docLink);\n",
              "        }\n",
              "      </script>\n",
              "    </div>\n",
              "  </div>\n",
              "  "
            ]
          },
          "metadata": {},
          "execution_count": 59
        }
      ]
    },
    {
      "cell_type": "code",
      "source": [
        "# The total number of tweets in the data.\n",
        "\n",
        "tweeter_df.shape"
      ],
      "metadata": {
        "colab": {
          "base_uri": "https://localhost:8080/"
        },
        "id": "WYFGg73ZdDLu",
        "outputId": "708eed08-0ea9-47a5-c2e5-b21e6e4057b5"
      },
      "execution_count": null,
      "outputs": [
        {
          "output_type": "execute_result",
          "data": {
            "text/plain": [
              "(486127, 4)"
            ]
          },
          "metadata": {},
          "execution_count": 6
        }
      ]
    },
    {
      "cell_type": "markdown",
      "source": [
        "Number of tweets for each user"
      ],
      "metadata": {
        "id": "xBbfQKsd4o64"
      }
    },
    {
      "cell_type": "code",
      "source": [
        "# Top tweeterattis\n",
        "\n",
        "tweeter_df['username'].value_counts()[:20]"
      ],
      "metadata": {
        "colab": {
          "base_uri": "https://localhost:8080/"
        },
        "id": "ArjVTwQFdLt5",
        "outputId": "153f0630-a1ae-47b0-b5fd-8c605b4587a2"
      },
      "execution_count": null,
      "outputs": [
        {
          "output_type": "execute_result",
          "data": {
            "text/plain": [
              "cuervotinelli      1000\n",
              "AdelAliBinAli      1000\n",
              "ShawnMendes        1000\n",
              "amrdiab            1000\n",
              "SandraDewi88       1000\n",
              "RevRunWisdom       1000\n",
              "NoelSchajris       1000\n",
              "wisinyyandel       1000\n",
              "neiltyson          1000\n",
              "DONOMAR            1000\n",
              "luckymanzano       1000\n",
              "SalehAlmoghamsy    1000\n",
              "micheltelo         1000\n",
              "MarceloM12         1000\n",
              "gadelmaleh         1000\n",
              "imdanielpadilla    1000\n",
              "IrfanBachdim10     1000\n",
              "iamjamiefoxx       1000\n",
              "CP3                1000\n",
              "MonsieurDream      1000\n",
              "Name: username, dtype: int64"
            ]
          },
          "metadata": {},
          "execution_count": 13
        }
      ]
    },
    {
      "cell_type": "code",
      "source": [
        "# Function to clean out the unwanted elements in the dataframe.\n",
        "\n",
        "def clean_data(dataframe):\n",
        "    '''\n",
        "    Input = DataFrame of tweets\n",
        "    Operations: for each tweet\n",
        "    - Convert to lowercase\n",
        "    - Removes URLs\n",
        "    - Remove punctuations, emoticons and newline characters\n",
        "    Returns dataframe with all the operations performed\n",
        "    '''\n",
        "    new_df = dataframe.copy()\n",
        "    new_df = new_df.str.lower()\n",
        "    \n",
        "    for i in range(len(new_df)):\n",
        "      \n",
        "      # Removing URLs\n",
        "      new_df.loc[i] = re.sub(r\"http\\S+\",\"\", new_df.loc[i])\n",
        "\n",
        "      # Removing NewLine Characters\n",
        "      new_df.loc[i] = re.sub(\"\\n\",\"\", new_df.loc[i])\n",
        "\n",
        "      # Removing punctuations and numbers\n",
        "      new_df.loc[i] = re.sub(\"[^\\w\\s]+\",\"\", new_df.loc[i])\n",
        "    \n",
        "    return new_df"
      ],
      "metadata": {
        "id": "d0OSIDQreBsK"
      },
      "execution_count": null,
      "outputs": []
    },
    {
      "cell_type": "code",
      "source": [
        "tweeter_df['tweet'] = clean_data(tweeter_df['tweet'])\n",
        "tweeter_df['tweet'].head()"
      ],
      "metadata": {
        "colab": {
          "base_uri": "https://localhost:8080/"
        },
        "id": "9w4Xv6EGgjqQ",
        "outputId": "0976754f-9831-41da-a4da-5969843a78f1"
      },
      "execution_count": null,
      "outputs": [
        {
          "output_type": "execute_result",
          "data": {
            "text/plain": [
              "0                                         los amoooooo\n",
              "1         que golazo por dios vamos argentina carajooo\n",
              "2         impresionante vamoooooos argentina carajoooo\n",
              "3    jajajajajaja noooooo no mientan amigos estoy s...\n",
              "4                           gracias por la aclaración \n",
              "Name: tweet, dtype: object"
            ]
          },
          "metadata": {},
          "execution_count": 68
        }
      ]
    },
    {
      "cell_type": "markdown",
      "source": [
        "## 1.2.1 Filtering the user tweets based on language and length"
      ],
      "metadata": {
        "id": "A-z8raKmBHYp"
      }
    },
    {
      "cell_type": "code",
      "source": [
        "# Selecting users who tweet in English-Only.\n",
        "\n",
        "Needed_users = ['CalvinHarris', 'richardbranson', 'ciara',\n",
        "       'SteveMartinToGo', 'ZooeyDeschanel', 'KELLYROWLAND', 'Fearnecotton',\n",
        "       'rioferdy5', 'FloydMayweather', 'katyperry', 'justinbieber', 'taylorswift13',\n",
        "       'rihanna', 'ladygaga', 'jtimberlake', 'TheEllenShow',\n",
        "       'britneyspears', 'KimKardashian', 'shakira',\n",
        "       'selenagomez', 'JLo', 'ddlovato', 'jimmyfallon', 'Oprah', 'Pink',\n",
        "       'Drake', 'Harry_Styles', 'onedirection', 'BillGates', 'KingJames',\n",
        "       'LilTunechi', 'BrunoMars', 'KAKA', 'Adele', 'NiallOfficial',\n",
        "       'MileyCyrus', 'aliciakeys', 'KevinHart4real', 'wizkhalifa',\n",
        "       'pitbull', 'Louis_Tomlinson', 'NICKIMINAJ', 'Eminem',\n",
        "       'AvrilLavigne', 'ActuallyNPH', 'danieltosh', 'davidguetta',\n",
        "       'ConanOBrien', 'SrBachchan', 'aplusk', 'khloekardashian',\n",
        "       'kourtneykardash', 'zaynmalik', 'iamsrk', 'coldplay',\n",
        "       'MariahCarey', 'edsheeran', 'JimCarrey', 'chrisbrown',\n",
        "       'BeingSalmanKhan', 'LeoDiCaprio', 'ParisHilton',\n",
        "       'iamwill',  'KendallJenner', 'ashleytisdale',\n",
        "       'SnoopDogg', 'SimonCowell', 'WayneRooney', 'KDTrey5', 'maroon5',\n",
        "       'KylieJenner','deepikapadukone', 'charliesheen','iHrithik', 'priyankachopra',\n",
        "       'ZacEfron', 'carlyraejepsen', 'rustyrockets','Ludacris',\n",
        "       'SHAQ', 'tomhanks', 'Usher', 'akshaykumar', 'rickygervais','nickjonas', 'TheRock',\n",
        "       'StephenAtHome', 'VictoriaJustice','lindsaylohan', 'arrahman', 'AustinMahone', 'victoriabeckham',\n",
        "       'TreySongz', 'SofiaVergara', 'jessicaalba', 'realwbonner', 'imVkohli', 'JessieJ',\n",
        "       'annecurtissmith', 'sachin_rt','SethMacFarlane', 'thalia', 'MarcAnthony',\n",
        "       '50cent', 'Pharrell', 'joejonas', 'BigSean', \n",
        "       '5SOS', 'kobebryant', 'davidbisbal', 'juniorbachchan', 'Tatawerneck', 'channingtatum',\n",
        "       'Persie_Official', 'sonamakapoor', 'CodySimpson',\n",
        "       'GarethBale11', 'JohnCena', 'JColeNC','MirandaCosgrove', \n",
        "       'johnlegend', 'EvaLongoria','CherLloyd', 'JessicaSimpson', 'NancyAjram', 'SpiderAnderson',\n",
        "       'montanertwiter', 'LittleMix', 'carmeloanthony', 'SarahKSilverman',\n",
        "       'shahidkapoor', 'Tyga', 'ChespiritoRGB', 'snooki', 'FarOutAkhtar',\n",
        "       'jennettemccurdy','bellathorne', 'hollywills', 'Tip', 'PerezHilton', 'DwightHoward',\n",
        "       'CHAYANNEMUSIC', 'aliaa08', 'Zendaya', 'DulceMaria', 'iansomerhalder', 'KrisJenner',\n",
        "       'jimmykimmel', 'RealHughJackman', 'IGGYAZALEA', 'AnushkaSharma', 'robkardashian', 'Akon',\n",
        "       'ninadobrev','SonakshiSinha', 'chetan_bhagat', 'Calum5SOS', 'CH14_', 'jk_rowling', 'official_flo',\n",
        "       'chelseahandler', 'atademirer', 'ScottDisick', 'CherylOfficial',\n",
        "       'ParineetiChopra', 'RobertDowneyJr','jimmycarr', 'TomCruise', 'kendricklamar', 'serenawilliams',\n",
        "       'Residente', 'adamlevine', 'CarlosLoret', 'JeremyClarkson',\n",
        "       'ahickmann', 'VanessaHudgens', 'JKCorden', 'Michael5SOS', 'elliegoulding', 'camerondallas',\n",
        "       'raisa6690', 'lilyallen', 'AnupamPKher', 'MichelleObama', 'maryjblige', 'oserginho',\n",
        "       'justdemi', 'bernardokath', 'SamuelLJackson', 'NicoleScherzy',\n",
        "       'bep', 'okanbayulgen', 'amrkhaled', 'MeekMill',\n",
        "       'antanddec', 'RitaOra', 'lulopilato', 'Fiuk', 'NickCannon',\n",
        "       'bepe20s', 'SandyLeah', 'mirandalambert', 'Angelluisr',\n",
        "       'Nashgrier', 'bclsinclair', 'DemetAkalin', 'YengPLUGGEDin',\n",
        "       'mindykaling', 'MacMiller', 'D_DeGea', 'juanmata8', 'TigerWoods',\n",
        "       'MikeTyson', 'LennyKravitz', 'kevinjonas', 'DwyaneWade',\n",
        "       'nicolerichie', 'linkinpark', 'HilaryDuff', 'ImRaina',\n",
        "       'RNTata2000', 'ariyoshihiroiki', 'IBGDRGN', 'AnnaKendrick47',\n",
        "       'wossy', 'lucyhale', 'bridgitmendler', 'donghae861015',\n",
        "       'JohnCleese', 'souljaboy', 'PrinceRoyce', 'carrieunderwood',\n",
        "       'jesseyjoy', 'yokoono', 'olla_ramlan', 'DjokerNole', 'gabyespino',\n",
        "       'Bellaudyaa', 'tyleroakley', 'johngreen', 'BillSimmons',\n",
        "       'llcoolj', 'facufacundo', 'iamsuperbianca',\n",
        "       'msdhoni', 'piersmorgan', 'Skrillex', 'virendersehwag',\n",
        "       'gitagut', 'Lord_Sugar', 'MonsieurDream', 'CP3',\n",
        "       'iamjamiefoxx', 'IrfanBachdim10', 'kc_concepcion',\n",
        "       'imdanielpadilla', 'gadelmaleh', 'micheltelo',\n",
        "       'SalehAlmoghamsy', 'luckymanzano', 'DONOMAR', 'SteveCarell',\n",
        "       'neiltyson', 'wisinyyandel', 'NoelSchajris', 'RevRunWisdom',\n",
        "       'SandraDewi88', 'amrdiab', 'ShawnMendes', 'syntekoficial',\n",
        "       'AdelAliBinAli', 'polo_polo', 'GloriaTrevi', 'TheVijayMallya',\n",
        "       'Ashton5SOS', 'Wale', 'ChinoyNacho', 'Riteishd', 'PretaGil',\n",
        "       'TomCavalcante1', 'RandyOrton', 'djkingassassin', 'gadiiing',\n",
        "       'DJPaulyD', 'KevinSpacey', 'OzzyOsbourne', 'AdamSchefter', 'GaryLineker', 'VhongX44',\n",
        "       'JordinSparks', 'rainnwilson', 'QueenRania', 'hulyavsar', 'najwakaram',\n",
        "       'DebbouzeJamel', 'ajaydevgn', 'indrabektiasli',\n",
        "       'MirandaKerr', 'fayez_malki', 'angelicaksy', 'GaryBarlow',\n",
        "       'TheShilpaShetty', 'aristeguicnn', 'BillCosby', 'tonyhawk',\n",
        "       'noaheverett', 'AndreaLegarreta', 'tylerperry', 'julietav',\n",
        "       'bipsluvurself', 'psy_oppa', 'Caradelevingne', 'Nelly_Mo',\n",
        "       'KellyOsbourne', 'YordiRosado', 'eddieizzard', \n",
        "       'cuneytozdemir', 'JoelOsteen', 'dylanobrien', 'diegotorres',\n",
        "       'KeriHilson', 'realpreityzinta', 'rogerfederer',\n",
        "       'GreenDay','carlosvives', 'jackwhitehall', 'alyankovic', 'alexoficial', 'MaiteOficial', 'shreyaghoshal',\n",
        "       'LAURAGII', 'wyclef', 'scooterbraun', 'Adela_Micha', 'tiesto', 'paramore',\n",
        "       'apriliokevin', 'AshBenzo', 'urgantcom', 'NormanDesVideos',\n",
        "       'iyavillania', 'usainbolt', 'lancearmstrong', 'paulwesley',\n",
        "       'LuisChataing', 'paulpierce34', 'hitRECordJoe',\n",
        "       'MadhuriDixit', 'IAMJHUD', 'mcuban', 'DrOz','belindapop', 'JoyceMeyer', 'ValeYellow46', 'Poconggg',\n",
        "       'jimjonescapo','joelmchale', 'jaimecamil', 'acunilicali', 'alinebarros',\n",
        "       'OfficialWillow', 'ahmethc', 'bigtimerush', 'Schofe', 'pamyurin', 'EmilyOsment',\n",
        "       'samuelmilby', 'FinallyMario', 'DollyParton', 'ChrisMoyles',\n",
        "       'BradPaisley', 'FrancoDVita', 'HaifaWehbe', 'DannyDeVito',\n",
        "       'robdyrdek', 'JENNIWOWW', 'mangeshkarlata', 'PaulaFernandes7',\n",
        "       'PrincesSyahrini', 'jasonderulo', 'zoetheband', 'brunogagliasso',\n",
        "       'Schwarzenegger', 'BruMarquezine', 'JoshDevineDrums',\n",
        "       'KeshaRose', 'UncleRUSH', 'JakeTAustin',\n",
        "       'officialtulisa', 'EleanorJCalder', 'ochocinco', 'chrisrock',\n",
        "       'SeanKingston', 'brozoxmiswebs', 'MuratBoz',\n",
        "       'vjdaniel', 'amandabynes', 'FePaesLeme', 'jessicacediel',\n",
        "       'ANAMARIABRAGA', 'MCHammer', 'giseleofficial', 'Fergie',\n",
        "       'dumbassgenius', 'mrsayudewi', 'battalalgoos', 'NellyFurtado',\n",
        "       'kuyakim_atienza', 'nikkigil', 'maddow', 'questlove', 'ErikaDLV',\n",
        "       'RomeoSantosPage', 'YUVSTRONG12', 'TravieMcCoy']"
      ],
      "metadata": {
        "id": "c742qtaKjcqK"
      },
      "execution_count": null,
      "outputs": []
    },
    {
      "cell_type": "code",
      "source": [
        "final_tweets = tweeter_df[tweeter_df['username'].isin(Needed_users)]\n",
        "final_tweets.head()"
      ],
      "metadata": {
        "colab": {
          "base_uri": "https://localhost:8080/",
          "height": 206
        },
        "id": "KYIcc_63iG5A",
        "outputId": "0f69616a-e9e9-4391-c351-88138044aa6f"
      },
      "execution_count": null,
      "outputs": [
        {
          "output_type": "execute_result",
          "data": {
            "text/plain": [
              "                          date   user_id        username  \\\n",
              "2000 2022-11-04 23:59:03+00:00  66561957  ZooeyDeschanel   \n",
              "2001 2022-09-02 19:15:40+00:00  66561957  ZooeyDeschanel   \n",
              "2002 2022-08-31 20:17:23+00:00  66561957  ZooeyDeschanel   \n",
              "2003 2022-08-29 19:12:45+00:00  66561957  ZooeyDeschanel   \n",
              "2004 2022-08-26 18:56:46+00:00  66561957  ZooeyDeschanel   \n",
              "\n",
              "                                                  tweet  \n",
              "2000  i love this entire conversation  im donating n...  \n",
              "2001  currently in denial that it isnt long sleeve w...  \n",
              "2002  summer is almost over and im sorry to say we s...  \n",
              "2003             a week in the wild west with my herd    \n",
              "2004             bananagrams or scrabble choose wisely   "
            ],
            "text/html": [
              "\n",
              "  <div id=\"df-da54fa62-6d4a-4d00-8249-fe3be139284d\">\n",
              "    <div class=\"colab-df-container\">\n",
              "      <div>\n",
              "<style scoped>\n",
              "    .dataframe tbody tr th:only-of-type {\n",
              "        vertical-align: middle;\n",
              "    }\n",
              "\n",
              "    .dataframe tbody tr th {\n",
              "        vertical-align: top;\n",
              "    }\n",
              "\n",
              "    .dataframe thead th {\n",
              "        text-align: right;\n",
              "    }\n",
              "</style>\n",
              "<table border=\"1\" class=\"dataframe\">\n",
              "  <thead>\n",
              "    <tr style=\"text-align: right;\">\n",
              "      <th></th>\n",
              "      <th>date</th>\n",
              "      <th>user_id</th>\n",
              "      <th>username</th>\n",
              "      <th>tweet</th>\n",
              "    </tr>\n",
              "  </thead>\n",
              "  <tbody>\n",
              "    <tr>\n",
              "      <th>2000</th>\n",
              "      <td>2022-11-04 23:59:03+00:00</td>\n",
              "      <td>66561957</td>\n",
              "      <td>ZooeyDeschanel</td>\n",
              "      <td>i love this entire conversation  im donating n...</td>\n",
              "    </tr>\n",
              "    <tr>\n",
              "      <th>2001</th>\n",
              "      <td>2022-09-02 19:15:40+00:00</td>\n",
              "      <td>66561957</td>\n",
              "      <td>ZooeyDeschanel</td>\n",
              "      <td>currently in denial that it isnt long sleeve w...</td>\n",
              "    </tr>\n",
              "    <tr>\n",
              "      <th>2002</th>\n",
              "      <td>2022-08-31 20:17:23+00:00</td>\n",
              "      <td>66561957</td>\n",
              "      <td>ZooeyDeschanel</td>\n",
              "      <td>summer is almost over and im sorry to say we s...</td>\n",
              "    </tr>\n",
              "    <tr>\n",
              "      <th>2003</th>\n",
              "      <td>2022-08-29 19:12:45+00:00</td>\n",
              "      <td>66561957</td>\n",
              "      <td>ZooeyDeschanel</td>\n",
              "      <td>a week in the wild west with my herd</td>\n",
              "    </tr>\n",
              "    <tr>\n",
              "      <th>2004</th>\n",
              "      <td>2022-08-26 18:56:46+00:00</td>\n",
              "      <td>66561957</td>\n",
              "      <td>ZooeyDeschanel</td>\n",
              "      <td>bananagrams or scrabble choose wisely</td>\n",
              "    </tr>\n",
              "  </tbody>\n",
              "</table>\n",
              "</div>\n",
              "      <button class=\"colab-df-convert\" onclick=\"convertToInteractive('df-da54fa62-6d4a-4d00-8249-fe3be139284d')\"\n",
              "              title=\"Convert this dataframe to an interactive table.\"\n",
              "              style=\"display:none;\">\n",
              "        \n",
              "  <svg xmlns=\"http://www.w3.org/2000/svg\" height=\"24px\"viewBox=\"0 0 24 24\"\n",
              "       width=\"24px\">\n",
              "    <path d=\"M0 0h24v24H0V0z\" fill=\"none\"/>\n",
              "    <path d=\"M18.56 5.44l.94 2.06.94-2.06 2.06-.94-2.06-.94-.94-2.06-.94 2.06-2.06.94zm-11 1L8.5 8.5l.94-2.06 2.06-.94-2.06-.94L8.5 2.5l-.94 2.06-2.06.94zm10 10l.94 2.06.94-2.06 2.06-.94-2.06-.94-.94-2.06-.94 2.06-2.06.94z\"/><path d=\"M17.41 7.96l-1.37-1.37c-.4-.4-.92-.59-1.43-.59-.52 0-1.04.2-1.43.59L10.3 9.45l-7.72 7.72c-.78.78-.78 2.05 0 2.83L4 21.41c.39.39.9.59 1.41.59.51 0 1.02-.2 1.41-.59l7.78-7.78 2.81-2.81c.8-.78.8-2.07 0-2.86zM5.41 20L4 18.59l7.72-7.72 1.47 1.35L5.41 20z\"/>\n",
              "  </svg>\n",
              "      </button>\n",
              "      \n",
              "  <style>\n",
              "    .colab-df-container {\n",
              "      display:flex;\n",
              "      flex-wrap:wrap;\n",
              "      gap: 12px;\n",
              "    }\n",
              "\n",
              "    .colab-df-convert {\n",
              "      background-color: #E8F0FE;\n",
              "      border: none;\n",
              "      border-radius: 50%;\n",
              "      cursor: pointer;\n",
              "      display: none;\n",
              "      fill: #1967D2;\n",
              "      height: 32px;\n",
              "      padding: 0 0 0 0;\n",
              "      width: 32px;\n",
              "    }\n",
              "\n",
              "    .colab-df-convert:hover {\n",
              "      background-color: #E2EBFA;\n",
              "      box-shadow: 0px 1px 2px rgba(60, 64, 67, 0.3), 0px 1px 3px 1px rgba(60, 64, 67, 0.15);\n",
              "      fill: #174EA6;\n",
              "    }\n",
              "\n",
              "    [theme=dark] .colab-df-convert {\n",
              "      background-color: #3B4455;\n",
              "      fill: #D2E3FC;\n",
              "    }\n",
              "\n",
              "    [theme=dark] .colab-df-convert:hover {\n",
              "      background-color: #434B5C;\n",
              "      box-shadow: 0px 1px 3px 1px rgba(0, 0, 0, 0.15);\n",
              "      filter: drop-shadow(0px 1px 2px rgba(0, 0, 0, 0.3));\n",
              "      fill: #FFFFFF;\n",
              "    }\n",
              "  </style>\n",
              "\n",
              "      <script>\n",
              "        const buttonEl =\n",
              "          document.querySelector('#df-da54fa62-6d4a-4d00-8249-fe3be139284d button.colab-df-convert');\n",
              "        buttonEl.style.display =\n",
              "          google.colab.kernel.accessAllowed ? 'block' : 'none';\n",
              "\n",
              "        async function convertToInteractive(key) {\n",
              "          const element = document.querySelector('#df-da54fa62-6d4a-4d00-8249-fe3be139284d');\n",
              "          const dataTable =\n",
              "            await google.colab.kernel.invokeFunction('convertToInteractive',\n",
              "                                                     [key], {});\n",
              "          if (!dataTable) return;\n",
              "\n",
              "          const docLinkHtml = 'Like what you see? Visit the ' +\n",
              "            '<a target=\"_blank\" href=https://colab.research.google.com/notebooks/data_table.ipynb>data table notebook</a>'\n",
              "            + ' to learn more about interactive tables.';\n",
              "          element.innerHTML = '';\n",
              "          dataTable['output_type'] = 'display_data';\n",
              "          await google.colab.output.renderOutput(dataTable, element);\n",
              "          const docLink = document.createElement('div');\n",
              "          docLink.innerHTML = docLinkHtml;\n",
              "          element.appendChild(docLink);\n",
              "        }\n",
              "      </script>\n",
              "    </div>\n",
              "  </div>\n",
              "  "
            ]
          },
          "metadata": {},
          "execution_count": 69
        }
      ]
    },
    {
      "cell_type": "code",
      "source": [
        "# Remanining unique users in the dataset.\n",
        "\n",
        "final_tweets['username'].nunique()"
      ],
      "metadata": {
        "colab": {
          "base_uri": "https://localhost:8080/"
        },
        "id": "W7RkyQjjqp-f",
        "outputId": "d69efdb8-7ec5-4e43-9e81-bf84c4aae63d"
      },
      "execution_count": null,
      "outputs": [
        {
          "output_type": "execute_result",
          "data": {
            "text/plain": [
              "415"
            ]
          },
          "metadata": {},
          "execution_count": 47
        }
      ]
    },
    {
      "cell_type": "code",
      "source": [
        "# Filtering the tweets finally based on no. of words being atleast 10.\n",
        "\n",
        "lengths_idx = [i for i in final_tweets.index if len(final_tweets['tweet'].loc[i].split(' '))>=10]\n",
        "\n",
        "final_df = final_tweets.loc[lengths_idx]\n",
        "final_df.head()"
      ],
      "metadata": {
        "colab": {
          "base_uri": "https://localhost:8080/",
          "height": 206
        },
        "id": "ZaV35y-srqB2",
        "outputId": "a21e1058-021a-4325-96e6-2ee51a7323cc"
      },
      "execution_count": null,
      "outputs": [
        {
          "output_type": "execute_result",
          "data": {
            "text/plain": [
              "                          date   user_id        username  \\\n",
              "2000 2022-11-04 23:59:03+00:00  66561957  ZooeyDeschanel   \n",
              "2001 2022-09-02 19:15:40+00:00  66561957  ZooeyDeschanel   \n",
              "2002 2022-08-31 20:17:23+00:00  66561957  ZooeyDeschanel   \n",
              "2003 2022-08-29 19:12:45+00:00  66561957  ZooeyDeschanel   \n",
              "2005 2022-08-24 19:07:57+00:00  66561957  ZooeyDeschanel   \n",
              "\n",
              "                                                  tweet  \n",
              "2000  i love this entire conversation  im donating n...  \n",
              "2001  currently in denial that it isnt long sleeve w...  \n",
              "2002  summer is almost over and im sorry to say we s...  \n",
              "2003             a week in the wild west with my herd    \n",
              "2005  when in doubt hang out in your bathtub for som...  "
            ],
            "text/html": [
              "\n",
              "  <div id=\"df-e8cf2c77-f790-4e4c-8037-2754d1c03d21\">\n",
              "    <div class=\"colab-df-container\">\n",
              "      <div>\n",
              "<style scoped>\n",
              "    .dataframe tbody tr th:only-of-type {\n",
              "        vertical-align: middle;\n",
              "    }\n",
              "\n",
              "    .dataframe tbody tr th {\n",
              "        vertical-align: top;\n",
              "    }\n",
              "\n",
              "    .dataframe thead th {\n",
              "        text-align: right;\n",
              "    }\n",
              "</style>\n",
              "<table border=\"1\" class=\"dataframe\">\n",
              "  <thead>\n",
              "    <tr style=\"text-align: right;\">\n",
              "      <th></th>\n",
              "      <th>date</th>\n",
              "      <th>user_id</th>\n",
              "      <th>username</th>\n",
              "      <th>tweet</th>\n",
              "    </tr>\n",
              "  </thead>\n",
              "  <tbody>\n",
              "    <tr>\n",
              "      <th>2000</th>\n",
              "      <td>2022-11-04 23:59:03+00:00</td>\n",
              "      <td>66561957</td>\n",
              "      <td>ZooeyDeschanel</td>\n",
              "      <td>i love this entire conversation  im donating n...</td>\n",
              "    </tr>\n",
              "    <tr>\n",
              "      <th>2001</th>\n",
              "      <td>2022-09-02 19:15:40+00:00</td>\n",
              "      <td>66561957</td>\n",
              "      <td>ZooeyDeschanel</td>\n",
              "      <td>currently in denial that it isnt long sleeve w...</td>\n",
              "    </tr>\n",
              "    <tr>\n",
              "      <th>2002</th>\n",
              "      <td>2022-08-31 20:17:23+00:00</td>\n",
              "      <td>66561957</td>\n",
              "      <td>ZooeyDeschanel</td>\n",
              "      <td>summer is almost over and im sorry to say we s...</td>\n",
              "    </tr>\n",
              "    <tr>\n",
              "      <th>2003</th>\n",
              "      <td>2022-08-29 19:12:45+00:00</td>\n",
              "      <td>66561957</td>\n",
              "      <td>ZooeyDeschanel</td>\n",
              "      <td>a week in the wild west with my herd</td>\n",
              "    </tr>\n",
              "    <tr>\n",
              "      <th>2005</th>\n",
              "      <td>2022-08-24 19:07:57+00:00</td>\n",
              "      <td>66561957</td>\n",
              "      <td>ZooeyDeschanel</td>\n",
              "      <td>when in doubt hang out in your bathtub for som...</td>\n",
              "    </tr>\n",
              "  </tbody>\n",
              "</table>\n",
              "</div>\n",
              "      <button class=\"colab-df-convert\" onclick=\"convertToInteractive('df-e8cf2c77-f790-4e4c-8037-2754d1c03d21')\"\n",
              "              title=\"Convert this dataframe to an interactive table.\"\n",
              "              style=\"display:none;\">\n",
              "        \n",
              "  <svg xmlns=\"http://www.w3.org/2000/svg\" height=\"24px\"viewBox=\"0 0 24 24\"\n",
              "       width=\"24px\">\n",
              "    <path d=\"M0 0h24v24H0V0z\" fill=\"none\"/>\n",
              "    <path d=\"M18.56 5.44l.94 2.06.94-2.06 2.06-.94-2.06-.94-.94-2.06-.94 2.06-2.06.94zm-11 1L8.5 8.5l.94-2.06 2.06-.94-2.06-.94L8.5 2.5l-.94 2.06-2.06.94zm10 10l.94 2.06.94-2.06 2.06-.94-2.06-.94-.94-2.06-.94 2.06-2.06.94z\"/><path d=\"M17.41 7.96l-1.37-1.37c-.4-.4-.92-.59-1.43-.59-.52 0-1.04.2-1.43.59L10.3 9.45l-7.72 7.72c-.78.78-.78 2.05 0 2.83L4 21.41c.39.39.9.59 1.41.59.51 0 1.02-.2 1.41-.59l7.78-7.78 2.81-2.81c.8-.78.8-2.07 0-2.86zM5.41 20L4 18.59l7.72-7.72 1.47 1.35L5.41 20z\"/>\n",
              "  </svg>\n",
              "      </button>\n",
              "      \n",
              "  <style>\n",
              "    .colab-df-container {\n",
              "      display:flex;\n",
              "      flex-wrap:wrap;\n",
              "      gap: 12px;\n",
              "    }\n",
              "\n",
              "    .colab-df-convert {\n",
              "      background-color: #E8F0FE;\n",
              "      border: none;\n",
              "      border-radius: 50%;\n",
              "      cursor: pointer;\n",
              "      display: none;\n",
              "      fill: #1967D2;\n",
              "      height: 32px;\n",
              "      padding: 0 0 0 0;\n",
              "      width: 32px;\n",
              "    }\n",
              "\n",
              "    .colab-df-convert:hover {\n",
              "      background-color: #E2EBFA;\n",
              "      box-shadow: 0px 1px 2px rgba(60, 64, 67, 0.3), 0px 1px 3px 1px rgba(60, 64, 67, 0.15);\n",
              "      fill: #174EA6;\n",
              "    }\n",
              "\n",
              "    [theme=dark] .colab-df-convert {\n",
              "      background-color: #3B4455;\n",
              "      fill: #D2E3FC;\n",
              "    }\n",
              "\n",
              "    [theme=dark] .colab-df-convert:hover {\n",
              "      background-color: #434B5C;\n",
              "      box-shadow: 0px 1px 3px 1px rgba(0, 0, 0, 0.15);\n",
              "      filter: drop-shadow(0px 1px 2px rgba(0, 0, 0, 0.3));\n",
              "      fill: #FFFFFF;\n",
              "    }\n",
              "  </style>\n",
              "\n",
              "      <script>\n",
              "        const buttonEl =\n",
              "          document.querySelector('#df-e8cf2c77-f790-4e4c-8037-2754d1c03d21 button.colab-df-convert');\n",
              "        buttonEl.style.display =\n",
              "          google.colab.kernel.accessAllowed ? 'block' : 'none';\n",
              "\n",
              "        async function convertToInteractive(key) {\n",
              "          const element = document.querySelector('#df-e8cf2c77-f790-4e4c-8037-2754d1c03d21');\n",
              "          const dataTable =\n",
              "            await google.colab.kernel.invokeFunction('convertToInteractive',\n",
              "                                                     [key], {});\n",
              "          if (!dataTable) return;\n",
              "\n",
              "          const docLinkHtml = 'Like what you see? Visit the ' +\n",
              "            '<a target=\"_blank\" href=https://colab.research.google.com/notebooks/data_table.ipynb>data table notebook</a>'\n",
              "            + ' to learn more about interactive tables.';\n",
              "          element.innerHTML = '';\n",
              "          dataTable['output_type'] = 'display_data';\n",
              "          await google.colab.output.renderOutput(dataTable, element);\n",
              "          const docLink = document.createElement('div');\n",
              "          docLink.innerHTML = docLinkHtml;\n",
              "          element.appendChild(docLink);\n",
              "        }\n",
              "      </script>\n",
              "    </div>\n",
              "  </div>\n",
              "  "
            ]
          },
          "metadata": {},
          "execution_count": 83
        }
      ]
    },
    {
      "cell_type": "code",
      "source": [
        "# Saving this final dataframe.\n",
        "\n",
        "final_df.to_csv('/content/drive/MyDrive/AI_3_PROJECT_DEVANG/final_df.csv')"
      ],
      "metadata": {
        "id": "xdsIYzjBvXjm"
      },
      "execution_count": null,
      "outputs": []
    },
    {
      "cell_type": "markdown",
      "source": [
        "## 1.3 Creating the Model Pipeline"
      ],
      "metadata": {
        "id": "h7hwYPr3B0cB"
      }
    },
    {
      "cell_type": "code",
      "source": [
        "# READING THE CSV FILE\n",
        "\n",
        "if os.path.exists(\"/content/drive/MyDrive/final_df.csv\"):\n",
        "    preprocessed_all_data = pd.read_csv(\"/content/drive/MyDrive/final_df.csv\",\n",
        "            lineterminator='\\n',\n",
        "            index_col=[0]   ,\n",
        "            memory_map = True)\n",
        "elif os.path.exists(\"/content/drive/MyDrive/AI_3_PROJECT_DEVANG/final_df.csv\"):\n",
        "    preprocessed_all_data = pd.read_csv(\"/content/drive/MyDrive/AI_3_PROJECT_DEVANG/final_df.csv\",\n",
        "            lineterminator='\\n',\n",
        "            index_col=[0]   ,\n",
        "            memory_map = True)\n",
        "\n",
        "preprocessed_all_data.rename(columns={'tweet':'text'}, inplace=True)\n",
        "display(preprocessed_all_data.head())"
      ],
      "metadata": {
        "id": "QdFPw-O8cWC5",
        "colab": {
          "base_uri": "https://localhost:8080/",
          "height": 250
        },
        "outputId": "3ade21db-9a4e-4f0b-b85d-6607e75af498"
      },
      "execution_count": null,
      "outputs": [
        {
          "output_type": "display_data",
          "data": {
            "text/plain": [
              "                           date   user_id        username  \\\n",
              "2000  2022-11-04 23:59:03+00:00  66561957  ZooeyDeschanel   \n",
              "2001  2022-09-02 19:15:40+00:00  66561957  ZooeyDeschanel   \n",
              "2002  2022-08-31 20:17:23+00:00  66561957  ZooeyDeschanel   \n",
              "2003  2022-08-29 19:12:45+00:00  66561957  ZooeyDeschanel   \n",
              "2005  2022-08-24 19:07:57+00:00  66561957  ZooeyDeschanel   \n",
              "\n",
              "                                                   text  \n",
              "2000  i love this entire conversation  im donating n...  \n",
              "2001  currently in denial that it isnt long sleeve w...  \n",
              "2002  summer is almost over and im sorry to say we s...  \n",
              "2003             a week in the wild west with my herd    \n",
              "2005  when in doubt hang out in your bathtub for som...  "
            ],
            "text/html": [
              "\n",
              "  <div id=\"df-4e8705c3-b376-465f-b7ba-978725641a09\">\n",
              "    <div class=\"colab-df-container\">\n",
              "      <div>\n",
              "<style scoped>\n",
              "    .dataframe tbody tr th:only-of-type {\n",
              "        vertical-align: middle;\n",
              "    }\n",
              "\n",
              "    .dataframe tbody tr th {\n",
              "        vertical-align: top;\n",
              "    }\n",
              "\n",
              "    .dataframe thead th {\n",
              "        text-align: right;\n",
              "    }\n",
              "</style>\n",
              "<table border=\"1\" class=\"dataframe\">\n",
              "  <thead>\n",
              "    <tr style=\"text-align: right;\">\n",
              "      <th></th>\n",
              "      <th>date</th>\n",
              "      <th>user_id</th>\n",
              "      <th>username</th>\n",
              "      <th>text</th>\n",
              "    </tr>\n",
              "  </thead>\n",
              "  <tbody>\n",
              "    <tr>\n",
              "      <th>2000</th>\n",
              "      <td>2022-11-04 23:59:03+00:00</td>\n",
              "      <td>66561957</td>\n",
              "      <td>ZooeyDeschanel</td>\n",
              "      <td>i love this entire conversation  im donating n...</td>\n",
              "    </tr>\n",
              "    <tr>\n",
              "      <th>2001</th>\n",
              "      <td>2022-09-02 19:15:40+00:00</td>\n",
              "      <td>66561957</td>\n",
              "      <td>ZooeyDeschanel</td>\n",
              "      <td>currently in denial that it isnt long sleeve w...</td>\n",
              "    </tr>\n",
              "    <tr>\n",
              "      <th>2002</th>\n",
              "      <td>2022-08-31 20:17:23+00:00</td>\n",
              "      <td>66561957</td>\n",
              "      <td>ZooeyDeschanel</td>\n",
              "      <td>summer is almost over and im sorry to say we s...</td>\n",
              "    </tr>\n",
              "    <tr>\n",
              "      <th>2003</th>\n",
              "      <td>2022-08-29 19:12:45+00:00</td>\n",
              "      <td>66561957</td>\n",
              "      <td>ZooeyDeschanel</td>\n",
              "      <td>a week in the wild west with my herd</td>\n",
              "    </tr>\n",
              "    <tr>\n",
              "      <th>2005</th>\n",
              "      <td>2022-08-24 19:07:57+00:00</td>\n",
              "      <td>66561957</td>\n",
              "      <td>ZooeyDeschanel</td>\n",
              "      <td>when in doubt hang out in your bathtub for som...</td>\n",
              "    </tr>\n",
              "  </tbody>\n",
              "</table>\n",
              "</div>\n",
              "      <button class=\"colab-df-convert\" onclick=\"convertToInteractive('df-4e8705c3-b376-465f-b7ba-978725641a09')\"\n",
              "              title=\"Convert this dataframe to an interactive table.\"\n",
              "              style=\"display:none;\">\n",
              "        \n",
              "  <svg xmlns=\"http://www.w3.org/2000/svg\" height=\"24px\"viewBox=\"0 0 24 24\"\n",
              "       width=\"24px\">\n",
              "    <path d=\"M0 0h24v24H0V0z\" fill=\"none\"/>\n",
              "    <path d=\"M18.56 5.44l.94 2.06.94-2.06 2.06-.94-2.06-.94-.94-2.06-.94 2.06-2.06.94zm-11 1L8.5 8.5l.94-2.06 2.06-.94-2.06-.94L8.5 2.5l-.94 2.06-2.06.94zm10 10l.94 2.06.94-2.06 2.06-.94-2.06-.94-.94-2.06-.94 2.06-2.06.94z\"/><path d=\"M17.41 7.96l-1.37-1.37c-.4-.4-.92-.59-1.43-.59-.52 0-1.04.2-1.43.59L10.3 9.45l-7.72 7.72c-.78.78-.78 2.05 0 2.83L4 21.41c.39.39.9.59 1.41.59.51 0 1.02-.2 1.41-.59l7.78-7.78 2.81-2.81c.8-.78.8-2.07 0-2.86zM5.41 20L4 18.59l7.72-7.72 1.47 1.35L5.41 20z\"/>\n",
              "  </svg>\n",
              "      </button>\n",
              "      \n",
              "  <style>\n",
              "    .colab-df-container {\n",
              "      display:flex;\n",
              "      flex-wrap:wrap;\n",
              "      gap: 12px;\n",
              "    }\n",
              "\n",
              "    .colab-df-convert {\n",
              "      background-color: #E8F0FE;\n",
              "      border: none;\n",
              "      border-radius: 50%;\n",
              "      cursor: pointer;\n",
              "      display: none;\n",
              "      fill: #1967D2;\n",
              "      height: 32px;\n",
              "      padding: 0 0 0 0;\n",
              "      width: 32px;\n",
              "    }\n",
              "\n",
              "    .colab-df-convert:hover {\n",
              "      background-color: #E2EBFA;\n",
              "      box-shadow: 0px 1px 2px rgba(60, 64, 67, 0.3), 0px 1px 3px 1px rgba(60, 64, 67, 0.15);\n",
              "      fill: #174EA6;\n",
              "    }\n",
              "\n",
              "    [theme=dark] .colab-df-convert {\n",
              "      background-color: #3B4455;\n",
              "      fill: #D2E3FC;\n",
              "    }\n",
              "\n",
              "    [theme=dark] .colab-df-convert:hover {\n",
              "      background-color: #434B5C;\n",
              "      box-shadow: 0px 1px 3px 1px rgba(0, 0, 0, 0.15);\n",
              "      filter: drop-shadow(0px 1px 2px rgba(0, 0, 0, 0.3));\n",
              "      fill: #FFFFFF;\n",
              "    }\n",
              "  </style>\n",
              "\n",
              "      <script>\n",
              "        const buttonEl =\n",
              "          document.querySelector('#df-4e8705c3-b376-465f-b7ba-978725641a09 button.colab-df-convert');\n",
              "        buttonEl.style.display =\n",
              "          google.colab.kernel.accessAllowed ? 'block' : 'none';\n",
              "\n",
              "        async function convertToInteractive(key) {\n",
              "          const element = document.querySelector('#df-4e8705c3-b376-465f-b7ba-978725641a09');\n",
              "          const dataTable =\n",
              "            await google.colab.kernel.invokeFunction('convertToInteractive',\n",
              "                                                     [key], {});\n",
              "          if (!dataTable) return;\n",
              "\n",
              "          const docLinkHtml = 'Like what you see? Visit the ' +\n",
              "            '<a target=\"_blank\" href=https://colab.research.google.com/notebooks/data_table.ipynb>data table notebook</a>'\n",
              "            + ' to learn more about interactive tables.';\n",
              "          element.innerHTML = '';\n",
              "          dataTable['output_type'] = 'display_data';\n",
              "          await google.colab.output.renderOutput(dataTable, element);\n",
              "          const docLink = document.createElement('div');\n",
              "          docLink.innerHTML = docLinkHtml;\n",
              "          element.appendChild(docLink);\n",
              "        }\n",
              "      </script>\n",
              "    </div>\n",
              "  </div>\n",
              "  "
            ]
          },
          "metadata": {}
        }
      ]
    },
    {
      "cell_type": "markdown",
      "source": [
        "## Training the model to generate 'Future Tweets!'\n",
        "\n",
        "For now we only have script which trains a model everytime we want to generate ;future tweet for a user\n",
        "These are the steps in general that we follow to make this a reality\n",
        "- Create a tokenizer\n",
        "- Isolate the data for a particualr user and create a Huggingface dataset\n",
        "- Create a model and train it for 10 epochs\n",
        "- Save the model and history\n",
        "- Generate the 'future tweet'"
      ],
      "metadata": {
        "id": "iWfYwQKZ6BO7"
      }
    },
    {
      "cell_type": "code",
      "source": [
        "\n",
        "# TOKENIZER IS UNIVERSAL FOR ANY MODEL SO IT IS DECLARED ONLY ONCE\n",
        "TOKENIZER = GPT2Tokenizer.from_pretrained(\"gpt2-medium\")\n",
        "TOKENIZER.pad_token = TOKENIZER.eos_token\n",
        "\n",
        "# FUNCTIONS THAT MUST BE MAPPED ON THE DATASET\n",
        "def _dataset_tokenizer(data):\n",
        "    return TOKENIZER(data['text'],\n",
        "                    truncation=True,\n",
        "                     padding = 'max_length',\n",
        "                     max_length = 60)\n",
        "\n",
        "def _label_creater(data):\n",
        "    return {'labels': data['input_ids'][1:], \n",
        "            'input_ids': data[\"input_ids\"][:-1],\n",
        "            'attention_mask': data['attention_mask'][:-1]}\n",
        "\n",
        "# data collator that will convert dataset to tensors with padding in batches\n",
        "data_collator = DataCollatorForLanguageModeling(\n",
        "    tokenizer=TOKENIZER, \n",
        "    mlm = False,\n",
        "    return_tensors=\"tf\",)\n",
        "\n",
        "# DICTIONARY TO STORE 'NUM_OF_MODEL_SAVE' NUMBER OF MODELS\n",
        "models_dict = {}\n",
        "NUM_OF_MODEL_SAVE = 3\n",
        "BATCH_SIZE = 4\n",
        "\n",
        "class UserModel:\n",
        "    def __init__(self, data):\n",
        "        self.data = Dataset.from_pandas(data, preserve_index=False)\n",
        "\n",
        "    def train_model(self):\n",
        "        # creating a model instance\n",
        "        self.model = TFGPT2LMHeadModel.from_pretrained('gpt2-medium')\n",
        "\n",
        "        # preparing the tf.data.Dataset\n",
        "        self.data = self.data.map(_dataset_tokenizer, remove_columns = ['text'])\n",
        "        self.data = self.data.map(_label_creater)\n",
        "\n",
        "        # converting to tf.data.Dataset object\n",
        "        tf_dataset = self.data.to_tf_dataset(\n",
        "            columns = ['input_ids','attention_mask'],\n",
        "            label_cols = [\"labels\"],\n",
        "            collate_fn = data_collator,\n",
        "            batch_size = BATCH_SIZE,\n",
        "            prefetch = True,\n",
        "        )\n",
        "\n",
        "        # training the model\n",
        "        early_stopping = tf.keras.callbacks.EarlyStopping(\n",
        "            monitor='loss',\n",
        "            patience=1,\n",
        "            restore_best_weights=True, \n",
        "            min_delta = 0.001 )\n",
        "        \n",
        "        self.model.compile(optimizer = tf.keras.optimizers.Adam(5e-5))\n",
        "        history = self.model.fit(tf_dataset, epochs = 10,\n",
        "                       callbacks = [early_stopping],    )\n",
        "        \n",
        "        del self.data, tf_dataset\n",
        "\n",
        "        return self.model, history\n",
        "\n",
        "\n",
        "# save model offline to save gpu memory \n",
        "# and keep only one model in memory at a time\n",
        "# model path mapped to username\n",
        "\n",
        "# has map of user number to username\n",
        "name_map = {k:None for k in range(NUM_OF_MODEL_SAVE)}\n",
        "updater_key = cycle(list(range(NUM_OF_MODEL_SAVE)))\n",
        "\n",
        "# Path of the folder which saves all the models\n",
        "model_save_path = r\"/content/drive/MyDrive/Untitled Folder/\"\n",
        "\n",
        "def save_model_offline(usr_name, model):\n",
        "    next_key = next(updater_key)\n",
        "    name_map[next_key] = usr_name\n",
        "    \n",
        "    model.save(f\"{model_save_path}/user_{next_key}.tf\")\n",
        "\n",
        "def generate_next_tweet(usr_name, prompt = None, return_hist=False):\n",
        "    if usr_name in name_map.values():\n",
        "        the_key = [k for k, val in name_map.items()][0]\n",
        "        model = tf.keras.models.load_model(\n",
        "            f\"{model_save_path}/user_{the_key}.tf\")\n",
        "        \n",
        "    else:\n",
        "        print(\"Model is not saved, give me a moment to train the model . . .\")\n",
        "\n",
        "        # All data is stored in this DataFrame = preprocessed_all_data\n",
        "        tweet_of_user_mask = preprocessed_all_data['username'] == usr_name\n",
        "\n",
        "        # Selecting out specific user's data from all data\n",
        "        data_of_user = preprocessed_all_data[['text']][tweet_of_user_mask]\n",
        "\n",
        "        # using custom class to train the model for specific user\n",
        "        model_maker =       UserModel(data_of_user)\n",
        "\n",
        "        usr_name_model, model_hist = model_maker.train_model()\n",
        "        \n",
        "        # Running Custom appending function\n",
        "        # append_to_list(usr_name=usr_name, model = usr_name_model)\n",
        "\n",
        "        # save model offline\n",
        "        save_model_offline(usr_name=usr_name, model = usr_name_model)\n",
        "        \n",
        "\n",
        "    if return_hist:\n",
        "        \n",
        "        return model_hist\n",
        "    \n",
        "    # predicting next words using model\n",
        "    pipe = pipeline(\n",
        "        \"text-generation\",\n",
        "        model= usr_name_model,\n",
        "        tokenizer=TOKENIZER,\n",
        "    )\n",
        "\n",
        "    return pipe(prompt)"
      ],
      "metadata": {
        "id": "kKQaFIx7ilTh"
      },
      "execution_count": null,
      "outputs": []
    },
    {
      "cell_type": "markdown",
      "source": [
        "## 1.4 Fine-tuning the Model for selected user tweets"
      ],
      "metadata": {
        "id": "YQf-4QbQCrIs"
      }
    },
    {
      "cell_type": "markdown",
      "source": [
        "Using the function created above\n",
        "- it trains model\n",
        "- saves model\n",
        "- generates 'future tweet'"
      ],
      "metadata": {
        "id": "Qssjsu137mEr"
      }
    },
    {
      "cell_type": "code",
      "source": [
        "# Calling the functions and model class above to fine-tune\n",
        "# the model to the selected user's tweets.\n",
        "\n",
        "output = generate_next_tweet(\"ZooeyDeschanel\", prompt = \"i want to find\")"
      ],
      "metadata": {
        "colab": {
          "base_uri": "https://localhost:8080/",
          "height": 671,
          "referenced_widgets": [
            "9d784f64096449ca95cc21f2d02aff59",
            "2133cd8674dd46ccbcaac9a635c6cdf3",
            "e3ffe826c7234de7a4f7bc255d918af6",
            "ac5d1a8a766446b0a29de191bd39a579",
            "280265bfaf0046b093b54d36255c213e",
            "3fad928b2add41c69a2146d1100aee9d",
            "6c2b67549a34411ab998fa31dd70a9ba",
            "cf52026b38c64d4ab4262ecae1137698",
            "386263b80fce4bfeb38cc4dcfdc52682",
            "eb7c6c5c16104ea8a6a58b1469935d12",
            "b9f4f74a7afe427bbda32c475ffbde14",
            "4bb01e62e49545af8e3a1c11f2132d25",
            "45c46cb6955c4007bb85a37416276608",
            "4d2c7816f36a40cc887d0510010262dd",
            "50025bc171624ee695e2711b7c1e7d1a",
            "1871695d764e400db1c30a6478e3bca1",
            "3c7e132d7d21475f9060a0e98ab360cc",
            "65ee7c7320854702a4d59d61a599d5a3",
            "8ec62db2b7ff4f5899ffdaaa213c0305",
            "24aabbc3d1844040a175de9f69e6f332",
            "1f44c0697719447f88c131a645de8605",
            "b271156432fe414ca0c424fa107ad74c",
            "cf06d5f57cc14cda8be96875d0c16884",
            "0b2ad6881dd043f780710a1f7d55ee76",
            "11db5a26a0144180bbc84ff89d7e18cb",
            "487e5fd7ddb44ec2b26eee7882e33c70",
            "10687674399f49f4bf2cf6446dedfe9a",
            "831c8a6cb0ef4ed9b5c3456581ce0c94",
            "25fd68aee4b34d6ca3f590b266183596",
            "296739da99104f48a05d792013895caa",
            "7493ccd15363434183a5e3433faf612d",
            "f78aff3db022491e91ed8d15465feeaf",
            "1dfa32bf674745eaa33baa2e3ca0cc9d"
          ]
        },
        "outputId": "f3b9ed27-cb74-4aee-d275-bdf276f3c57e",
        "id": "Wi83RbE5U6Bw"
      },
      "execution_count": null,
      "outputs": [
        {
          "output_type": "stream",
          "name": "stdout",
          "text": [
            "Model is not saved, give me a moment to train the model . . .\n"
          ]
        },
        {
          "output_type": "display_data",
          "data": {
            "text/plain": [
              "Downloading:   0%|          | 0.00/1.42G [00:00<?, ?B/s]"
            ],
            "application/vnd.jupyter.widget-view+json": {
              "version_major": 2,
              "version_minor": 0,
              "model_id": "9d784f64096449ca95cc21f2d02aff59"
            }
          },
          "metadata": {}
        },
        {
          "output_type": "stream",
          "name": "stderr",
          "text": [
            "All model checkpoint layers were used when initializing TFGPT2LMHeadModel.\n",
            "\n",
            "All the layers of TFGPT2LMHeadModel were initialized from the model checkpoint at gpt2-medium.\n",
            "If your task is similar to the task the model of the checkpoint was trained on, you can already use TFGPT2LMHeadModel for predictions without further training.\n"
          ]
        },
        {
          "output_type": "display_data",
          "data": {
            "text/plain": [
              "  0%|          | 0/656 [00:00<?, ?ex/s]"
            ],
            "application/vnd.jupyter.widget-view+json": {
              "version_major": 2,
              "version_minor": 0,
              "model_id": "4bb01e62e49545af8e3a1c11f2132d25"
            }
          },
          "metadata": {}
        },
        {
          "output_type": "display_data",
          "data": {
            "text/plain": [
              "  0%|          | 0/656 [00:00<?, ?ex/s]"
            ],
            "application/vnd.jupyter.widget-view+json": {
              "version_major": 2,
              "version_minor": 0,
              "model_id": "cf06d5f57cc14cda8be96875d0c16884"
            }
          },
          "metadata": {}
        },
        {
          "output_type": "stream",
          "name": "stderr",
          "text": [
            "No loss specified in compile() - the model's internal loss computation will be used as the loss. Don't panic - this is a common way to train TensorFlow models in Transformers! To disable this behaviour please pass a loss argument, or explicitly pass `loss=None` if you do not want your model to compute a loss.\n"
          ]
        },
        {
          "output_type": "stream",
          "name": "stdout",
          "text": [
            "Epoch 1/10\n",
            "164/164 [==============================] - 73s 249ms/step - loss: 4.6510\n",
            "Epoch 2/10\n",
            "164/164 [==============================] - 40s 242ms/step - loss: 3.3029\n",
            "Epoch 3/10\n",
            "164/164 [==============================] - 41s 248ms/step - loss: 2.4048\n",
            "Epoch 4/10\n",
            "164/164 [==============================] - 40s 246ms/step - loss: 1.6588\n",
            "Epoch 5/10\n",
            "164/164 [==============================] - 40s 247ms/step - loss: 1.1201\n",
            "Epoch 6/10\n",
            "164/164 [==============================] - 42s 255ms/step - loss: 0.7735\n",
            "Epoch 7/10\n",
            "164/164 [==============================] - 41s 251ms/step - loss: 0.5538\n",
            "Epoch 8/10\n",
            "164/164 [==============================] - 41s 249ms/step - loss: 0.4288\n",
            "Epoch 9/10\n",
            "164/164 [==============================] - 40s 247ms/step - loss: 0.3493\n",
            "Epoch 10/10\n",
            "164/164 [==============================] - 41s 248ms/step - loss: 0.2831\n"
          ]
        },
        {
          "output_type": "stream",
          "name": "stderr",
          "text": [
            "WARNING:absl:Found untraced functions such as wte_layer_call_fn, wte_layer_call_and_return_conditional_losses, dropout_layer_call_fn, dropout_layer_call_and_return_conditional_losses, ln_f_layer_call_fn while saving (showing 5 of 582). These functions will not be directly callable after loading.\n",
            "Setting `pad_token_id` to 50256 (first `eos_token_id`) to generate sequence\n",
            "/usr/local/lib/python3.8/dist-packages/transformers/generation/tf_utils.py:1800: UserWarning: Neither `max_length` nor `max_new_tokens` have been set, `max_length` will default to 50 (`self.config.max_length`). Controlling `max_length` via the config is deprecated and `max_length` will be removed from the config in v5 of Transformers -- we recommend using `max_new_tokens` to control the maximum length of the generation.\n",
            "  warnings.warn(\n"
          ]
        },
        {
          "output_type": "stream",
          "name": "stdout",
          "text": [
            "[{'generated_text': 'i want to find out how much my pinkie is worth because i want to know if i am being genuine about my love for this item   sofifii mrjakejohnson   did you guys like the ikebarin'}]\n"
          ]
        }
      ]
    },
    {
      "cell_type": "code",
      "source": [
        "# Displaying the generated text.\n",
        "\n",
        "print(output[0]['generated_text'])"
      ],
      "metadata": {
        "colab": {
          "base_uri": "https://localhost:8080/"
        },
        "id": "BWWY6x9WUZVM",
        "outputId": "5a53668b-297a-44f9-92c7-3de1fabb2aeb"
      },
      "execution_count": null,
      "outputs": [
        {
          "output_type": "stream",
          "name": "stdout",
          "text": [
            "i want to find out how much my pinkie is worth because i want to know if i am being genuine about my love for this item   sofifii mrjakejohnson   did you guys like the ikebarin\n"
          ]
        }
      ]
    },
    {
      "cell_type": "markdown",
      "source": [
        "### OBSERVATION\n",
        "\n",
        "The generated tweet is not very 'person-like'. There are some abnormal words which do not make much sense."
      ],
      "metadata": {
        "id": "jtnlOyUf73IM"
      }
    },
    {
      "cell_type": "markdown",
      "source": [
        "## 1.5 Evaluating losses for Different Users"
      ],
      "metadata": {
        "id": "LwYokbXTEweA"
      }
    },
    {
      "cell_type": "code",
      "source": [
        "import pickle\n",
        "\n",
        "# FOR ONE USER AT A TIME\n",
        "# users = ['ShawnMendes', 'BillGates','MikeTyson',]\n",
        "\n",
        "user = 'ShawnMendes'\n",
        "hist = generate_next_tweet(user, return_hist=True)\n",
        "\n",
        "# hist.history is dictionary\n",
        "\n",
        "with open(f\"/content/drive/MyDrive/project_ai_3/{user}.pkl\", 'wb') as f:\n",
        "    pickle.dump(hist.history, f, pickle.HIGHEST_PROTOCOL)\n"
      ],
      "metadata": {
        "colab": {
          "base_uri": "https://localhost:8080/",
          "height": 622,
          "referenced_widgets": [
            "d8b8284440ab4ddc9ecb6d29285c8ddf",
            "f59fc3c985184a0fab71ca0bb5914794",
            "c40aa137730f425c8b984097229b88fc",
            "258a19fb2a7b49a99e94bfceb14c759a",
            "5b3f5bf5ea5b4973b636ab377bbc150a",
            "dcb9a62ffd634cb681e61465243acea3",
            "3ace66933e954eb8b85b91e8086dfb69",
            "4e4ed74c664e4dc6a009d59daf6fd9a4",
            "3d2e413092f84b688122e17ff4b4e759",
            "f003dc3e5f9b4771942f44114bfc2312",
            "f44c225b66ed402db9c1116ff22d29da",
            "cb8de0515aeb4cb98043640cca67242b",
            "f27a16ae23a743d08335767982a4597a",
            "161c98656d5e4d2fa3ac1adf0ae94844",
            "4966f211a8924d6984e16ff203556fd5",
            "a5114f87ca5b454c83d916385b50ca87",
            "a37718292f0349b1a12148dd6cca1ffd",
            "8d580c6a1f5644b5b4b324822742d56d",
            "c6d2ea33cca449c99f7f13e9a6d314cf",
            "a11af43b44d24c978625ae9abd9581d6",
            "85610a9fd18d4bb78e65619d14518527",
            "dc8f89f63c6847e1a6675c7e63d465d5"
          ]
        },
        "outputId": "b8a79c2d-82c0-4b85-898e-96eabd5fd23b",
        "id": "ndF0NaLPklVQ"
      },
      "execution_count": null,
      "outputs": [
        {
          "output_type": "stream",
          "name": "stderr",
          "text": [
            "All model checkpoint layers were used when initializing TFGPT2LMHeadModel.\n",
            "\n",
            "All the layers of TFGPT2LMHeadModel were initialized from the model checkpoint at gpt2-medium.\n",
            "If your task is similar to the task the model of the checkpoint was trained on, you can already use TFGPT2LMHeadModel for predictions without further training.\n"
          ]
        },
        {
          "output_type": "display_data",
          "data": {
            "text/plain": [
              "  0%|          | 0/411 [00:00<?, ?ex/s]"
            ],
            "application/vnd.jupyter.widget-view+json": {
              "version_major": 2,
              "version_minor": 0,
              "model_id": "d8b8284440ab4ddc9ecb6d29285c8ddf"
            }
          },
          "metadata": {}
        },
        {
          "output_type": "display_data",
          "data": {
            "text/plain": [
              "  0%|          | 0/411 [00:00<?, ?ex/s]"
            ],
            "application/vnd.jupyter.widget-view+json": {
              "version_major": 2,
              "version_minor": 0,
              "model_id": "cb8de0515aeb4cb98043640cca67242b"
            }
          },
          "metadata": {}
        },
        {
          "output_type": "stream",
          "name": "stderr",
          "text": [
            "No loss specified in compile() - the model's internal loss computation will be used as the loss. Don't panic - this is a common way to train TensorFlow models in Transformers! To disable this behaviour please pass a loss argument, or explicitly pass `loss=None` if you do not want your model to compute a loss.\n"
          ]
        },
        {
          "output_type": "stream",
          "name": "stdout",
          "text": [
            "Epoch 1/10\n",
            "52/52 [==============================] - 69s 449ms/step - loss: 4.4807\n",
            "Epoch 2/10\n",
            "52/52 [==============================] - 20s 390ms/step - loss: 3.2412\n",
            "Epoch 3/10\n",
            "52/52 [==============================] - 21s 402ms/step - loss: 2.5218\n",
            "Epoch 4/10\n",
            "52/52 [==============================] - 21s 410ms/step - loss: 1.9490\n",
            "Epoch 5/10\n",
            "52/52 [==============================] - 21s 395ms/step - loss: 1.4746\n",
            "Epoch 6/10\n",
            "52/52 [==============================] - 21s 394ms/step - loss: 1.1375\n",
            "Epoch 7/10\n",
            "52/52 [==============================] - 21s 397ms/step - loss: 0.8977\n",
            "Epoch 8/10\n",
            "52/52 [==============================] - 21s 396ms/step - loss: 0.6849\n",
            "Epoch 9/10\n",
            "52/52 [==============================] - 21s 396ms/step - loss: 0.5300\n",
            "Epoch 10/10\n",
            "52/52 [==============================] - 21s 399ms/step - loss: 0.4347\n"
          ]
        },
        {
          "output_type": "stream",
          "name": "stderr",
          "text": [
            "WARNING:absl:Found untraced functions such as wte_layer_call_fn, wte_layer_call_and_return_conditional_losses, dropout_layer_call_fn, dropout_layer_call_and_return_conditional_losses, ln_f_layer_call_fn while saving (showing 5 of 582). These functions will not be directly callable after loading.\n",
            "Setting `pad_token_id` to 50256 (first `eos_token_id`) to generate sequence\n",
            "/usr/local/lib/python3.8/dist-packages/transformers/generation/tf_utils.py:1800: UserWarning: Neither `max_length` nor `max_new_tokens` have been set, `max_length` will default to 50 (`self.config.max_length`). Controlling `max_length` via the config is deprecated and `max_length` will be removed from the config in v5 of Transformers -- we recommend using `max_new_tokens` to control the maximum length of the generation.\n",
            "  warnings.warn(\n"
          ]
        },
        {
          "output_type": "stream",
          "name": "stdout",
          "text": [
            "i would like to create a more sustainably sourced amp merch line for the summeroflove thank you so much x               amelia           \n"
          ]
        }
      ]
    },
    {
      "cell_type": "markdown",
      "source": [
        "### OBSERVATION\n",
        "\n",
        "Here we also observe that model has non-seniscal words which cannot be understood."
      ],
      "metadata": {
        "id": "1WRMAb2P8FTZ"
      }
    },
    {
      "cell_type": "code",
      "source": [
        "# FOR ONE USER AT A TIME\n",
        "# users = ['ShawnMendes', 'BillGates','MikeTyson',]\n",
        "\n",
        "user = 'BillGates'\n",
        "hist = generate_next_tweet(user, return_hist=True)\n",
        "\n",
        "# hist.history is dictionary\n",
        "\n",
        "with open(f\"/content/drive/MyDrive/project_ai_3/{user}.pkl\", 'wb') as f:\n",
        "    pickle.dump(hist.history, f, pickle.HIGHEST_PROTOCOL)\n",
        "\n",
        "# Please ignore the directory error caused due to copying in other file."
      ],
      "metadata": {
        "colab": {
          "base_uri": "https://localhost:8080/",
          "height": 874,
          "referenced_widgets": [
            "df13e7f915874626946b94e271217ecb",
            "a7cb22ebca92489792b196abc53411ad",
            "6d1f5c31bfe04cee9f4d17a784ef0d47",
            "fc15c091e45c4b96a364665b084aa024",
            "afd8286edf8c41cf9783ee9add90fa21",
            "11b6de4322d940f49395195aab8d6566",
            "f1ecec927a1b4cfd9917cc3478bd4409",
            "9e9c01db53794d5487c6c89d9ae6a7c7",
            "d7d6bce8e430442eb8f9421c1a6c41bf",
            "55bf2f06e5684cda931fcf1a54460a02",
            "984256ae9f7040159c0aafae101930e2",
            "5fa79674ba5d4b10831ac6e36b4141ac",
            "a0c169ddb20d4f44a6db52fcd092dd9f",
            "c044a0cc2424435ca6740559bd172d31",
            "d5947d6819ca4b3f8ab95166f5be3277",
            "b84823631c3c4ec3b2a4eb2ed7a93d0c",
            "336635e647a34f22ad29acd37e60c546",
            "5a6a284159c1429a8cb6fdea75d3c125",
            "b07f4ba5c2a04c76ab5531f944a1e97a",
            "1ecf0cb4b4704513bd4a58de5edb2f9d",
            "6ffcd3ac02494bf485d7ae88b12bcd62",
            "ebcbc972908a42cc9ba6d57e0943f94f"
          ]
        },
        "id": "jwu77q01btAy",
        "outputId": "68375a9d-fd67-4bd7-ef70-8d99f8304a2f"
      },
      "execution_count": null,
      "outputs": [
        {
          "output_type": "stream",
          "name": "stderr",
          "text": [
            "All model checkpoint layers were used when initializing TFGPT2LMHeadModel.\n",
            "\n",
            "All the layers of TFGPT2LMHeadModel were initialized from the model checkpoint at gpt2-medium.\n",
            "If your task is similar to the task the model of the checkpoint was trained on, you can already use TFGPT2LMHeadModel for predictions without further training.\n"
          ]
        },
        {
          "output_type": "display_data",
          "data": {
            "text/plain": [
              "  0%|          | 0/969 [00:00<?, ?ex/s]"
            ],
            "application/vnd.jupyter.widget-view+json": {
              "version_major": 2,
              "version_minor": 0,
              "model_id": "df13e7f915874626946b94e271217ecb"
            }
          },
          "metadata": {}
        },
        {
          "output_type": "display_data",
          "data": {
            "text/plain": [
              "  0%|          | 0/969 [00:00<?, ?ex/s]"
            ],
            "application/vnd.jupyter.widget-view+json": {
              "version_major": 2,
              "version_minor": 0,
              "model_id": "5fa79674ba5d4b10831ac6e36b4141ac"
            }
          },
          "metadata": {}
        },
        {
          "output_type": "stream",
          "name": "stderr",
          "text": [
            "No loss specified in compile() - the model's internal loss computation will be used as the loss. Don't panic - this is a common way to train TensorFlow models in Transformers! To disable this behaviour please pass a loss argument, or explicitly pass `loss=None` if you do not want your model to compute a loss.\n"
          ]
        },
        {
          "output_type": "stream",
          "name": "stdout",
          "text": [
            "Epoch 1/10\n",
            "243/243 [==============================] - 92s 238ms/step - loss: 3.7689\n",
            "Epoch 2/10\n",
            "243/243 [==============================] - 62s 256ms/step - loss: 2.7366\n",
            "Epoch 3/10\n",
            "243/243 [==============================] - 62s 255ms/step - loss: 2.0266\n",
            "Epoch 4/10\n",
            "243/243 [==============================] - 57s 236ms/step - loss: 1.4281\n",
            "Epoch 5/10\n",
            "243/243 [==============================] - 57s 233ms/step - loss: 0.9792\n",
            "Epoch 6/10\n",
            "243/243 [==============================] - 58s 239ms/step - loss: 0.6625\n",
            "Epoch 7/10\n",
            "243/243 [==============================] - 57s 233ms/step - loss: 0.4652\n",
            "Epoch 8/10\n",
            "243/243 [==============================] - 57s 233ms/step - loss: 0.3536\n",
            "Epoch 9/10\n",
            "243/243 [==============================] - 57s 234ms/step - loss: 0.2873\n",
            "Epoch 10/10\n",
            "243/243 [==============================] - 57s 233ms/step - loss: 0.2412\n"
          ]
        },
        {
          "output_type": "stream",
          "name": "stderr",
          "text": [
            "Setting `pad_token_id` to 50256 (first `eos_token_id`) to generate sequence\n",
            "/usr/local/lib/python3.8/dist-packages/transformers/generation/tf_utils.py:1800: UserWarning: Neither `max_length` nor `max_new_tokens` have been set, `max_length` will default to 50 (`self.config.max_length`). Controlling `max_length` via the config is deprecated and `max_length` will be removed from the config in v5 of Transformers -- we recommend using `max_new_tokens` to control the maximum length of the generation.\n",
            "  warnings.warn(\n"
          ]
        },
        {
          "output_type": "stream",
          "name": "stdout",
          "text": [
            "\n",
            "\n",
            " i want to build  safe worlds for all people not just the lucky few who get their genes to play a role in a healthy productive and equitable world i hope others in positions of great wealth and privilege will step up in this moment too    \n",
            "\n",
            "\n"
          ]
        },
        {
          "output_type": "error",
          "ename": "FileNotFoundError",
          "evalue": "ignored",
          "traceback": [
            "\u001b[0;31m---------------------------------------------------------------------------\u001b[0m",
            "\u001b[0;31mFileNotFoundError\u001b[0m                         Traceback (most recent call last)",
            "\u001b[0;32m<ipython-input-5-cd5ef0ebe941>\u001b[0m in \u001b[0;36m<module>\u001b[0;34m\u001b[0m\n\u001b[1;32m     99\u001b[0m \u001b[0mprint\u001b[0m\u001b[0;34m(\u001b[0m\u001b[0;34m'\\n\\n'\u001b[0m\u001b[0;34m,\u001b[0m\u001b[0mOUTPUT\u001b[0m\u001b[0;34m,\u001b[0m \u001b[0;34m'\\n\\n'\u001b[0m\u001b[0;34m)\u001b[0m\u001b[0;34m\u001b[0m\u001b[0;34m\u001b[0m\u001b[0m\n\u001b[1;32m    100\u001b[0m \u001b[0;34m\u001b[0m\u001b[0m\n\u001b[0;32m--> 101\u001b[0;31m \u001b[0;32mwith\u001b[0m \u001b[0mopen\u001b[0m\u001b[0;34m(\u001b[0m\u001b[0;34mf\"/content/drive/MyDrive/project_ai_3/{usr_name}.pkl\"\u001b[0m\u001b[0;34m,\u001b[0m \u001b[0;34m'wb'\u001b[0m\u001b[0;34m)\u001b[0m \u001b[0;32mas\u001b[0m \u001b[0mf\u001b[0m\u001b[0;34m:\u001b[0m\u001b[0;34m\u001b[0m\u001b[0;34m\u001b[0m\u001b[0m\n\u001b[0m\u001b[1;32m    102\u001b[0m     \u001b[0mpickle\u001b[0m\u001b[0;34m.\u001b[0m\u001b[0mdump\u001b[0m\u001b[0;34m(\u001b[0m\u001b[0mmodel_hist\u001b[0m\u001b[0;34m.\u001b[0m\u001b[0mhistory\u001b[0m\u001b[0;34m,\u001b[0m \u001b[0mf\u001b[0m\u001b[0;34m,\u001b[0m \u001b[0mpickle\u001b[0m\u001b[0;34m.\u001b[0m\u001b[0mHIGHEST_PROTOCOL\u001b[0m\u001b[0;34m)\u001b[0m\u001b[0;34m\u001b[0m\u001b[0;34m\u001b[0m\u001b[0m\n",
            "\u001b[0;31mFileNotFoundError\u001b[0m: [Errno 2] No such file or directory: '/content/drive/MyDrive/project_ai_3/BillGates.pkl'"
          ]
        }
      ]
    },
    {
      "cell_type": "markdown",
      "source": [
        "### Observation\n",
        "\n",
        "So far this tweet very much looks like been tweeted by an acutal person\n",
        "\n",
        "**i want to build  safe worlds for all people not just the lucky few who get their genes to play a role in a healthy productive and equitable world i hope others in positions of great wealth and privilege will step up in this moment too**"
      ],
      "metadata": {
        "id": "f91omWxD8T_O"
      }
    },
    {
      "cell_type": "code",
      "source": [
        "# FOR ONE USER AT A TIME\n",
        "# users = ['ShawnMendes', 'BillGates','MikeTyson',]\n",
        "\n",
        "user = 'MikeTyson'\n",
        "hist = generate_next_tweet(user, return_hist=True)\n",
        "\n",
        "# hist.history is dictionary\n",
        "\n",
        "with open(f\"/content/drive/MyDrive/project_ai_3/{user}.pkl\", 'wb') as f:\n",
        "    pickle.dump(hist.history, f, pickle.HIGHEST_PROTOCOL)\n"
      ],
      "metadata": {
        "colab": {
          "base_uri": "https://localhost:8080/",
          "height": 874,
          "referenced_widgets": [
            "f68a6e20e92e4fbf9de8c39fc6415f5a",
            "e3941602edda4727925160c21036b0bd",
            "6c9969d865aa48578cb1829b9e9bbd28",
            "09c52f7f1760459182b3d4c1d8b9a2a7",
            "c9df64346cc94ec2995c3875c2fbe5a3",
            "e8c18f93b72d4ba5a4ca838161a2d5ba",
            "3b4ed3c7cbe348f58977bcd593b530f1",
            "f6d7a54e093445a890a7e5b429af2fcd",
            "db6c092301ff4afab425dd1fcfa7e500",
            "5e705b60253940dd91e612a0a8794b9d",
            "ecb4ab8badac4ccc9a8993dff73d095e",
            "deea9b0f1e0b450685b2dd93578cf980",
            "4018f3239495468f980c441753f35708",
            "3171d67c6ca440e3ac41ba68652f15aa",
            "207e03b7d4ec45b684f61720314b55ab",
            "eb90cdf2c5f64664a8d63bcc27f4f5fa",
            "d6f7cac8a78748c4bd608fcfd8722d15",
            "92c0404063f34e9392cadc2cff9ea26f",
            "f3251b57282941c7aeb849a07485d251",
            "38592129e4f94687ba73f54f76372ed9",
            "8d54d73db0574abe856ee499809d21e6",
            "5f42fec639ed4d01b160dd8ed285a033"
          ]
        },
        "id": "1YAgnMpocnCo",
        "outputId": "5488dd57-7c26-4876-b73b-1c5c1374a767"
      },
      "execution_count": null,
      "outputs": [
        {
          "output_type": "stream",
          "name": "stderr",
          "text": [
            "All model checkpoint layers were used when initializing TFGPT2LMHeadModel.\n",
            "\n",
            "All the layers of TFGPT2LMHeadModel were initialized from the model checkpoint at gpt2-medium.\n",
            "If your task is similar to the task the model of the checkpoint was trained on, you can already use TFGPT2LMHeadModel for predictions without further training.\n"
          ]
        },
        {
          "output_type": "display_data",
          "data": {
            "text/plain": [
              "  0%|          | 0/801 [00:00<?, ?ex/s]"
            ],
            "application/vnd.jupyter.widget-view+json": {
              "version_major": 2,
              "version_minor": 0,
              "model_id": "f68a6e20e92e4fbf9de8c39fc6415f5a"
            }
          },
          "metadata": {}
        },
        {
          "output_type": "display_data",
          "data": {
            "text/plain": [
              "  0%|          | 0/801 [00:00<?, ?ex/s]"
            ],
            "application/vnd.jupyter.widget-view+json": {
              "version_major": 2,
              "version_minor": 0,
              "model_id": "deea9b0f1e0b450685b2dd93578cf980"
            }
          },
          "metadata": {}
        },
        {
          "output_type": "stream",
          "name": "stderr",
          "text": [
            "No loss specified in compile() - the model's internal loss computation will be used as the loss. Don't panic - this is a common way to train TensorFlow models in Transformers! To disable this behaviour please pass a loss argument, or explicitly pass `loss=None` if you do not want your model to compute a loss.\n"
          ]
        },
        {
          "output_type": "stream",
          "name": "stdout",
          "text": [
            "Epoch 1/10\n",
            "101/101 [==============================] - 72s 409ms/step - loss: 4.0237\n",
            "Epoch 2/10\n",
            "101/101 [==============================] - 39s 384ms/step - loss: 2.7163\n",
            "Epoch 3/10\n",
            "101/101 [==============================] - 39s 390ms/step - loss: 2.0734\n",
            "Epoch 4/10\n",
            "101/101 [==============================] - 40s 393ms/step - loss: 1.5706\n",
            "Epoch 5/10\n",
            "101/101 [==============================] - 41s 406ms/step - loss: 1.1680\n",
            "Epoch 6/10\n",
            "101/101 [==============================] - 40s 391ms/step - loss: 0.8403\n",
            "Epoch 7/10\n",
            "101/101 [==============================] - 41s 403ms/step - loss: 0.6297\n",
            "Epoch 8/10\n",
            "101/101 [==============================] - 43s 425ms/step - loss: 0.4938\n",
            "Epoch 9/10\n",
            "101/101 [==============================] - 43s 425ms/step - loss: 0.4021\n",
            "Epoch 10/10\n",
            "101/101 [==============================] - 42s 415ms/step - loss: 0.3325\n"
          ]
        },
        {
          "output_type": "stream",
          "name": "stderr",
          "text": [
            "WARNING:absl:Found untraced functions such as wte_layer_call_fn, wte_layer_call_and_return_conditional_losses, dropout_layer_call_fn, dropout_layer_call_and_return_conditional_losses, ln_f_layer_call_fn while saving (showing 5 of 582). These functions will not be directly callable after loading.\n",
            "Setting `pad_token_id` to 50256 (first `eos_token_id`) to generate sequence\n",
            "/usr/local/lib/python3.8/dist-packages/transformers/generation/tf_utils.py:1800: UserWarning: Neither `max_length` nor `max_new_tokens` have been set, `max_length` will default to 50 (`self.config.max_length`). Controlling `max_length` via the config is deprecated and `max_length` will be removed from the config in v5 of Transformers -- we recommend using `max_new_tokens` to control the maximum length of the generation.\n",
            "  warnings.warn(\n"
          ]
        },
        {
          "output_type": "stream",
          "name": "stdout",
          "text": [
            "\n",
            "\n",
            " my life is  fight tomorrow 9am pst only on  fightnextday      rosenbergradio    bettymwhite      mgmgrand tickets         \n",
            "\n",
            "\n"
          ]
        },
        {
          "output_type": "error",
          "ename": "NameError",
          "evalue": "ignored",
          "traceback": [
            "\u001b[0;31m---------------------------------------------------------------------------\u001b[0m",
            "\u001b[0;31mNameError\u001b[0m                                 Traceback (most recent call last)",
            "\u001b[0;32m<ipython-input-5-b17fd57a1655>\u001b[0m in \u001b[0;36m<module>\u001b[0;34m\u001b[0m\n\u001b[1;32m     97\u001b[0m \u001b[0;34m\u001b[0m\u001b[0m\n\u001b[1;32m     98\u001b[0m \u001b[0;32mwith\u001b[0m \u001b[0mopen\u001b[0m\u001b[0;34m(\u001b[0m\u001b[0;34mf\"/content/drive/MyDrive/project_ai_3/{usr_name}.pkl\"\u001b[0m\u001b[0;34m,\u001b[0m \u001b[0;34m'wb'\u001b[0m\u001b[0;34m)\u001b[0m \u001b[0;32mas\u001b[0m \u001b[0mf\u001b[0m\u001b[0;34m:\u001b[0m\u001b[0;34m\u001b[0m\u001b[0;34m\u001b[0m\u001b[0m\n\u001b[0;32m---> 99\u001b[0;31m     \u001b[0mpickle\u001b[0m\u001b[0;34m.\u001b[0m\u001b[0mdump\u001b[0m\u001b[0;34m(\u001b[0m\u001b[0mmodel_hist\u001b[0m\u001b[0;34m.\u001b[0m\u001b[0mhistory\u001b[0m\u001b[0;34m,\u001b[0m \u001b[0mf\u001b[0m\u001b[0;34m,\u001b[0m \u001b[0mpickle\u001b[0m\u001b[0;34m.\u001b[0m\u001b[0mHIGHEST_PROTOCOL\u001b[0m\u001b[0;34m)\u001b[0m\u001b[0;34m\u001b[0m\u001b[0;34m\u001b[0m\u001b[0m\n\u001b[0m",
            "\u001b[0;31mNameError\u001b[0m: name 'pickle' is not defined"
          ]
        }
      ]
    },
    {
      "cell_type": "code",
      "source": [
        "# Plotting the losses for all 3 user models.\n",
        "\n",
        "list_of_hist = list()\n",
        "colors = [\"#62DC93\", \"#1e75e8\", \"black\"]\n",
        "\n",
        "\n",
        "with open(\"/content/drive/MyDrive/project_ai_3/BillGates.pkl\", 'rb') as f:\n",
        "    list_of_hist.append( pickle.load(f) )\n",
        "\n",
        "with open(\"/content/drive/MyDrive/project_ai_3/ShawnMendes.pkl\", 'rb') as f:\n",
        "    list_of_hist.append( pickle.load(f) )\n",
        "\n",
        "with open(\"/content/drive/MyDrive/project_ai_3/MikeTyson.pkl\", 'rb') as f:\n",
        "    list_of_hist.append( pickle.load(f) )\n",
        "\n",
        "f, ax = plt.subplots(figsize = (12,8))\n",
        "\n",
        "users = ['Bill Gates','Shawn Mendes','Mike Tyson']\n",
        "\n",
        "for hist, color, usr in zip(list_of_hist, colors, users):\n",
        "    # LOSSES\n",
        "    sbn.lineplot(ax = ax,\n",
        "                x = list(range(len(hist['loss']))),\n",
        "                y = hist['loss'],\n",
        "                 color = color,\n",
        "                 marker = 'o',\n",
        "                 label = usr)\n",
        "    \n",
        "    ax.set_ylabel('Epochs', fontsize=15)\n",
        "    ax.set_xlabel('Loss', fontsize=15)\n",
        "\n",
        "\n",
        "plt.grid(True)\n",
        "plt.suptitle(\"COMPARING LOSSES BETWEEN 3 USERS\", fontsize=15)\n",
        "plt.show()"
      ],
      "metadata": {
        "colab": {
          "base_uri": "https://localhost:8080/",
          "height": 559
        },
        "id": "6YyTnE8kpT48",
        "outputId": "fae901ed-da78-4648-a160-dda687eda651"
      },
      "execution_count": null,
      "outputs": [
        {
          "output_type": "display_data",
          "data": {
            "text/plain": [
              "<Figure size 864x576 with 1 Axes>"
            ],
            "image/png": "[encoded data removed]"
          },
          "metadata": {
            "needs_background": "light"
          }
        }
      ]
    },
    {
      "cell_type": "markdown",
      "source": [
        "### Observation\n",
        "\n",
        "We see that the Loss is decreasing consistently but the tweets are does not look good\n",
        "\n",
        "This means that We must provide better data in order to get better text generation.\n",
        "\n",
        "Tweets with less or no emoticons, with more words and less links and promotional content, we can \n",
        "\n",
        "We can consider following things for data:\n",
        "- Tweets with less or no emoticons\n",
        "- Tweets with better content and more words\n",
        "- Tweets with no or less links of promotional contents"
      ],
      "metadata": {
        "id": "g2G3bPxf9ODf"
      }
    },
    {
      "cell_type": "markdown",
      "source": [
        "# PART-2 - TWITTER TEXT CLASSIFICATION"
      ],
      "metadata": {
        "id": "8C21h1Ulc2Gr"
      }
    },
    {
      "cell_type": "markdown",
      "source": [
        "## Importing Essential Libraries"
      ],
      "metadata": {
        "id": "9VQU2iFq7wQj"
      }
    },
    {
      "cell_type": "markdown",
      "source": [
        "For the second part of the project, we need to install few essential Libraries"
      ],
      "metadata": {
        "id": "iRNvwwAi7YoR"
      }
    },
    {
      "cell_type": "code",
      "source": [
        "!pip3 install git+https://github.com/JustAnotherArchivist/snscrape.git"
      ],
      "metadata": {
        "colab": {
          "base_uri": "https://localhost:8080/"
        },
        "id": "p8S13oSRsMGg",
        "outputId": "64fe9c98-1e49-4e30-fd8f-97a8a4ce106b"
      },
      "execution_count": null,
      "outputs": [
        {
          "output_type": "stream",
          "name": "stdout",
          "text": [
            "Looking in indexes: https://pypi.org/simple, https://us-python.pkg.dev/colab-wheels/public/simple/\n",
            "Collecting git+https://github.com/JustAnotherArchivist/snscrape.git\n",
            "  Cloning https://github.com/JustAnotherArchivist/snscrape.git to /tmp/pip-req-build-pp9cqvb6\n",
            "  Running command git clone -q https://github.com/JustAnotherArchivist/snscrape.git /tmp/pip-req-build-pp9cqvb6\n",
            "Requirement already satisfied: requests[socks] in /usr/local/lib/python3.8/dist-packages (from snscrape==0.4.3.20220107.dev66+ge09aea7) (2.23.0)\n",
            "Requirement already satisfied: lxml in /usr/local/lib/python3.8/dist-packages (from snscrape==0.4.3.20220107.dev66+ge09aea7) (4.9.1)\n",
            "Requirement already satisfied: beautifulsoup4 in /usr/local/lib/python3.8/dist-packages (from snscrape==0.4.3.20220107.dev66+ge09aea7) (4.6.3)\n",
            "Requirement already satisfied: filelock in /usr/local/lib/python3.8/dist-packages (from snscrape==0.4.3.20220107.dev66+ge09aea7) (3.8.0)\n",
            "Requirement already satisfied: pytz in /usr/local/lib/python3.8/dist-packages (from snscrape==0.4.3.20220107.dev66+ge09aea7) (2022.6)\n",
            "Requirement already satisfied: chardet<4,>=3.0.2 in /usr/local/lib/python3.8/dist-packages (from requests[socks]->snscrape==0.4.3.20220107.dev66+ge09aea7) (3.0.4)\n",
            "Requirement already satisfied: urllib3!=1.25.0,!=1.25.1,<1.26,>=1.21.1 in /usr/local/lib/python3.8/dist-packages (from requests[socks]->snscrape==0.4.3.20220107.dev66+ge09aea7) (1.24.3)\n",
            "Requirement already satisfied: idna<3,>=2.5 in /usr/local/lib/python3.8/dist-packages (from requests[socks]->snscrape==0.4.3.20220107.dev66+ge09aea7) (2.10)\n",
            "Requirement already satisfied: certifi>=2017.4.17 in /usr/local/lib/python3.8/dist-packages (from requests[socks]->snscrape==0.4.3.20220107.dev66+ge09aea7) (2022.9.24)\n",
            "Requirement already satisfied: PySocks!=1.5.7,>=1.5.6 in /usr/local/lib/python3.8/dist-packages (from requests[socks]->snscrape==0.4.3.20220107.dev66+ge09aea7) (1.7.1)\n",
            "Building wheels for collected packages: snscrape\n",
            "  Building wheel for snscrape (setup.py) ... \u001b[?25l\u001b[?25hdone\n",
            "  Created wheel for snscrape: filename=snscrape-0.4.3.20220107.dev66+ge09aea7-py3-none-any.whl size=68008 sha256=b3034969e389d0f8d692db84d56df6f0d155807fc3b4433abdb6cb20141ba1fa\n",
            "  Stored in directory: /tmp/pip-ephem-wheel-cache-x8ftw5os/wheels/92/42/87/33fa9b18f7a75d02643a9ca3743339aec9be28c6796267c7d8\n",
            "Successfully built snscrape\n",
            "Installing collected packages: snscrape\n",
            "Successfully installed snscrape-0.4.3.20220107.dev66+ge09aea7\n"
          ]
        }
      ]
    },
    {
      "cell_type": "code",
      "source": [
        "!pip install emot"
      ],
      "metadata": {
        "colab": {
          "base_uri": "https://localhost:8080/"
        },
        "id": "2HrC9gI8s_zY",
        "outputId": "6498251c-8ff4-47ca-ddb7-b924579a3308"
      },
      "execution_count": null,
      "outputs": [
        {
          "output_type": "stream",
          "name": "stdout",
          "text": [
            "Looking in indexes: https://pypi.org/simple, https://us-python.pkg.dev/colab-wheels/public/simple/\n",
            "Collecting emot\n",
            "  Downloading emot-3.1-py3-none-any.whl (61 kB)\n",
            "\u001b[K     |████████████████████████████████| 61 kB 26 kB/s \n",
            "\u001b[?25hInstalling collected packages: emot\n",
            "Successfully installed emot-3.1\n"
          ]
        }
      ]
    },
    {
      "cell_type": "code",
      "source": [
        "!pip install fastai"
      ],
      "metadata": {
        "colab": {
          "base_uri": "https://localhost:8080/"
        },
        "id": "oCrfYmFqTkSD",
        "outputId": "9888440c-b8c8-4c23-f429-969d97b771e2"
      },
      "execution_count": null,
      "outputs": [
        {
          "output_type": "stream",
          "name": "stdout",
          "text": [
            "Looking in indexes: https://pypi.org/simple, https://us-python.pkg.dev/colab-wheels/public/simple/\n",
            "Requirement already satisfied: fastai in /usr/local/lib/python3.8/dist-packages (2.7.10)\n",
            "Requirement already satisfied: pip in /usr/local/lib/python3.8/dist-packages (from fastai) (21.1.3)\n",
            "Requirement already satisfied: matplotlib in /usr/local/lib/python3.8/dist-packages (from fastai) (3.2.2)\n",
            "Requirement already satisfied: pyyaml in /usr/local/lib/python3.8/dist-packages (from fastai) (6.0)\n",
            "Requirement already satisfied: fastprogress>=0.2.4 in /usr/local/lib/python3.8/dist-packages (from fastai) (1.0.3)\n",
            "Requirement already satisfied: torchvision>=0.8.2 in /usr/local/lib/python3.8/dist-packages (from fastai) (0.14.0+cu116)\n",
            "Requirement already satisfied: pillow>6.0.0 in /usr/local/lib/python3.8/dist-packages (from fastai) (7.1.2)\n",
            "Requirement already satisfied: scipy in /usr/local/lib/python3.8/dist-packages (from fastai) (1.7.3)\n",
            "Requirement already satisfied: spacy<4 in /usr/local/lib/python3.8/dist-packages (from fastai) (3.4.3)\n",
            "Requirement already satisfied: torch<1.14,>=1.7 in /usr/local/lib/python3.8/dist-packages (from fastai) (1.13.0+cu116)\n",
            "Requirement already satisfied: packaging in /usr/local/lib/python3.8/dist-packages (from fastai) (21.3)\n",
            "Requirement already satisfied: fastcore<1.6,>=1.4.5 in /usr/local/lib/python3.8/dist-packages (from fastai) (1.5.27)\n",
            "Requirement already satisfied: fastdownload<2,>=0.0.5 in /usr/local/lib/python3.8/dist-packages (from fastai) (0.0.7)\n",
            "Requirement already satisfied: pandas in /usr/local/lib/python3.8/dist-packages (from fastai) (1.3.5)\n",
            "Requirement already satisfied: scikit-learn in /usr/local/lib/python3.8/dist-packages (from fastai) (1.0.2)\n",
            "Requirement already satisfied: requests in /usr/local/lib/python3.8/dist-packages (from fastai) (2.23.0)\n",
            "Requirement already satisfied: jinja2 in /usr/local/lib/python3.8/dist-packages (from spacy<4->fastai) (2.11.3)\n",
            "Requirement already satisfied: wasabi<1.1.0,>=0.9.1 in /usr/local/lib/python3.8/dist-packages (from spacy<4->fastai) (0.10.1)\n",
            "Requirement already satisfied: thinc<8.2.0,>=8.1.0 in /usr/local/lib/python3.8/dist-packages (from spacy<4->fastai) (8.1.5)\n",
            "Requirement already satisfied: tqdm<5.0.0,>=4.38.0 in /usr/local/lib/python3.8/dist-packages (from spacy<4->fastai) (4.64.1)\n",
            "Requirement already satisfied: cymem<2.1.0,>=2.0.2 in /usr/local/lib/python3.8/dist-packages (from spacy<4->fastai) (2.0.7)\n",
            "Requirement already satisfied: spacy-loggers<2.0.0,>=1.0.0 in /usr/local/lib/python3.8/dist-packages (from spacy<4->fastai) (1.0.3)\n",
            "Requirement already satisfied: preshed<3.1.0,>=3.0.2 in /usr/local/lib/python3.8/dist-packages (from spacy<4->fastai) (3.0.8)\n",
            "Requirement already satisfied: setuptools in /usr/local/lib/python3.8/dist-packages (from spacy<4->fastai) (57.4.0)\n",
            "Requirement already satisfied: numpy>=1.15.0 in /usr/local/lib/python3.8/dist-packages (from spacy<4->fastai) (1.21.6)\n",
            "Requirement already satisfied: pydantic!=1.8,!=1.8.1,<1.11.0,>=1.7.4 in /usr/local/lib/python3.8/dist-packages (from spacy<4->fastai) (1.10.2)\n",
            "Requirement already satisfied: srsly<3.0.0,>=2.4.3 in /usr/local/lib/python3.8/dist-packages (from spacy<4->fastai) (2.4.5)\n",
            "Requirement already satisfied: langcodes<4.0.0,>=3.2.0 in /usr/local/lib/python3.8/dist-packages (from spacy<4->fastai) (3.3.0)\n",
            "Requirement already satisfied: murmurhash<1.1.0,>=0.28.0 in /usr/local/lib/python3.8/dist-packages (from spacy<4->fastai) (1.0.9)\n",
            "Requirement already satisfied: catalogue<2.1.0,>=2.0.6 in /usr/local/lib/python3.8/dist-packages (from spacy<4->fastai) (2.0.8)\n",
            "Requirement already satisfied: pathy>=0.3.5 in /usr/local/lib/python3.8/dist-packages (from spacy<4->fastai) (0.10.0)\n",
            "Requirement already satisfied: spacy-legacy<3.1.0,>=3.0.10 in /usr/local/lib/python3.8/dist-packages (from spacy<4->fastai) (3.0.10)\n",
            "Requirement already satisfied: typer<0.8.0,>=0.3.0 in /usr/local/lib/python3.8/dist-packages (from spacy<4->fastai) (0.7.0)\n",
            "Requirement already satisfied: pyparsing!=3.0.5,>=2.0.2 in /usr/local/lib/python3.8/dist-packages (from packaging->fastai) (3.0.9)\n",
            "Requirement already satisfied: smart-open<6.0.0,>=5.2.1 in /usr/local/lib/python3.8/dist-packages (from pathy>=0.3.5->spacy<4->fastai) (5.2.1)\n",
            "Requirement already satisfied: typing-extensions>=4.1.0 in /usr/local/lib/python3.8/dist-packages (from pydantic!=1.8,!=1.8.1,<1.11.0,>=1.7.4->spacy<4->fastai) (4.4.0)\n",
            "Requirement already satisfied: idna<3,>=2.5 in /usr/local/lib/python3.8/dist-packages (from requests->fastai) (2.10)\n",
            "Requirement already satisfied: certifi>=2017.4.17 in /usr/local/lib/python3.8/dist-packages (from requests->fastai) (2022.9.24)\n",
            "Requirement already satisfied: urllib3!=1.25.0,!=1.25.1,<1.26,>=1.21.1 in /usr/local/lib/python3.8/dist-packages (from requests->fastai) (1.24.3)\n",
            "Requirement already satisfied: chardet<4,>=3.0.2 in /usr/local/lib/python3.8/dist-packages (from requests->fastai) (3.0.4)\n",
            "Requirement already satisfied: confection<1.0.0,>=0.0.1 in /usr/local/lib/python3.8/dist-packages (from thinc<8.2.0,>=8.1.0->spacy<4->fastai) (0.0.3)\n",
            "Requirement already satisfied: blis<0.8.0,>=0.7.8 in /usr/local/lib/python3.8/dist-packages (from thinc<8.2.0,>=8.1.0->spacy<4->fastai) (0.7.9)\n",
            "Requirement already satisfied: click<9.0.0,>=7.1.1 in /usr/local/lib/python3.8/dist-packages (from typer<0.8.0,>=0.3.0->spacy<4->fastai) (7.1.2)\n",
            "Requirement already satisfied: MarkupSafe>=0.23 in /usr/local/lib/python3.8/dist-packages (from jinja2->spacy<4->fastai) (2.0.1)\n",
            "Requirement already satisfied: kiwisolver>=1.0.1 in /usr/local/lib/python3.8/dist-packages (from matplotlib->fastai) (1.4.4)\n",
            "Requirement already satisfied: cycler>=0.10 in /usr/local/lib/python3.8/dist-packages (from matplotlib->fastai) (0.11.0)\n",
            "Requirement already satisfied: python-dateutil>=2.1 in /usr/local/lib/python3.8/dist-packages (from matplotlib->fastai) (2.8.2)\n",
            "Requirement already satisfied: six>=1.5 in /usr/local/lib/python3.8/dist-packages (from python-dateutil>=2.1->matplotlib->fastai) (1.15.0)\n",
            "Requirement already satisfied: pytz>=2017.3 in /usr/local/lib/python3.8/dist-packages (from pandas->fastai) (2022.6)\n",
            "Requirement already satisfied: threadpoolctl>=2.0.0 in /usr/local/lib/python3.8/dist-packages (from scikit-learn->fastai) (3.1.0)\n",
            "Requirement already satisfied: joblib>=0.11 in /usr/local/lib/python3.8/dist-packages (from scikit-learn->fastai) (1.2.0)\n"
          ]
        }
      ]
    },
    {
      "cell_type": "code",
      "execution_count": null,
      "metadata": {
        "id": "Vh10vomcpreW"
      },
      "outputs": [],
      "source": [
        "#libraries needed\n",
        "import pandas as pd\n",
        "import snscrape.modules.twitter as sntwitter\n",
        "import numpy as np\n",
        "import matplotlib.pyplot as plt\n",
        "import seaborn as sns\n",
        "\n",
        "import nltk\n",
        "from nltk.corpus import stopwords \n",
        "from nltk.stem import WordNetLemmatizer\n",
        "\n",
        "import string\n",
        "import re\n",
        "import textblob\n",
        "from textblob import TextBlob\n",
        "\n",
        "from wordcloud import WordCloud, STOPWORDS\n",
        "from emot.emo_unicode import UNICODE_EMOJI\n",
        "\n",
        "from fastai.text.all import *\n",
        "import warnings\n",
        "%matplotlib inline\n"
      ]
    },
    {
      "cell_type": "code",
      "source": [
        "# downloading the essential modules of nltk.\n",
        "# after downloading it, no need to re run again, so can be commented out.\n",
        "nltk.download('stopwords')\n",
        "nltk.download('wordnet')\n",
        "nltk.download('omw-1.4')\n",
        "nltk.download('punkt')"
      ],
      "metadata": {
        "colab": {
          "base_uri": "https://localhost:8080/"
        },
        "id": "FUGmJ4rn9DeE",
        "outputId": "2672e025-1f91-47d1-dfdf-5fea9a7767a8"
      },
      "execution_count": null,
      "outputs": [
        {
          "output_type": "stream",
          "name": "stderr",
          "text": [
            "[nltk_data] Downloading package stopwords to /root/nltk_data...\n",
            "[nltk_data]   Package stopwords is already up-to-date!\n",
            "[nltk_data] Downloading package wordnet to /root/nltk_data...\n",
            "[nltk_data]   Package wordnet is already up-to-date!\n",
            "[nltk_data] Downloading package omw-1.4 to /root/nltk_data...\n",
            "[nltk_data]   Package omw-1.4 is already up-to-date!\n",
            "[nltk_data] Downloading package punkt to /root/nltk_data...\n",
            "[nltk_data]   Unzipping tokenizers/punkt.zip.\n"
          ]
        },
        {
          "output_type": "execute_result",
          "data": {
            "text/plain": [
              "True"
            ]
          },
          "metadata": {},
          "execution_count": 23
        }
      ]
    },
    {
      "cell_type": "markdown",
      "source": [
        "## Data Scrapping using snscrape"
      ],
      "metadata": {
        "id": "zh3RDn-e728h"
      }
    },
    {
      "cell_type": "markdown",
      "source": [
        "## Here we are attempting to scrape the twitter data for 6 twitter handles:\n",
        "1. Elon Musk \n",
        "2. Narendra Modi (Prime minister of India) \n",
        "3. The Academy Awards \n",
        "4. Twitter's own handle \n",
        "5. FIFA's twitter handle\n",
        "6. ANI (Indian twitter news handle)\n",
        "7. CNN news\n",
        "8. New York Times\n",
        "9. Wolf Street Journal\n",
        "10. TIME\n",
        "\n",
        "- For the scraping, we are using `snscrape.modules.twitter`, which takes in the query for a handle and gives out the info about it.\n",
        "- For an easier pre processing method, we are also using `nltk` package, which includes the use of `stopwords` and `nltk.stem.WordNetLemmatizer`."
      ],
      "metadata": {
        "id": "p42QnQM7hqRX"
      }
    },
    {
      "cell_type": "code",
      "source": [
        "# gathering the data for the mentioned twitter handles\n",
        "# after gathering data, no need to re run this.\n",
        "\n",
        "'''DO NOT RUN THIS CELL. IT IS FOR SCRAPING'''\n",
        "'''DATA HAS BEEN ALREADY EXTRACTED'''\n",
        "\n",
        "# queries that need to be passed to the snscrape\n",
        "queries = [\"(from:elonmusk) lang:en\", \"(from:TheAcademy) lang:en\", \n",
        "           \"(from:narendramodi) lang:en\", \"(from:twitter) lang:en\", \n",
        "           \"(from:FIFAcom) lang:en\",\"(from:ANI) lang:en\", \n",
        "           \"(from:cnn) lang:en\", \"(from:nytimes lang:en)\",\n",
        "           \"(from:WSJ lang:en)\", \"(from:TIME lang:en)\"]\n",
        "\n",
        "tweets = [] #creating an empty list of tweets\n",
        "for query in queries:\n",
        "  for i, tweet in enumerate(sntwitter.TwitterSearchScraper(query).get_items()):\n",
        "      if i>20000:\n",
        "          break\n",
        "      else:\n",
        "          tweets.append([tweet.date, tweet.id, tweet.url, tweet.user.username, \n",
        "                         tweet.sourceLabel, tweet.user.location, tweet.content, tweet.likeCount, tweet.retweetCount])\n",
        "          \n",
        "# creating a dataframe from the tweets list\n",
        "df = pd.DataFrame(tweets, columns = ['Date', 'ID', 'url', 'username', 'source', 'location', 'tweet', 'num_of_likes', 'num_of_retweet'])\n",
        "df.to_csv('summarization_updated.csv', mode = 'a')\n"
      ],
      "metadata": {
        "id": "NJvm29X9qLMG"
      },
      "execution_count": null,
      "outputs": []
    },
    {
      "cell_type": "markdown",
      "source": [
        "# DATA PRE-PROCESSING"
      ],
      "metadata": {
        "id": "6vHXdzP4c_CS"
      }
    },
    {
      "cell_type": "code",
      "source": [
        "# checking the data\n",
        "df =  pd.read_csv('summarization_updated.csv', encoding = 'unicode_escape')\n",
        "df.head()"
      ],
      "metadata": {
        "colab": {
          "base_uri": "https://localhost:8080/",
          "height": 515
        },
        "id": "OAhCmAEZtWKt",
        "outputId": "d0f0b16f-0055-45c0-f293-75293ce633c1"
      },
      "execution_count": null,
      "outputs": [
        {
          "output_type": "stream",
          "name": "stderr",
          "text": [
            "/usr/local/lib/python3.8/dist-packages/IPython/core/interactiveshell.py:3326: DtypeWarning: Columns (0) have mixed types.Specify dtype option on import or set low_memory=False.\n",
            "  exec(code_obj, self.user_global_ns, self.user_ns)\n"
          ]
        },
        {
          "output_type": "execute_result",
          "data": {
            "text/plain": [
              "  Unnamed: 0                       Date                   ID  \\\n",
              "0          0  2022-12-12 11:24:29+00:00  1602263113515954177   \n",
              "1          1  2022-12-12 11:01:19+00:00  1602257284062511104   \n",
              "2          2  2022-12-12 01:29:00+00:00  1602113254360162304   \n",
              "3          3  2022-12-12 01:13:11+00:00  1602109273923678208   \n",
              "4          4  2022-12-12 00:16:27+00:00  1602094998215749632   \n",
              "\n",
              "                                                 url  username  \\\n",
              "0  https://twitter.com/elonmusk/status/1602263113...  elonmusk   \n",
              "1  https://twitter.com/elonmusk/status/1602257284...  elonmusk   \n",
              "2  https://twitter.com/elonmusk/status/1602113254...  elonmusk   \n",
              "3  https://twitter.com/elonmusk/status/1602109273...  elonmusk   \n",
              "4  https://twitter.com/elonmusk/status/1602094998...  elonmusk   \n",
              "\n",
              "               source location  \\\n",
              "0  Twitter for iPhone      NaN   \n",
              "1  Twitter for iPhone      NaN   \n",
              "2  Twitter for iPhone      NaN   \n",
              "3  Twitter for iPhone      NaN   \n",
              "4  Twitter for iPhone      NaN   \n",
              "\n",
              "                                               tweet  num_of_likes  \\\n",
              "0                                Truth resonates â¦        4193.0   \n",
              "1  @catturd2 Easy to fool people, but it is almos...       12777.0   \n",
              "2  @StationCDRKelly I strongly disagree. Forcing ...      471902.0   \n",
              "3  @KariLake Reasonable criticism of elections an...       31599.0   \n",
              "4                @Erdayastronaut Howâs it looking?       10070.0   \n",
              "\n",
              "   num_of_retweet  \n",
              "0           354.0  \n",
              "1          2505.0  \n",
              "2         76981.0  \n",
              "3          3299.0  \n",
              "4           412.0  "
            ],
            "text/html": [
              "\n",
              "  <div id=\"df-ed45a066-5a05-47da-8c63-215034116dfa\">\n",
              "    <div class=\"colab-df-container\">\n",
              "      <div>\n",
              "<style scoped>\n",
              "    .dataframe tbody tr th:only-of-type {\n",
              "        vertical-align: middle;\n",
              "    }\n",
              "\n",
              "    .dataframe tbody tr th {\n",
              "        vertical-align: top;\n",
              "    }\n",
              "\n",
              "    .dataframe thead th {\n",
              "        text-align: right;\n",
              "    }\n",
              "</style>\n",
              "<table border=\"1\" class=\"dataframe\">\n",
              "  <thead>\n",
              "    <tr style=\"text-align: right;\">\n",
              "      <th></th>\n",
              "      <th>Unnamed: 0</th>\n",
              "      <th>Date</th>\n",
              "      <th>ID</th>\n",
              "      <th>url</th>\n",
              "      <th>username</th>\n",
              "      <th>source</th>\n",
              "      <th>location</th>\n",
              "      <th>tweet</th>\n",
              "      <th>num_of_likes</th>\n",
              "      <th>num_of_retweet</th>\n",
              "    </tr>\n",
              "  </thead>\n",
              "  <tbody>\n",
              "    <tr>\n",
              "      <th>0</th>\n",
              "      <td>0</td>\n",
              "      <td>2022-12-12 11:24:29+00:00</td>\n",
              "      <td>1602263113515954177</td>\n",
              "      <td>https://twitter.com/elonmusk/status/1602263113...</td>\n",
              "      <td>elonmusk</td>\n",
              "      <td>Twitter for iPhone</td>\n",
              "      <td>NaN</td>\n",
              "      <td>Truth resonates â¦</td>\n",
              "      <td>4193.0</td>\n",
              "      <td>354.0</td>\n",
              "    </tr>\n",
              "    <tr>\n",
              "      <th>1</th>\n",
              "      <td>1</td>\n",
              "      <td>2022-12-12 11:01:19+00:00</td>\n",
              "      <td>1602257284062511104</td>\n",
              "      <td>https://twitter.com/elonmusk/status/1602257284...</td>\n",
              "      <td>elonmusk</td>\n",
              "      <td>Twitter for iPhone</td>\n",
              "      <td>NaN</td>\n",
              "      <td>@catturd2 Easy to fool people, but it is almos...</td>\n",
              "      <td>12777.0</td>\n",
              "      <td>2505.0</td>\n",
              "    </tr>\n",
              "    <tr>\n",
              "      <th>2</th>\n",
              "      <td>2</td>\n",
              "      <td>2022-12-12 01:29:00+00:00</td>\n",
              "      <td>1602113254360162304</td>\n",
              "      <td>https://twitter.com/elonmusk/status/1602113254...</td>\n",
              "      <td>elonmusk</td>\n",
              "      <td>Twitter for iPhone</td>\n",
              "      <td>NaN</td>\n",
              "      <td>@StationCDRKelly I strongly disagree. Forcing ...</td>\n",
              "      <td>471902.0</td>\n",
              "      <td>76981.0</td>\n",
              "    </tr>\n",
              "    <tr>\n",
              "      <th>3</th>\n",
              "      <td>3</td>\n",
              "      <td>2022-12-12 01:13:11+00:00</td>\n",
              "      <td>1602109273923678208</td>\n",
              "      <td>https://twitter.com/elonmusk/status/1602109273...</td>\n",
              "      <td>elonmusk</td>\n",
              "      <td>Twitter for iPhone</td>\n",
              "      <td>NaN</td>\n",
              "      <td>@KariLake Reasonable criticism of elections an...</td>\n",
              "      <td>31599.0</td>\n",
              "      <td>3299.0</td>\n",
              "    </tr>\n",
              "    <tr>\n",
              "      <th>4</th>\n",
              "      <td>4</td>\n",
              "      <td>2022-12-12 00:16:27+00:00</td>\n",
              "      <td>1602094998215749632</td>\n",
              "      <td>https://twitter.com/elonmusk/status/1602094998...</td>\n",
              "      <td>elonmusk</td>\n",
              "      <td>Twitter for iPhone</td>\n",
              "      <td>NaN</td>\n",
              "      <td>@Erdayastronaut Howâs it looking?</td>\n",
              "      <td>10070.0</td>\n",
              "      <td>412.0</td>\n",
              "    </tr>\n",
              "  </tbody>\n",
              "</table>\n",
              "</div>\n",
              "      <button class=\"colab-df-convert\" onclick=\"convertToInteractive('df-ed45a066-5a05-47da-8c63-215034116dfa')\"\n",
              "              title=\"Convert this dataframe to an interactive table.\"\n",
              "              style=\"display:none;\">\n",
              "        \n",
              "  <svg xmlns=\"http://www.w3.org/2000/svg\" height=\"24px\"viewBox=\"0 0 24 24\"\n",
              "       width=\"24px\">\n",
              "    <path d=\"M0 0h24v24H0V0z\" fill=\"none\"/>\n",
              "    <path d=\"M18.56 5.44l.94 2.06.94-2.06 2.06-.94-2.06-.94-.94-2.06-.94 2.06-2.06.94zm-11 1L8.5 8.5l.94-2.06 2.06-.94-2.06-.94L8.5 2.5l-.94 2.06-2.06.94zm10 10l.94 2.06.94-2.06 2.06-.94-2.06-.94-.94-2.06-.94 2.06-2.06.94z\"/><path d=\"M17.41 7.96l-1.37-1.37c-.4-.4-.92-.59-1.43-.59-.52 0-1.04.2-1.43.59L10.3 9.45l-7.72 7.72c-.78.78-.78 2.05 0 2.83L4 21.41c.39.39.9.59 1.41.59.51 0 1.02-.2 1.41-.59l7.78-7.78 2.81-2.81c.8-.78.8-2.07 0-2.86zM5.41 20L4 18.59l7.72-7.72 1.47 1.35L5.41 20z\"/>\n",
              "  </svg>\n",
              "      </button>\n",
              "      \n",
              "  <style>\n",
              "    .colab-df-container {\n",
              "      display:flex;\n",
              "      flex-wrap:wrap;\n",
              "      gap: 12px;\n",
              "    }\n",
              "\n",
              "    .colab-df-convert {\n",
              "      background-color: #E8F0FE;\n",
              "      border: none;\n",
              "      border-radius: 50%;\n",
              "      cursor: pointer;\n",
              "      display: none;\n",
              "      fill: #1967D2;\n",
              "      height: 32px;\n",
              "      padding: 0 0 0 0;\n",
              "      width: 32px;\n",
              "    }\n",
              "\n",
              "    .colab-df-convert:hover {\n",
              "      background-color: #E2EBFA;\n",
              "      box-shadow: 0px 1px 2px rgba(60, 64, 67, 0.3), 0px 1px 3px 1px rgba(60, 64, 67, 0.15);\n",
              "      fill: #174EA6;\n",
              "    }\n",
              "\n",
              "    [theme=dark] .colab-df-convert {\n",
              "      background-color: #3B4455;\n",
              "      fill: #D2E3FC;\n",
              "    }\n",
              "\n",
              "    [theme=dark] .colab-df-convert:hover {\n",
              "      background-color: #434B5C;\n",
              "      box-shadow: 0px 1px 3px 1px rgba(0, 0, 0, 0.15);\n",
              "      filter: drop-shadow(0px 1px 2px rgba(0, 0, 0, 0.3));\n",
              "      fill: #FFFFFF;\n",
              "    }\n",
              "  </style>\n",
              "\n",
              "      <script>\n",
              "        const buttonEl =\n",
              "          document.querySelector('#df-ed45a066-5a05-47da-8c63-215034116dfa button.colab-df-convert');\n",
              "        buttonEl.style.display =\n",
              "          google.colab.kernel.accessAllowed ? 'block' : 'none';\n",
              "\n",
              "        async function convertToInteractive(key) {\n",
              "          const element = document.querySelector('#df-ed45a066-5a05-47da-8c63-215034116dfa');\n",
              "          const dataTable =\n",
              "            await google.colab.kernel.invokeFunction('convertToInteractive',\n",
              "                                                     [key], {});\n",
              "          if (!dataTable) return;\n",
              "\n",
              "          const docLinkHtml = 'Like what you see? Visit the ' +\n",
              "            '<a target=\"_blank\" href=https://colab.research.google.com/notebooks/data_table.ipynb>data table notebook</a>'\n",
              "            + ' to learn more about interactive tables.';\n",
              "          element.innerHTML = '';\n",
              "          dataTable['output_type'] = 'display_data';\n",
              "          await google.colab.output.renderOutput(dataTable, element);\n",
              "          const docLink = document.createElement('div');\n",
              "          docLink.innerHTML = docLinkHtml;\n",
              "          element.appendChild(docLink);\n",
              "        }\n",
              "      </script>\n",
              "    </div>\n",
              "  </div>\n",
              "  "
            ]
          },
          "metadata": {},
          "execution_count": 7
        }
      ]
    },
    {
      "cell_type": "code",
      "source": [
        "#check for missing values\n",
        "df.isnull().sum()"
      ],
      "metadata": {
        "colab": {
          "base_uri": "https://localhost:8080/"
        },
        "id": "DLcfxFEsg_fZ",
        "outputId": "48224da0-b7f8-41a2-967f-9158c141f316"
      },
      "execution_count": null,
      "outputs": [
        {
          "output_type": "execute_result",
          "data": {
            "text/plain": [
              "Unnamed: 0            0\n",
              "Date                  0\n",
              "ID                    0\n",
              "url                   1\n",
              "username              1\n",
              "source                1\n",
              "location          76193\n",
              "tweet                 1\n",
              "num_of_likes          2\n",
              "num_of_retweet        2\n",
              "dtype: int64"
            ]
          },
          "metadata": {},
          "execution_count": 8
        }
      ]
    },
    {
      "cell_type": "code",
      "source": [
        "# dropping all the unnecessary columns out of the dataframe\n",
        "df.drop([\"Unnamed: 0\",\"Date\",\"ID\",\"url\",\"source\",\"num_of_likes\",\"num_of_retweet\",\"location\"], axis = 1, inplace = True)"
      ],
      "metadata": {
        "id": "TrQwLtX-hHQ4"
      },
      "execution_count": null,
      "outputs": []
    },
    {
      "cell_type": "code",
      "source": [
        "df.head()"
      ],
      "metadata": {
        "colab": {
          "base_uri": "https://localhost:8080/",
          "height": 206
        },
        "id": "Rm55zUKboUBB",
        "outputId": "52de93e9-21c5-45c7-d1f9-dcc61a2aaa63"
      },
      "execution_count": null,
      "outputs": [
        {
          "output_type": "execute_result",
          "data": {
            "text/plain": [
              "   username                                              tweet\n",
              "0  elonmusk                                Truth resonates â¦\n",
              "1  elonmusk  @catturd2 Easy to fool people, but it is almos...\n",
              "2  elonmusk  @StationCDRKelly I strongly disagree. Forcing ...\n",
              "3  elonmusk  @KariLake Reasonable criticism of elections an...\n",
              "4  elonmusk                @Erdayastronaut Howâs it looking?"
            ],
            "text/html": [
              "\n",
              "  <div id=\"df-71adbb82-dbc2-4c72-8047-d4dfd518325f\">\n",
              "    <div class=\"colab-df-container\">\n",
              "      <div>\n",
              "<style scoped>\n",
              "    .dataframe tbody tr th:only-of-type {\n",
              "        vertical-align: middle;\n",
              "    }\n",
              "\n",
              "    .dataframe tbody tr th {\n",
              "        vertical-align: top;\n",
              "    }\n",
              "\n",
              "    .dataframe thead th {\n",
              "        text-align: right;\n",
              "    }\n",
              "</style>\n",
              "<table border=\"1\" class=\"dataframe\">\n",
              "  <thead>\n",
              "    <tr style=\"text-align: right;\">\n",
              "      <th></th>\n",
              "      <th>username</th>\n",
              "      <th>tweet</th>\n",
              "    </tr>\n",
              "  </thead>\n",
              "  <tbody>\n",
              "    <tr>\n",
              "      <th>0</th>\n",
              "      <td>elonmusk</td>\n",
              "      <td>Truth resonates â¦</td>\n",
              "    </tr>\n",
              "    <tr>\n",
              "      <th>1</th>\n",
              "      <td>elonmusk</td>\n",
              "      <td>@catturd2 Easy to fool people, but it is almos...</td>\n",
              "    </tr>\n",
              "    <tr>\n",
              "      <th>2</th>\n",
              "      <td>elonmusk</td>\n",
              "      <td>@StationCDRKelly I strongly disagree. Forcing ...</td>\n",
              "    </tr>\n",
              "    <tr>\n",
              "      <th>3</th>\n",
              "      <td>elonmusk</td>\n",
              "      <td>@KariLake Reasonable criticism of elections an...</td>\n",
              "    </tr>\n",
              "    <tr>\n",
              "      <th>4</th>\n",
              "      <td>elonmusk</td>\n",
              "      <td>@Erdayastronaut Howâs it looking?</td>\n",
              "    </tr>\n",
              "  </tbody>\n",
              "</table>\n",
              "</div>\n",
              "      <button class=\"colab-df-convert\" onclick=\"convertToInteractive('df-71adbb82-dbc2-4c72-8047-d4dfd518325f')\"\n",
              "              title=\"Convert this dataframe to an interactive table.\"\n",
              "              style=\"display:none;\">\n",
              "        \n",
              "  <svg xmlns=\"http://www.w3.org/2000/svg\" height=\"24px\"viewBox=\"0 0 24 24\"\n",
              "       width=\"24px\">\n",
              "    <path d=\"M0 0h24v24H0V0z\" fill=\"none\"/>\n",
              "    <path d=\"M18.56 5.44l.94 2.06.94-2.06 2.06-.94-2.06-.94-.94-2.06-.94 2.06-2.06.94zm-11 1L8.5 8.5l.94-2.06 2.06-.94-2.06-.94L8.5 2.5l-.94 2.06-2.06.94zm10 10l.94 2.06.94-2.06 2.06-.94-2.06-.94-.94-2.06-.94 2.06-2.06.94z\"/><path d=\"M17.41 7.96l-1.37-1.37c-.4-.4-.92-.59-1.43-.59-.52 0-1.04.2-1.43.59L10.3 9.45l-7.72 7.72c-.78.78-.78 2.05 0 2.83L4 21.41c.39.39.9.59 1.41.59.51 0 1.02-.2 1.41-.59l7.78-7.78 2.81-2.81c.8-.78.8-2.07 0-2.86zM5.41 20L4 18.59l7.72-7.72 1.47 1.35L5.41 20z\"/>\n",
              "  </svg>\n",
              "      </button>\n",
              "      \n",
              "  <style>\n",
              "    .colab-df-container {\n",
              "      display:flex;\n",
              "      flex-wrap:wrap;\n",
              "      gap: 12px;\n",
              "    }\n",
              "\n",
              "    .colab-df-convert {\n",
              "      background-color: #E8F0FE;\n",
              "      border: none;\n",
              "      border-radius: 50%;\n",
              "      cursor: pointer;\n",
              "      display: none;\n",
              "      fill: #1967D2;\n",
              "      height: 32px;\n",
              "      padding: 0 0 0 0;\n",
              "      width: 32px;\n",
              "    }\n",
              "\n",
              "    .colab-df-convert:hover {\n",
              "      background-color: #E2EBFA;\n",
              "      box-shadow: 0px 1px 2px rgba(60, 64, 67, 0.3), 0px 1px 3px 1px rgba(60, 64, 67, 0.15);\n",
              "      fill: #174EA6;\n",
              "    }\n",
              "\n",
              "    [theme=dark] .colab-df-convert {\n",
              "      background-color: #3B4455;\n",
              "      fill: #D2E3FC;\n",
              "    }\n",
              "\n",
              "    [theme=dark] .colab-df-convert:hover {\n",
              "      background-color: #434B5C;\n",
              "      box-shadow: 0px 1px 3px 1px rgba(0, 0, 0, 0.15);\n",
              "      filter: drop-shadow(0px 1px 2px rgba(0, 0, 0, 0.3));\n",
              "      fill: #FFFFFF;\n",
              "    }\n",
              "  </style>\n",
              "\n",
              "      <script>\n",
              "        const buttonEl =\n",
              "          document.querySelector('#df-71adbb82-dbc2-4c72-8047-d4dfd518325f button.colab-df-convert');\n",
              "        buttonEl.style.display =\n",
              "          google.colab.kernel.accessAllowed ? 'block' : 'none';\n",
              "\n",
              "        async function convertToInteractive(key) {\n",
              "          const element = document.querySelector('#df-71adbb82-dbc2-4c72-8047-d4dfd518325f');\n",
              "          const dataTable =\n",
              "            await google.colab.kernel.invokeFunction('convertToInteractive',\n",
              "                                                     [key], {});\n",
              "          if (!dataTable) return;\n",
              "\n",
              "          const docLinkHtml = 'Like what you see? Visit the ' +\n",
              "            '<a target=\"_blank\" href=https://colab.research.google.com/notebooks/data_table.ipynb>data table notebook</a>'\n",
              "            + ' to learn more about interactive tables.';\n",
              "          element.innerHTML = '';\n",
              "          dataTable['output_type'] = 'display_data';\n",
              "          await google.colab.output.renderOutput(dataTable, element);\n",
              "          const docLink = document.createElement('div');\n",
              "          docLink.innerHTML = docLinkHtml;\n",
              "          element.appendChild(docLink);\n",
              "        }\n",
              "      </script>\n",
              "    </div>\n",
              "  </div>\n",
              "  "
            ]
          },
          "metadata": {},
          "execution_count": 10
        }
      ]
    },
    {
      "cell_type": "code",
      "source": [
        "# checking a random tweet from the dataframe\n",
        "df['tweet'].iloc[2]"
      ],
      "metadata": {
        "colab": {
          "base_uri": "https://localhost:8080/",
          "height": 73
        },
        "id": "xXMzO_U1zrCV",
        "outputId": "70972c80-deab-4fd6-8775-27cf60ac2fb8"
      },
      "execution_count": null,
      "outputs": [
        {
          "output_type": "execute_result",
          "data": {
            "text/plain": [
              "'@StationCDRKelly I strongly disagree. Forcing your pronouns upon others when they didnâ\\x80\\x99t ask, and implicitly ostracizing those who donâ\\x80\\x99t, is neither good nor kind to anyone.\\n\\nAs for Fauci, he lied to Congress and funded gain-of-function research that killed millions of people. Not awesome imo.'"
            ],
            "application/vnd.google.colaboratory.intrinsic+json": {
              "type": "string"
            }
          },
          "metadata": {},
          "execution_count": 12
        }
      ]
    },
    {
      "cell_type": "markdown",
      "source": [
        "* As we can see from the printed tweet, it contains a lot of noise in the form of special characters and emojis, etc. This needs to be removed so that it does not halt or cause any kind of training error in the later stages"
      ],
      "metadata": {
        "id": "H05Z8Z3P9PiZ"
      }
    },
    {
      "cell_type": "markdown",
      "source": [
        "## Pre processing of the Tweets"
      ],
      "metadata": {
        "id": "SDfkg1DG-qMW"
      }
    },
    {
      "cell_type": "markdown",
      "source": [
        "* For preprocessing we need to first initialize we packages-\n",
        "1. `nltk.corpus.stopwords` - and we are getting all the stopwords for English vocabulary\n",
        "2. `emot.emo_unicode.UNICODE_EMOJI` - the emojis which are most prevelant on social media\n",
        "3. `WordNetLemmatizer` - to get the core word in some of compound words (for example - \"have\" from \"having\", etc.)"
      ],
      "metadata": {
        "id": "S9m077y3Aghy"
      }
    },
    {
      "cell_type": "code",
      "source": [
        "#initialising the stopwords, emojis and lemmatizer\n",
        "eng_stop_words = list(stopwords.words('english'))\n",
        "\n",
        "emoji = list(UNICODE_EMOJI.keys())\n",
        "\n",
        "lemmatizer = WordNetLemmatizer() "
      ],
      "metadata": {
        "id": "7cXDRz4e6db4"
      },
      "execution_count": null,
      "outputs": []
    },
    {
      "cell_type": "markdown",
      "source": [
        "* Next we create a function, which takes in a sentence, lowers it, removes all non alphanumeric characters and @usernames (reply to other twitter handles) "
      ],
      "metadata": {
        "id": "OjLIRiraCYlt"
      }
    },
    {
      "cell_type": "code",
      "source": [
        "# function for preprocessing tweet in preparation for tweets\n",
        "def processed_tweets(text):\n",
        "\n",
        "    # changing tweet text to small letters\n",
        "    text = str(text).lower()\n",
        "\n",
        "    # Removing @ and links \n",
        "    text = re.sub(\"(@[A-Za-z0-9]+)|([^0-9A-Za-z \\t]) |(\\w+:\\/\\/\\S+)\", \" \", text)\n",
        "\n",
        "    # removing repeating characters\n",
        "    text = re.sub(r'\\@\\w+|\\#\\w+|\\d+', '', text)\n",
        "\n",
        "    # removing non alphanumeric characters\n",
        "    text = ''.join(char for char in text if char.isalnum() or char == ' ')\n",
        "\n",
        "    # removing punctuation and numbers\n",
        "    punct = str.maketrans('', '', string.punctuation+string.digits)\n",
        "    text = text.translate(punct)\n",
        "\n",
        "    # splitting the text based on whitespaces\n",
        "    word_list = text.split()\n",
        "\n",
        "    # filtering the words which are not in emoji\n",
        "    filtered_words = [w for w in word_list if w not in emoji]\n",
        "\n",
        "    # joining the words together with whitespace\n",
        "    new_text = \" \".join(filtered_words)\n",
        "\n",
        "    return new_text"
      ],
      "metadata": {
        "id": "iV__-_pCoYF6"
      },
      "execution_count": null,
      "outputs": []
    },
    {
      "cell_type": "code",
      "source": [
        "# applying the processing function to the tweets in dataframe\n",
        "df['processed_tweets'] = df['tweet'].apply(processed_tweets)"
      ],
      "metadata": {
        "id": "iFeUbfwgxRf6"
      },
      "execution_count": null,
      "outputs": []
    },
    {
      "cell_type": "code",
      "source": [
        "# checking the processed tweet\n",
        "df['processed_tweets'].iloc[2]"
      ],
      "metadata": {
        "colab": {
          "base_uri": "https://localhost:8080/",
          "height": 55
        },
        "id": "vpf9ZX8T7fuD",
        "outputId": "b29714e6-77a0-4029-e35e-048134d5481b"
      },
      "execution_count": null,
      "outputs": [
        {
          "output_type": "execute_result",
          "data": {
            "text/plain": [
              "'i strongly disagree forcing your pronouns upon others when they didnât ask and implicitly ostracizing those who donât is neither good nor kind to anyoneas for fauci he lied to congress and funded gainoffunction research that killed millions of people not awesome imo'"
            ],
            "application/vnd.google.colaboratory.intrinsic+json": {
              "type": "string"
            }
          },
          "metadata": {},
          "execution_count": 16
        }
      ]
    },
    {
      "cell_type": "markdown",
      "source": [
        "* Now we will attempt to create a Word Cloud for all the tweets and find the top 200 words that are used in the dataset"
      ],
      "metadata": {
        "id": "UZUs1wudDMAE"
      }
    },
    {
      "cell_type": "code",
      "source": [
        "# creating a list of all the tweets and creating a single text file\n",
        "all_tweets_list = df['processed_tweets'].tolist()\n",
        "tweets_list = \" \".join(all_tweets_list)"
      ],
      "metadata": {
        "id": "kAFEMA8KhTzW"
      },
      "execution_count": null,
      "outputs": []
    },
    {
      "cell_type": "code",
      "source": [
        "# to create the wordcloud we remove all the stopwords and getting root word using lemmatizer\n",
        "tweets_list_words = tweets_list.split()\n",
        "req_words = [w for w in tweets_list_words if w not in eng_stop_words]\n",
        "origin_words = [lemmatizer.lemmatize(w) for w in req_words]\n",
        "cloud_text = \" \".join(origin_words)"
      ],
      "metadata": {
        "id": "-fkqqaBiIxg5"
      },
      "execution_count": null,
      "outputs": []
    },
    {
      "cell_type": "code",
      "source": [
        "# Displaying the most talked about word in a word cloud \n",
        "# Instantiate the Twitter word cloud object\n",
        "w_cloud = WordCloud(collocations = False,max_words=200, background_color = 'white', width = 7000, height = 5000).generate(cloud_text)\n",
        "\n",
        "# Display the generated Word Cloud\n",
        "plt.figure(figsize = (20,10))\n",
        "plt.imshow(w_cloud, interpolation='bilinear')\n",
        "plt.axis(\"off\")\n",
        "plt.show()"
      ],
      "metadata": {
        "colab": {
          "base_uri": "https://localhost:8080/",
          "height": 575
        },
        "id": "B_7gDlK73iJH",
        "outputId": "4bfcc168-4f6d-4ea5-f303-22e7688b981d"
      },
      "execution_count": null,
      "outputs": [
        {
          "output_type": "display_data",
          "data": {
            "text/plain": [
              "<Figure size 1440x720 with 1 Axes>"
            ],
            "image/png": "[encoded data removed]"
          },
          "metadata": {
            "needs_background": "light"
          }
        }
      ]
    },
    {
      "cell_type": "code",
      "source": [
        "# adding start and end tokens to the dataset\n",
        "df['model feed'] = \"<s> \" + df['processed_tweets'] + \" </s>\""
      ],
      "metadata": {
        "id": "AprHKirsdNs2"
      },
      "execution_count": null,
      "outputs": []
    },
    {
      "cell_type": "code",
      "source": [
        "df.head()"
      ],
      "metadata": {
        "colab": {
          "base_uri": "https://localhost:8080/",
          "height": 206
        },
        "id": "TXu0iOgAdct5",
        "outputId": "ae0a8a62-9a18-416d-f0e8-2080453c66a7"
      },
      "execution_count": null,
      "outputs": [
        {
          "output_type": "execute_result",
          "data": {
            "text/plain": [
              "   username                                              tweet  \\\n",
              "0  elonmusk                                Truth resonates â¦   \n",
              "1  elonmusk  @catturd2 Easy to fool people, but it is almos...   \n",
              "2  elonmusk  @StationCDRKelly I strongly disagree. Forcing ...   \n",
              "3  elonmusk  @KariLake Reasonable criticism of elections an...   \n",
              "4  elonmusk                @Erdayastronaut Howâs it looking?   \n",
              "\n",
              "                                    processed_tweets  \\\n",
              "0                                  truth resonates â   \n",
              "1  easy to fool people but it is almost impossibl...   \n",
              "2  i strongly disagree forcing your pronouns upon...   \n",
              "3  reasonable criticism of elections and judicial...   \n",
              "4                                   howâs it looking   \n",
              "\n",
              "                                          model feed  \n",
              "0                         <s> truth resonates â </s>  \n",
              "1  <s> easy to fool people but it is almost impos...  \n",
              "2  <s> i strongly disagree forcing your pronouns ...  \n",
              "3  <s> reasonable criticism of elections and judi...  \n",
              "4                          <s> howâs it looking </s>  "
            ],
            "text/html": [
              "\n",
              "  <div id=\"df-7dc5c507-43eb-4fc6-b62a-46fea3a617cb\">\n",
              "    <div class=\"colab-df-container\">\n",
              "      <div>\n",
              "<style scoped>\n",
              "    .dataframe tbody tr th:only-of-type {\n",
              "        vertical-align: middle;\n",
              "    }\n",
              "\n",
              "    .dataframe tbody tr th {\n",
              "        vertical-align: top;\n",
              "    }\n",
              "\n",
              "    .dataframe thead th {\n",
              "        text-align: right;\n",
              "    }\n",
              "</style>\n",
              "<table border=\"1\" class=\"dataframe\">\n",
              "  <thead>\n",
              "    <tr style=\"text-align: right;\">\n",
              "      <th></th>\n",
              "      <th>username</th>\n",
              "      <th>tweet</th>\n",
              "      <th>processed_tweets</th>\n",
              "      <th>model feed</th>\n",
              "    </tr>\n",
              "  </thead>\n",
              "  <tbody>\n",
              "    <tr>\n",
              "      <th>0</th>\n",
              "      <td>elonmusk</td>\n",
              "      <td>Truth resonates â¦</td>\n",
              "      <td>truth resonates â</td>\n",
              "      <td>&lt;s&gt; truth resonates â &lt;/s&gt;</td>\n",
              "    </tr>\n",
              "    <tr>\n",
              "      <th>1</th>\n",
              "      <td>elonmusk</td>\n",
              "      <td>@catturd2 Easy to fool people, but it is almos...</td>\n",
              "      <td>easy to fool people but it is almost impossibl...</td>\n",
              "      <td>&lt;s&gt; easy to fool people but it is almost impos...</td>\n",
              "    </tr>\n",
              "    <tr>\n",
              "      <th>2</th>\n",
              "      <td>elonmusk</td>\n",
              "      <td>@StationCDRKelly I strongly disagree. Forcing ...</td>\n",
              "      <td>i strongly disagree forcing your pronouns upon...</td>\n",
              "      <td>&lt;s&gt; i strongly disagree forcing your pronouns ...</td>\n",
              "    </tr>\n",
              "    <tr>\n",
              "      <th>3</th>\n",
              "      <td>elonmusk</td>\n",
              "      <td>@KariLake Reasonable criticism of elections an...</td>\n",
              "      <td>reasonable criticism of elections and judicial...</td>\n",
              "      <td>&lt;s&gt; reasonable criticism of elections and judi...</td>\n",
              "    </tr>\n",
              "    <tr>\n",
              "      <th>4</th>\n",
              "      <td>elonmusk</td>\n",
              "      <td>@Erdayastronaut Howâs it looking?</td>\n",
              "      <td>howâs it looking</td>\n",
              "      <td>&lt;s&gt; howâs it looking &lt;/s&gt;</td>\n",
              "    </tr>\n",
              "  </tbody>\n",
              "</table>\n",
              "</div>\n",
              "      <button class=\"colab-df-convert\" onclick=\"convertToInteractive('df-7dc5c507-43eb-4fc6-b62a-46fea3a617cb')\"\n",
              "              title=\"Convert this dataframe to an interactive table.\"\n",
              "              style=\"display:none;\">\n",
              "        \n",
              "  <svg xmlns=\"http://www.w3.org/2000/svg\" height=\"24px\"viewBox=\"0 0 24 24\"\n",
              "       width=\"24px\">\n",
              "    <path d=\"M0 0h24v24H0V0z\" fill=\"none\"/>\n",
              "    <path d=\"M18.56 5.44l.94 2.06.94-2.06 2.06-.94-2.06-.94-.94-2.06-.94 2.06-2.06.94zm-11 1L8.5 8.5l.94-2.06 2.06-.94-2.06-.94L8.5 2.5l-.94 2.06-2.06.94zm10 10l.94 2.06.94-2.06 2.06-.94-2.06-.94-.94-2.06-.94 2.06-2.06.94z\"/><path d=\"M17.41 7.96l-1.37-1.37c-.4-.4-.92-.59-1.43-.59-.52 0-1.04.2-1.43.59L10.3 9.45l-7.72 7.72c-.78.78-.78 2.05 0 2.83L4 21.41c.39.39.9.59 1.41.59.51 0 1.02-.2 1.41-.59l7.78-7.78 2.81-2.81c.8-.78.8-2.07 0-2.86zM5.41 20L4 18.59l7.72-7.72 1.47 1.35L5.41 20z\"/>\n",
              "  </svg>\n",
              "      </button>\n",
              "      \n",
              "  <style>\n",
              "    .colab-df-container {\n",
              "      display:flex;\n",
              "      flex-wrap:wrap;\n",
              "      gap: 12px;\n",
              "    }\n",
              "\n",
              "    .colab-df-convert {\n",
              "      background-color: #E8F0FE;\n",
              "      border: none;\n",
              "      border-radius: 50%;\n",
              "      cursor: pointer;\n",
              "      display: none;\n",
              "      fill: #1967D2;\n",
              "      height: 32px;\n",
              "      padding: 0 0 0 0;\n",
              "      width: 32px;\n",
              "    }\n",
              "\n",
              "    .colab-df-convert:hover {\n",
              "      background-color: #E2EBFA;\n",
              "      box-shadow: 0px 1px 2px rgba(60, 64, 67, 0.3), 0px 1px 3px 1px rgba(60, 64, 67, 0.15);\n",
              "      fill: #174EA6;\n",
              "    }\n",
              "\n",
              "    [theme=dark] .colab-df-convert {\n",
              "      background-color: #3B4455;\n",
              "      fill: #D2E3FC;\n",
              "    }\n",
              "\n",
              "    [theme=dark] .colab-df-convert:hover {\n",
              "      background-color: #434B5C;\n",
              "      box-shadow: 0px 1px 3px 1px rgba(0, 0, 0, 0.15);\n",
              "      filter: drop-shadow(0px 1px 2px rgba(0, 0, 0, 0.3));\n",
              "      fill: #FFFFFF;\n",
              "    }\n",
              "  </style>\n",
              "\n",
              "      <script>\n",
              "        const buttonEl =\n",
              "          document.querySelector('#df-7dc5c507-43eb-4fc6-b62a-46fea3a617cb button.colab-df-convert');\n",
              "        buttonEl.style.display =\n",
              "          google.colab.kernel.accessAllowed ? 'block' : 'none';\n",
              "\n",
              "        async function convertToInteractive(key) {\n",
              "          const element = document.querySelector('#df-7dc5c507-43eb-4fc6-b62a-46fea3a617cb');\n",
              "          const dataTable =\n",
              "            await google.colab.kernel.invokeFunction('convertToInteractive',\n",
              "                                                     [key], {});\n",
              "          if (!dataTable) return;\n",
              "\n",
              "          const docLinkHtml = 'Like what you see? Visit the ' +\n",
              "            '<a target=\"_blank\" href=https://colab.research.google.com/notebooks/data_table.ipynb>data table notebook</a>'\n",
              "            + ' to learn more about interactive tables.';\n",
              "          element.innerHTML = '';\n",
              "          dataTable['output_type'] = 'display_data';\n",
              "          await google.colab.output.renderOutput(dataTable, element);\n",
              "          const docLink = document.createElement('div');\n",
              "          docLink.innerHTML = docLinkHtml;\n",
              "          element.appendChild(docLink);\n",
              "        }\n",
              "      </script>\n",
              "    </div>\n",
              "  </div>\n",
              "  "
            ]
          },
          "metadata": {},
          "execution_count": 21
        }
      ]
    },
    {
      "cell_type": "markdown",
      "source": [
        "## Text classification using ULMFiT"
      ],
      "metadata": {
        "id": "peaTpxevTdqs"
      }
    },
    {
      "cell_type": "markdown",
      "source": [
        "### Creating a Snetiment column for the tweets"
      ],
      "metadata": {
        "id": "T0_dPrTqGMh6"
      }
    },
    {
      "cell_type": "markdown",
      "source": [
        "* For Text classification, we will try to classify the sentiment of the tweet posted by each twitter handle.\n",
        "* To achieve this, first we need to get the polarity of the tweet\n",
        "* The polarity of the tweet is divided into three parts:\n",
        "  1. `Positive` - if the polarity is greater than zero\n",
        "  2. `Neutral` - if the polarity is equal to zero\n",
        "  3. `Negative` - if the polarity is less than zero\n",
        "\n",
        "* For getting the polarity, we are using the `textblob` library."
      ],
      "metadata": {
        "id": "mXtiMBnMEqKE"
      }
    },
    {
      "cell_type": "code",
      "source": [
        "# create a function for polarity calculation of tweets\n",
        "def polarity(tweet):\n",
        "  return TextBlob(tweet).sentiment.polarity\n",
        "\n",
        "# create a mapping function based on polarity\n",
        "def sentiment(pol):\n",
        "  if pol < 0:\n",
        "    return 0\n",
        "  elif pol == 0:\n",
        "    return 1\n",
        "  else:\n",
        "    return 2"
      ],
      "metadata": {
        "id": "WepzuNDCniDk"
      },
      "execution_count": null,
      "outputs": []
    },
    {
      "cell_type": "code",
      "source": [
        "# mapping both the functions to get the sentiment of our tweets\n",
        "df['polarity'] = df['processed_tweets'].apply(polarity)\n",
        "df['sentiment'] = df['polarity'].apply(sentiment)"
      ],
      "metadata": {
        "id": "M5a4Trg4oiDM"
      },
      "execution_count": null,
      "outputs": []
    },
    {
      "cell_type": "code",
      "source": [
        "df.head()"
      ],
      "metadata": {
        "colab": {
          "base_uri": "https://localhost:8080/",
          "height": 493
        },
        "id": "toPPNoigo4C1",
        "outputId": "9fe04595-cf8d-42c5-f29f-fce04775c7e1"
      },
      "execution_count": null,
      "outputs": [
        {
          "output_type": "execute_result",
          "data": {
            "text/plain": [
              "   username  \\\n",
              "0  elonmusk   \n",
              "1  elonmusk   \n",
              "2  elonmusk   \n",
              "3  elonmusk   \n",
              "4  elonmusk   \n",
              "\n",
              "                                                                                                                                                                                                                                                                                                          tweet  \\\n",
              "0                                                                                                                                                                                                                                                                                           Truth resonates â¦   \n",
              "1                                                                                                                                                                                                      @catturd2 Easy to fool people, but it is almost impossible to convince people that they have been fooled   \n",
              "2  @StationCDRKelly I strongly disagree. Forcing your pronouns upon others when they didnât ask, and implicitly ostracizing those who donât, is neither good nor kind to anyone.\\n\\nAs for Fauci, he lied to Congress and funded gain-of-function research that killed millions of people. Not awesome imo.   \n",
              "3                                                @KariLake Reasonable criticism of elections and judicial challenges are, of course, lawful. That seems to be the case here.\\n\\nClear incitement to violence will result in suspension and significant deception should result in a @CommunityNotes correction.   \n",
              "4                                                                                                                                                                                                                                                                           @Erdayastronaut Howâs it looking?   \n",
              "\n",
              "                                                                                                                                                                                                                                                             processed_tweets  \\\n",
              "0                                                                                                                                                                                                                                                           truth resonates â   \n",
              "1                                                                                                                                                                               easy to fool people but it is almost impossible to convince people that they have been fooled   \n",
              "2  i strongly disagree forcing your pronouns upon others when they didnât ask and implicitly ostracizing those who donât is neither good nor kind to anyoneas for fauci he lied to congress and funded gainoffunction research that killed millions of people not awesome imo   \n",
              "3                                                 reasonable criticism of elections and judicial challenges are of course lawful that seems to be the case hereclear incitement to violence will result in suspension and significant deception should result in a correction   \n",
              "4                                                                                                                                                                                                                                                            howâs it looking   \n",
              "\n",
              "                                                                                                                                                                                                                                                                            model feed  \\\n",
              "0                                                                                                                                                                                                                                                           <s> truth resonates â </s>   \n",
              "1                                                                                                                                                                               <s> easy to fool people but it is almost impossible to convince people that they have been fooled </s>   \n",
              "2  <s> i strongly disagree forcing your pronouns upon others when they didnât ask and implicitly ostracizing those who donât is neither good nor kind to anyoneas for fauci he lied to congress and funded gainoffunction research that killed millions of people not awesome imo </s>   \n",
              "3                                                 <s> reasonable criticism of elections and judicial challenges are of course lawful that seems to be the case hereclear incitement to violence will result in suspension and significant deception should result in a correction </s>   \n",
              "4                                                                                                                                                                                                                                                            <s> howâs it looking </s>   \n",
              "\n",
              "   polarity  sentiment  \n",
              "0  0.000000          1  \n",
              "1 -0.116667          0  \n",
              "2  0.206667          2  \n",
              "3  0.191667          2  \n",
              "4  0.000000          1  "
            ],
            "text/html": [
              "\n",
              "  <div id=\"df-ffb59800-e197-4363-8ed3-58c5d8f96623\">\n",
              "    <div class=\"colab-df-container\">\n",
              "      <div>\n",
              "<style scoped>\n",
              "    .dataframe tbody tr th:only-of-type {\n",
              "        vertical-align: middle;\n",
              "    }\n",
              "\n",
              "    .dataframe tbody tr th {\n",
              "        vertical-align: top;\n",
              "    }\n",
              "\n",
              "    .dataframe thead th {\n",
              "        text-align: right;\n",
              "    }\n",
              "</style>\n",
              "<table border=\"1\" class=\"dataframe\">\n",
              "  <thead>\n",
              "    <tr style=\"text-align: right;\">\n",
              "      <th></th>\n",
              "      <th>username</th>\n",
              "      <th>tweet</th>\n",
              "      <th>processed_tweets</th>\n",
              "      <th>model feed</th>\n",
              "      <th>polarity</th>\n",
              "      <th>sentiment</th>\n",
              "    </tr>\n",
              "  </thead>\n",
              "  <tbody>\n",
              "    <tr>\n",
              "      <th>0</th>\n",
              "      <td>elonmusk</td>\n",
              "      <td>Truth resonates â¦</td>\n",
              "      <td>truth resonates â</td>\n",
              "      <td>&lt;s&gt; truth resonates â &lt;/s&gt;</td>\n",
              "      <td>0.000000</td>\n",
              "      <td>1</td>\n",
              "    </tr>\n",
              "    <tr>\n",
              "      <th>1</th>\n",
              "      <td>elonmusk</td>\n",
              "      <td>@catturd2 Easy to fool people, but it is almost impossible to convince people that they have been fooled</td>\n",
              "      <td>easy to fool people but it is almost impossible to convince people that they have been fooled</td>\n",
              "      <td>&lt;s&gt; easy to fool people but it is almost impossible to convince people that they have been fooled &lt;/s&gt;</td>\n",
              "      <td>-0.116667</td>\n",
              "      <td>0</td>\n",
              "    </tr>\n",
              "    <tr>\n",
              "      <th>2</th>\n",
              "      <td>elonmusk</td>\n",
              "      <td>@StationCDRKelly I strongly disagree. Forcing your pronouns upon others when they didnât ask, and implicitly ostracizing those who donât, is neither good nor kind to anyone.\\n\\nAs for Fauci, he lied to Congress and funded gain-of-function research that killed millions of people. Not awesome imo.</td>\n",
              "      <td>i strongly disagree forcing your pronouns upon others when they didnât ask and implicitly ostracizing those who donât is neither good nor kind to anyoneas for fauci he lied to congress and funded gainoffunction research that killed millions of people not awesome imo</td>\n",
              "      <td>&lt;s&gt; i strongly disagree forcing your pronouns upon others when they didnât ask and implicitly ostracizing those who donât is neither good nor kind to anyoneas for fauci he lied to congress and funded gainoffunction research that killed millions of people not awesome imo &lt;/s&gt;</td>\n",
              "      <td>0.206667</td>\n",
              "      <td>2</td>\n",
              "    </tr>\n",
              "    <tr>\n",
              "      <th>3</th>\n",
              "      <td>elonmusk</td>\n",
              "      <td>@KariLake Reasonable criticism of elections and judicial challenges are, of course, lawful. That seems to be the case here.\\n\\nClear incitement to violence will result in suspension and significant deception should result in a @CommunityNotes correction.</td>\n",
              "      <td>reasonable criticism of elections and judicial challenges are of course lawful that seems to be the case hereclear incitement to violence will result in suspension and significant deception should result in a correction</td>\n",
              "      <td>&lt;s&gt; reasonable criticism of elections and judicial challenges are of course lawful that seems to be the case hereclear incitement to violence will result in suspension and significant deception should result in a correction &lt;/s&gt;</td>\n",
              "      <td>0.191667</td>\n",
              "      <td>2</td>\n",
              "    </tr>\n",
              "    <tr>\n",
              "      <th>4</th>\n",
              "      <td>elonmusk</td>\n",
              "      <td>@Erdayastronaut Howâs it looking?</td>\n",
              "      <td>howâs it looking</td>\n",
              "      <td>&lt;s&gt; howâs it looking &lt;/s&gt;</td>\n",
              "      <td>0.000000</td>\n",
              "      <td>1</td>\n",
              "    </tr>\n",
              "  </tbody>\n",
              "</table>\n",
              "</div>\n",
              "      <button class=\"colab-df-convert\" onclick=\"convertToInteractive('df-ffb59800-e197-4363-8ed3-58c5d8f96623')\"\n",
              "              title=\"Convert this dataframe to an interactive table.\"\n",
              "              style=\"display:none;\">\n",
              "        \n",
              "  <svg xmlns=\"http://www.w3.org/2000/svg\" height=\"24px\"viewBox=\"0 0 24 24\"\n",
              "       width=\"24px\">\n",
              "    <path d=\"M0 0h24v24H0V0z\" fill=\"none\"/>\n",
              "    <path d=\"M18.56 5.44l.94 2.06.94-2.06 2.06-.94-2.06-.94-.94-2.06-.94 2.06-2.06.94zm-11 1L8.5 8.5l.94-2.06 2.06-.94-2.06-.94L8.5 2.5l-.94 2.06-2.06.94zm10 10l.94 2.06.94-2.06 2.06-.94-2.06-.94-.94-2.06-.94 2.06-2.06.94z\"/><path d=\"M17.41 7.96l-1.37-1.37c-.4-.4-.92-.59-1.43-.59-.52 0-1.04.2-1.43.59L10.3 9.45l-7.72 7.72c-.78.78-.78 2.05 0 2.83L4 21.41c.39.39.9.59 1.41.59.51 0 1.02-.2 1.41-.59l7.78-7.78 2.81-2.81c.8-.78.8-2.07 0-2.86zM5.41 20L4 18.59l7.72-7.72 1.47 1.35L5.41 20z\"/>\n",
              "  </svg>\n",
              "      </button>\n",
              "      \n",
              "  <style>\n",
              "    .colab-df-container {\n",
              "      display:flex;\n",
              "      flex-wrap:wrap;\n",
              "      gap: 12px;\n",
              "    }\n",
              "\n",
              "    .colab-df-convert {\n",
              "      background-color: #E8F0FE;\n",
              "      border: none;\n",
              "      border-radius: 50%;\n",
              "      cursor: pointer;\n",
              "      display: none;\n",
              "      fill: #1967D2;\n",
              "      height: 32px;\n",
              "      padding: 0 0 0 0;\n",
              "      width: 32px;\n",
              "    }\n",
              "\n",
              "    .colab-df-convert:hover {\n",
              "      background-color: #E2EBFA;\n",
              "      box-shadow: 0px 1px 2px rgba(60, 64, 67, 0.3), 0px 1px 3px 1px rgba(60, 64, 67, 0.15);\n",
              "      fill: #174EA6;\n",
              "    }\n",
              "\n",
              "    [theme=dark] .colab-df-convert {\n",
              "      background-color: #3B4455;\n",
              "      fill: #D2E3FC;\n",
              "    }\n",
              "\n",
              "    [theme=dark] .colab-df-convert:hover {\n",
              "      background-color: #434B5C;\n",
              "      box-shadow: 0px 1px 3px 1px rgba(0, 0, 0, 0.15);\n",
              "      filter: drop-shadow(0px 1px 2px rgba(0, 0, 0, 0.3));\n",
              "      fill: #FFFFFF;\n",
              "    }\n",
              "  </style>\n",
              "\n",
              "      <script>\n",
              "        const buttonEl =\n",
              "          document.querySelector('#df-ffb59800-e197-4363-8ed3-58c5d8f96623 button.colab-df-convert');\n",
              "        buttonEl.style.display =\n",
              "          google.colab.kernel.accessAllowed ? 'block' : 'none';\n",
              "\n",
              "        async function convertToInteractive(key) {\n",
              "          const element = document.querySelector('#df-ffb59800-e197-4363-8ed3-58c5d8f96623');\n",
              "          const dataTable =\n",
              "            await google.colab.kernel.invokeFunction('convertToInteractive',\n",
              "                                                     [key], {});\n",
              "          if (!dataTable) return;\n",
              "\n",
              "          const docLinkHtml = 'Like what you see? Visit the ' +\n",
              "            '<a target=\"_blank\" href=https://colab.research.google.com/notebooks/data_table.ipynb>data table notebook</a>'\n",
              "            + ' to learn more about interactive tables.';\n",
              "          element.innerHTML = '';\n",
              "          dataTable['output_type'] = 'display_data';\n",
              "          await google.colab.output.renderOutput(dataTable, element);\n",
              "          const docLink = document.createElement('div');\n",
              "          docLink.innerHTML = docLinkHtml;\n",
              "          element.appendChild(docLink);\n",
              "        }\n",
              "      </script>\n",
              "    </div>\n",
              "  </div>\n",
              "  "
            ]
          },
          "metadata": {},
          "execution_count": 68
        }
      ]
    },
    {
      "cell_type": "markdown",
      "source": [
        "### USING ULMFiT"
      ],
      "metadata": {
        "id": "9eZpeoTDGw3u"
      }
    },
    {
      "cell_type": "markdown",
      "source": [
        "* Universal Language Model Fine-tuning, or ULMFiT, is an architecture and transfer learning method that can be applied to NLP tasks. \n",
        "* It involves a 3-layer AWD-LSTM architecture for its representations. \n",
        "* The training consists of three steps: \n",
        "    1. general language model pre-training on a Wikipedia-based text. \n",
        "    2. fine-tuning the language model on a target task, and \n",
        "    3. fine-tuning the classifier on the target task.\n",
        "    \n",
        "For more information regarding the ULMFit, you can refer to the fastai official documentation [here](https://docs.fast.ai/tutorial.text.html)\n",
        "\n",
        "\n",
        "<img src=\"https://docs.fast.ai/images/ulmfit.png\" />"
      ],
      "metadata": {
        "id": "6SQv84S6G2bC"
      }
    },
    {
      "cell_type": "code",
      "source": [
        "# creating the sentiment dataset based on previous data\n",
        "s_df = df[['processed_tweets','sentiment']]"
      ],
      "metadata": {
        "id": "hc4LlYWNsDpy"
      },
      "execution_count": null,
      "outputs": []
    },
    {
      "cell_type": "code",
      "source": [
        "s_df.head()"
      ],
      "metadata": {
        "colab": {
          "base_uri": "https://localhost:8080/",
          "height": 285
        },
        "id": "ONgtAf88vC0z",
        "outputId": "933b4d91-4708-4010-d80b-63fcd79f5d50"
      },
      "execution_count": null,
      "outputs": [
        {
          "output_type": "execute_result",
          "data": {
            "text/plain": [
              "                                                                                                                                                                                                                                                             processed_tweets  \\\n",
              "0                                                                                                                                                                                                                                                           truth resonates â   \n",
              "1                                                                                                                                                                               easy to fool people but it is almost impossible to convince people that they have been fooled   \n",
              "2  i strongly disagree forcing your pronouns upon others when they didnât ask and implicitly ostracizing those who donât is neither good nor kind to anyoneas for fauci he lied to congress and funded gainoffunction research that killed millions of people not awesome imo   \n",
              "3                                                 reasonable criticism of elections and judicial challenges are of course lawful that seems to be the case hereclear incitement to violence will result in suspension and significant deception should result in a correction   \n",
              "4                                                                                                                                                                                                                                                            howâs it looking   \n",
              "\n",
              "   sentiment  \n",
              "0          1  \n",
              "1          0  \n",
              "2          2  \n",
              "3          2  \n",
              "4          1  "
            ],
            "text/html": [
              "\n",
              "  <div id=\"df-8fa13b61-4840-4294-b2f6-b8c5d340ebc1\">\n",
              "    <div class=\"colab-df-container\">\n",
              "      <div>\n",
              "<style scoped>\n",
              "    .dataframe tbody tr th:only-of-type {\n",
              "        vertical-align: middle;\n",
              "    }\n",
              "\n",
              "    .dataframe tbody tr th {\n",
              "        vertical-align: top;\n",
              "    }\n",
              "\n",
              "    .dataframe thead th {\n",
              "        text-align: right;\n",
              "    }\n",
              "</style>\n",
              "<table border=\"1\" class=\"dataframe\">\n",
              "  <thead>\n",
              "    <tr style=\"text-align: right;\">\n",
              "      <th></th>\n",
              "      <th>processed_tweets</th>\n",
              "      <th>sentiment</th>\n",
              "    </tr>\n",
              "  </thead>\n",
              "  <tbody>\n",
              "    <tr>\n",
              "      <th>0</th>\n",
              "      <td>truth resonates â</td>\n",
              "      <td>1</td>\n",
              "    </tr>\n",
              "    <tr>\n",
              "      <th>1</th>\n",
              "      <td>easy to fool people but it is almost impossible to convince people that they have been fooled</td>\n",
              "      <td>0</td>\n",
              "    </tr>\n",
              "    <tr>\n",
              "      <th>2</th>\n",
              "      <td>i strongly disagree forcing your pronouns upon others when they didnât ask and implicitly ostracizing those who donât is neither good nor kind to anyoneas for fauci he lied to congress and funded gainoffunction research that killed millions of people not awesome imo</td>\n",
              "      <td>2</td>\n",
              "    </tr>\n",
              "    <tr>\n",
              "      <th>3</th>\n",
              "      <td>reasonable criticism of elections and judicial challenges are of course lawful that seems to be the case hereclear incitement to violence will result in suspension and significant deception should result in a correction</td>\n",
              "      <td>2</td>\n",
              "    </tr>\n",
              "    <tr>\n",
              "      <th>4</th>\n",
              "      <td>howâs it looking</td>\n",
              "      <td>1</td>\n",
              "    </tr>\n",
              "  </tbody>\n",
              "</table>\n",
              "</div>\n",
              "      <button class=\"colab-df-convert\" onclick=\"convertToInteractive('df-8fa13b61-4840-4294-b2f6-b8c5d340ebc1')\"\n",
              "              title=\"Convert this dataframe to an interactive table.\"\n",
              "              style=\"display:none;\">\n",
              "        \n",
              "  <svg xmlns=\"http://www.w3.org/2000/svg\" height=\"24px\"viewBox=\"0 0 24 24\"\n",
              "       width=\"24px\">\n",
              "    <path d=\"M0 0h24v24H0V0z\" fill=\"none\"/>\n",
              "    <path d=\"M18.56 5.44l.94 2.06.94-2.06 2.06-.94-2.06-.94-.94-2.06-.94 2.06-2.06.94zm-11 1L8.5 8.5l.94-2.06 2.06-.94-2.06-.94L8.5 2.5l-.94 2.06-2.06.94zm10 10l.94 2.06.94-2.06 2.06-.94-2.06-.94-.94-2.06-.94 2.06-2.06.94z\"/><path d=\"M17.41 7.96l-1.37-1.37c-.4-.4-.92-.59-1.43-.59-.52 0-1.04.2-1.43.59L10.3 9.45l-7.72 7.72c-.78.78-.78 2.05 0 2.83L4 21.41c.39.39.9.59 1.41.59.51 0 1.02-.2 1.41-.59l7.78-7.78 2.81-2.81c.8-.78.8-2.07 0-2.86zM5.41 20L4 18.59l7.72-7.72 1.47 1.35L5.41 20z\"/>\n",
              "  </svg>\n",
              "      </button>\n",
              "      \n",
              "  <style>\n",
              "    .colab-df-container {\n",
              "      display:flex;\n",
              "      flex-wrap:wrap;\n",
              "      gap: 12px;\n",
              "    }\n",
              "\n",
              "    .colab-df-convert {\n",
              "      background-color: #E8F0FE;\n",
              "      border: none;\n",
              "      border-radius: 50%;\n",
              "      cursor: pointer;\n",
              "      display: none;\n",
              "      fill: #1967D2;\n",
              "      height: 32px;\n",
              "      padding: 0 0 0 0;\n",
              "      width: 32px;\n",
              "    }\n",
              "\n",
              "    .colab-df-convert:hover {\n",
              "      background-color: #E2EBFA;\n",
              "      box-shadow: 0px 1px 2px rgba(60, 64, 67, 0.3), 0px 1px 3px 1px rgba(60, 64, 67, 0.15);\n",
              "      fill: #174EA6;\n",
              "    }\n",
              "\n",
              "    [theme=dark] .colab-df-convert {\n",
              "      background-color: #3B4455;\n",
              "      fill: #D2E3FC;\n",
              "    }\n",
              "\n",
              "    [theme=dark] .colab-df-convert:hover {\n",
              "      background-color: #434B5C;\n",
              "      box-shadow: 0px 1px 3px 1px rgba(0, 0, 0, 0.15);\n",
              "      filter: drop-shadow(0px 1px 2px rgba(0, 0, 0, 0.3));\n",
              "      fill: #FFFFFF;\n",
              "    }\n",
              "  </style>\n",
              "\n",
              "      <script>\n",
              "        const buttonEl =\n",
              "          document.querySelector('#df-8fa13b61-4840-4294-b2f6-b8c5d340ebc1 button.colab-df-convert');\n",
              "        buttonEl.style.display =\n",
              "          google.colab.kernel.accessAllowed ? 'block' : 'none';\n",
              "\n",
              "        async function convertToInteractive(key) {\n",
              "          const element = document.querySelector('#df-8fa13b61-4840-4294-b2f6-b8c5d340ebc1');\n",
              "          const dataTable =\n",
              "            await google.colab.kernel.invokeFunction('convertToInteractive',\n",
              "                                                     [key], {});\n",
              "          if (!dataTable) return;\n",
              "\n",
              "          const docLinkHtml = 'Like what you see? Visit the ' +\n",
              "            '<a target=\"_blank\" href=https://colab.research.google.com/notebooks/data_table.ipynb>data table notebook</a>'\n",
              "            + ' to learn more about interactive tables.';\n",
              "          element.innerHTML = '';\n",
              "          dataTable['output_type'] = 'display_data';\n",
              "          await google.colab.output.renderOutput(dataTable, element);\n",
              "          const docLink = document.createElement('div');\n",
              "          docLink.innerHTML = docLinkHtml;\n",
              "          element.appendChild(docLink);\n",
              "        }\n",
              "      </script>\n",
              "    </div>\n",
              "  </div>\n",
              "  "
            ]
          },
          "metadata": {},
          "execution_count": 71
        }
      ]
    },
    {
      "cell_type": "code",
      "source": [
        "# creating a Dataloader for language model\n",
        "lm_data = TextDataLoaders.from_df(s_df, path = \"\", is_lm=True, valid_pct=0.3, bs=128, seq_len=80)"
      ],
      "metadata": {
        "colab": {
          "base_uri": "https://localhost:8080/",
          "height": 17
        },
        "id": "Yud3nyBNvxzK",
        "outputId": "01cbe01a-75ec-431e-8474-f48b98402f43"
      },
      "execution_count": null,
      "outputs": [
        {
          "output_type": "display_data",
          "data": {
            "text/plain": [
              "<IPython.core.display.HTML object>"
            ],
            "text/html": [
              "\n",
              "<style>\n",
              "    /* Turns off some styling */\n",
              "    progress {\n",
              "        /* gets rid of default border in Firefox and Opera. */\n",
              "        border: none;\n",
              "        /* Needs to be in here for Safari polyfill so background images work as expected. */\n",
              "        background-size: auto;\n",
              "    }\n",
              "    progress:not([value]), progress:not([value])::-webkit-progress-bar {\n",
              "        background: repeating-linear-gradient(45deg, #7e7e7e, #7e7e7e 10px, #5c5c5c 10px, #5c5c5c 20px);\n",
              "    }\n",
              "    .progress-bar-interrupted, .progress-bar-interrupted::-webkit-progress-bar {\n",
              "        background: #F44336;\n",
              "    }\n",
              "</style>\n"
            ]
          },
          "metadata": {}
        },
        {
          "output_type": "display_data",
          "data": {
            "text/plain": [
              "<IPython.core.display.HTML object>"
            ],
            "text/html": []
          },
          "metadata": {}
        }
      ]
    },
    {
      "cell_type": "code",
      "source": [
        "# showing 5 texts with tokenized data from dataloader\n",
        "lm_data.show_batch(max_n=5)"
      ],
      "metadata": {
        "colab": {
          "base_uri": "https://localhost:8080/",
          "height": 605
        },
        "id": "j4hYYRAXx0vK",
        "outputId": "fb754504-4a2f-43ac-c36b-4661bba427cd"
      },
      "execution_count": null,
      "outputs": [
        {
          "output_type": "display_data",
          "data": {
            "text/plain": [
              "<IPython.core.display.HTML object>"
            ],
            "text/html": [
              "<table border=\"1\" class=\"dataframe\">\n",
              "  <thead>\n",
              "    <tr style=\"text-align: right;\">\n",
              "      <th></th>\n",
              "      <th>text</th>\n",
              "      <th>text_</th>\n",
              "    </tr>\n",
              "  </thead>\n",
              "  <tbody>\n",
              "    <tr>\n",
              "      <th>0</th>\n",
              "      <td>xxbos tropical storm ian is forecast to reach up to category hurricane strength before hitting florida next week xxbos we tried the worldâs first labgrown steak no cows required xxbos were unhappy as senior leaders were nt consulted before taking decision on jampk pcc xxunk resigned from partys coordination committee as protest against recent announcements of pcc chief i ve resigned from congress primary xxunk exmla haji abdul rashid dar xxbos dear xxunk vote in gave india a strong government</td>\n",
              "      <td>tropical storm ian is forecast to reach up to category hurricane strength before hitting florida next week xxbos we tried the worldâs first labgrown steak no cows required xxbos were unhappy as senior leaders were nt consulted before taking decision on jampk pcc xxunk resigned from partys coordination committee as protest against recent announcements of pcc chief i ve resigned from congress primary xxunk exmla haji abdul rashid dar xxbos dear xxunk vote in gave india a strong government that</td>\n",
              "    </tr>\n",
              "    <tr>\n",
              "      <th>1</th>\n",
              "      <td>3 o on eclipse week xxbos a dogs eyes may well up with tears of happiness when reunited with its owner after a period of absence new research from japanese scientists suggests xxbos quiz records in xxrep 4 â q lionel messi has scored goals for â the secondmost a player has scored for one club behind peleâs for ðwhich of the following players also features in the top five xxbos what i find most surprising is that cnn still</td>\n",
              "      <td>o on eclipse week xxbos a dogs eyes may well up with tears of happiness when reunited with its owner after a period of absence new research from japanese scientists suggests xxbos quiz records in xxrep 4 â q lionel messi has scored goals for â the secondmost a player has scored for one club behind peleâs for ðwhich of the following players also features in the top five xxbos what i find most surprising is that cnn still exists</td>\n",
              "    </tr>\n",
              "    <tr>\n",
              "      <th>2</th>\n",
              "      <td>terrorist attack turkish vice president xxunk xxunk said according to state news agency xxunk xxbos inflation is coming for thanksgiving dinner a birdflu outbreak has killed millions of turkeys lowering supplies and lifting prices to their highest levels ever xxbos released âthe birds of xxunk xxunk a book by scientists of gujarat institute of desert ecology guide xxbos chandrayaan is almost ready final integration and testing almost complete still some more tests are pending so we want to do it</td>\n",
              "      <td>attack turkish vice president xxunk xxunk said according to state news agency xxunk xxbos inflation is coming for thanksgiving dinner a birdflu outbreak has killed millions of turkeys lowering supplies and lifting prices to their highest levels ever xxbos released âthe birds of xxunk xxunk a book by scientists of gujarat institute of desert ecology guide xxbos chandrayaan is almost ready final integration and testing almost complete still some more tests are pending so we want to do it a</td>\n",
              "    </tr>\n",
              "    <tr>\n",
              "      <th>3</th>\n",
              "      <td>years people know that bjp means stability priority to xxunk of himachal have decided to form bjp government again pm modi in mandi xxbos ukrainians must endure a brutal filtration process to escape russianheld territory heres what that means xxbos the entire xxunk of ins vikrant around kms in length has been made in india this is a big achievement for us xxunk steel has also been made in india with the help of indian navy drdo amp sail it</td>\n",
              "      <td>people know that bjp means stability priority to xxunk of himachal have decided to form bjp government again pm modi in mandi xxbos ukrainians must endure a brutal filtration process to escape russianheld territory heres what that means xxbos the entire xxunk of ins vikrant around kms in length has been made in india this is a big achievement for us xxunk steel has also been made in india with the help of indian navy drdo amp sail it can</td>\n",
              "    </tr>\n",
              "    <tr>\n",
              "      <th>4</th>\n",
              "      <td>a statement from her family and friends xxbos good analysis although i think we should wait until fsd is a bit more mature xxbos itâs been a xxunk xxunk church lost over ââ kilos thanks to football and is using the beautiful game to help countless more ð â¹ïð xxbos happy birthday bo derek here she is in at the oscars with christopher reeve and best editor winner alan xxunk xxbos who is the hightower family on xxbos twenty state</td>\n",
              "      <td>statement from her family and friends xxbos good analysis although i think we should wait until fsd is a bit more mature xxbos itâs been a xxunk xxunk church lost over ââ kilos thanks to football and is using the beautiful game to help countless more ð â¹ïð xxbos happy birthday bo derek here she is in at the oscars with christopher reeve and best editor winner alan xxunk xxbos who is the hightower family on xxbos twenty state or</td>\n",
              "    </tr>\n",
              "  </tbody>\n",
              "</table>"
            ]
          },
          "metadata": {}
        }
      ]
    },
    {
      "cell_type": "markdown",
      "source": [
        "The rules are all listed below, here is the meaning of the special tokens:\n",
        "\n",
        "* `UNK (xxunk)` is for an unknown word (one that isn't present in the current vocabulary)\n",
        "* `PAD (xxpad)` is the token used for padding, if we need to regroup several texts of different lengths in a batch\n",
        "* `BOS (xxbos)` represents the beginning of a text in your dataset\n",
        "* `TK_MAJ (xxmaj)` is used to indicate the next word begins with a capital in the original text\n",
        "* `TK_REP (xxrep)` is used to indicate the next character is repeated n times in the original text (usage xxrep n {char})\n",
        "* `TK_WREP(xxwrep)` is used to indicate the next word is repeated n times in the original text (usage xxwrep n {word})\n"
      ],
      "metadata": {
        "id": "AuKJnvQyLFl4"
      }
    },
    {
      "cell_type": "code",
      "source": [
        "# starting a language model learner\n",
        "learn_lm = language_model_learner(lm_data, AWD_LSTM, metrics=[accuracy, Perplexity()], path=\"\", wd=0.1).to_fp16()"
      ],
      "metadata": {
        "id": "uALUn_BWx_AC"
      },
      "execution_count": null,
      "outputs": []
    },
    {
      "cell_type": "code",
      "source": [
        "# finding the best learning rate for the model\n",
        "minimum_lr = learn_lm.lr_find(suggest_funcs=(minimum))\n",
        "print(f\"the minimum learning rate for the Language learning model is : {minimum_lr:}\")"
      ],
      "metadata": {
        "colab": {
          "base_uri": "https://localhost:8080/",
          "height": 301
        },
        "id": "m5xv8gUd19jg",
        "outputId": "cc45c12b-504b-47eb-ff83-65439f32f0e1"
      },
      "execution_count": null,
      "outputs": [
        {
          "output_type": "display_data",
          "data": {
            "text/plain": [
              "<IPython.core.display.HTML object>"
            ],
            "text/html": [
              "\n",
              "<style>\n",
              "    /* Turns off some styling */\n",
              "    progress {\n",
              "        /* gets rid of default border in Firefox and Opera. */\n",
              "        border: none;\n",
              "        /* Needs to be in here for Safari polyfill so background images work as expected. */\n",
              "        background-size: auto;\n",
              "    }\n",
              "    progress:not([value]), progress:not([value])::-webkit-progress-bar {\n",
              "        background: repeating-linear-gradient(45deg, #7e7e7e, #7e7e7e 10px, #5c5c5c 10px, #5c5c5c 20px);\n",
              "    }\n",
              "    .progress-bar-interrupted, .progress-bar-interrupted::-webkit-progress-bar {\n",
              "        background: #F44336;\n",
              "    }\n",
              "</style>\n"
            ]
          },
          "metadata": {}
        },
        {
          "output_type": "display_data",
          "data": {
            "text/plain": [
              "<IPython.core.display.HTML object>"
            ],
            "text/html": []
          },
          "metadata": {}
        },
        {
          "output_type": "stream",
          "name": "stdout",
          "text": [
            "the minimum learning rate for the Language learning model is : SuggestedLRs(minimum=0.04365158379077912)\n"
          ]
        },
        {
          "output_type": "display_data",
          "data": {
            "text/plain": [
              "<Figure size 432x288 with 1 Axes>"
            ],
            "image/png": "[encoded data removed]"
          },
          "metadata": {
            "needs_background": "light"
          }
        }
      ]
    },
    {
      "cell_type": "code",
      "source": [
        "# structure of the LSTM model\n",
        "learn_lm.model"
      ],
      "metadata": {
        "colab": {
          "base_uri": "https://localhost:8080/"
        },
        "id": "ZJ50z5IHcZF_",
        "outputId": "25165229-8671-437d-d525-8220e60e8b64"
      },
      "execution_count": null,
      "outputs": [
        {
          "output_type": "execute_result",
          "data": {
            "text/plain": [
              "SequentialRNN(\n",
              "  (0): AWD_LSTM(\n",
              "    (encoder): Embedding(42448, 400, padding_idx=1)\n",
              "    (encoder_dp): EmbeddingDropout(\n",
              "      (emb): Embedding(42448, 400, padding_idx=1)\n",
              "    )\n",
              "    (rnns): ModuleList(\n",
              "      (0): WeightDropout(\n",
              "        (module): LSTM(400, 1152, batch_first=True)\n",
              "      )\n",
              "      (1): WeightDropout(\n",
              "        (module): LSTM(1152, 1152, batch_first=True)\n",
              "      )\n",
              "      (2): WeightDropout(\n",
              "        (module): LSTM(1152, 400, batch_first=True)\n",
              "      )\n",
              "    )\n",
              "    (input_dp): RNNDropout()\n",
              "    (hidden_dps): ModuleList(\n",
              "      (0): RNNDropout()\n",
              "      (1): RNNDropout()\n",
              "      (2): RNNDropout()\n",
              "    )\n",
              "  )\n",
              "  (1): LinearDecoder(\n",
              "    (decoder): Linear(in_features=400, out_features=42448, bias=True)\n",
              "    (output_dp): RNNDropout()\n",
              "  )\n",
              ")"
            ]
          },
          "metadata": {},
          "execution_count": 83
        }
      ]
    },
    {
      "cell_type": "code",
      "source": [
        "# fitting the model for 2 epochs\n",
        "learn_lm.fit_one_cycle(2, minimum_lr)"
      ],
      "metadata": {
        "colab": {
          "base_uri": "https://localhost:8080/",
          "height": 112
        },
        "id": "_ZKyZ8WY5pbD",
        "outputId": "2ee0e090-32ca-4cf1-d725-620ac4edb393"
      },
      "execution_count": null,
      "outputs": [
        {
          "output_type": "display_data",
          "data": {
            "text/plain": [
              "<IPython.core.display.HTML object>"
            ],
            "text/html": [
              "\n",
              "<style>\n",
              "    /* Turns off some styling */\n",
              "    progress {\n",
              "        /* gets rid of default border in Firefox and Opera. */\n",
              "        border: none;\n",
              "        /* Needs to be in here for Safari polyfill so background images work as expected. */\n",
              "        background-size: auto;\n",
              "    }\n",
              "    progress:not([value]), progress:not([value])::-webkit-progress-bar {\n",
              "        background: repeating-linear-gradient(45deg, #7e7e7e, #7e7e7e 10px, #5c5c5c 10px, #5c5c5c 20px);\n",
              "    }\n",
              "    .progress-bar-interrupted, .progress-bar-interrupted::-webkit-progress-bar {\n",
              "        background: #F44336;\n",
              "    }\n",
              "</style>\n"
            ]
          },
          "metadata": {}
        },
        {
          "output_type": "display_data",
          "data": {
            "text/plain": [
              "<IPython.core.display.HTML object>"
            ],
            "text/html": [
              "<table border=\"1\" class=\"dataframe\">\n",
              "  <thead>\n",
              "    <tr style=\"text-align: left;\">\n",
              "      <th>epoch</th>\n",
              "      <th>train_loss</th>\n",
              "      <th>valid_loss</th>\n",
              "      <th>accuracy</th>\n",
              "      <th>perplexity</th>\n",
              "      <th>time</th>\n",
              "    </tr>\n",
              "  </thead>\n",
              "  <tbody>\n",
              "    <tr>\n",
              "      <td>0</td>\n",
              "      <td>5.651651</td>\n",
              "      <td>5.233630</td>\n",
              "      <td>0.210907</td>\n",
              "      <td>187.472031</td>\n",
              "      <td>03:58</td>\n",
              "    </tr>\n",
              "    <tr>\n",
              "      <td>1</td>\n",
              "      <td>5.191182</td>\n",
              "      <td>4.927073</td>\n",
              "      <td>0.233316</td>\n",
              "      <td>137.975067</td>\n",
              "      <td>03:57</td>\n",
              "    </tr>\n",
              "  </tbody>\n",
              "</table>"
            ]
          },
          "metadata": {}
        }
      ]
    },
    {
      "cell_type": "code",
      "source": [
        "# unfreezing all the layers and fitting the model for 10 epochs\n",
        "learn_lm.unfreeze()\n",
        "learn_lm.fit_one_cycle(10, minimum_lr)"
      ],
      "metadata": {
        "colab": {
          "base_uri": "https://localhost:8080/",
          "height": 363
        },
        "id": "eB_-LXG6yIhl",
        "outputId": "84b18458-dd9d-4a46-fe59-851ba27ccd4a"
      },
      "execution_count": null,
      "outputs": [
        {
          "output_type": "display_data",
          "data": {
            "text/plain": [
              "<IPython.core.display.HTML object>"
            ],
            "text/html": [
              "\n",
              "<style>\n",
              "    /* Turns off some styling */\n",
              "    progress {\n",
              "        /* gets rid of default border in Firefox and Opera. */\n",
              "        border: none;\n",
              "        /* Needs to be in here for Safari polyfill so background images work as expected. */\n",
              "        background-size: auto;\n",
              "    }\n",
              "    progress:not([value]), progress:not([value])::-webkit-progress-bar {\n",
              "        background: repeating-linear-gradient(45deg, #7e7e7e, #7e7e7e 10px, #5c5c5c 10px, #5c5c5c 20px);\n",
              "    }\n",
              "    .progress-bar-interrupted, .progress-bar-interrupted::-webkit-progress-bar {\n",
              "        background: #F44336;\n",
              "    }\n",
              "</style>\n"
            ]
          },
          "metadata": {}
        },
        {
          "output_type": "display_data",
          "data": {
            "text/plain": [
              "<IPython.core.display.HTML object>"
            ],
            "text/html": [
              "<table border=\"1\" class=\"dataframe\">\n",
              "  <thead>\n",
              "    <tr style=\"text-align: left;\">\n",
              "      <th>epoch</th>\n",
              "      <th>train_loss</th>\n",
              "      <th>valid_loss</th>\n",
              "      <th>accuracy</th>\n",
              "      <th>perplexity</th>\n",
              "      <th>time</th>\n",
              "    </tr>\n",
              "  </thead>\n",
              "  <tbody>\n",
              "    <tr>\n",
              "      <td>0</td>\n",
              "      <td>4.738030</td>\n",
              "      <td>4.887169</td>\n",
              "      <td>0.231873</td>\n",
              "      <td>132.577759</td>\n",
              "      <td>04:13</td>\n",
              "    </tr>\n",
              "    <tr>\n",
              "      <td>1</td>\n",
              "      <td>5.305124</td>\n",
              "      <td>5.273299</td>\n",
              "      <td>0.199272</td>\n",
              "      <td>195.058441</td>\n",
              "      <td>04:47</td>\n",
              "    </tr>\n",
              "    <tr>\n",
              "      <td>2</td>\n",
              "      <td>5.414397</td>\n",
              "      <td>5.263885</td>\n",
              "      <td>0.202781</td>\n",
              "      <td>193.230652</td>\n",
              "      <td>04:36</td>\n",
              "    </tr>\n",
              "    <tr>\n",
              "      <td>3</td>\n",
              "      <td>5.321375</td>\n",
              "      <td>5.197147</td>\n",
              "      <td>0.206745</td>\n",
              "      <td>180.755875</td>\n",
              "      <td>04:43</td>\n",
              "    </tr>\n",
              "    <tr>\n",
              "      <td>4</td>\n",
              "      <td>5.198854</td>\n",
              "      <td>5.075749</td>\n",
              "      <td>0.215096</td>\n",
              "      <td>160.092041</td>\n",
              "      <td>04:30</td>\n",
              "    </tr>\n",
              "    <tr>\n",
              "      <td>5</td>\n",
              "      <td>5.019072</td>\n",
              "      <td>4.923451</td>\n",
              "      <td>0.229090</td>\n",
              "      <td>137.476288</td>\n",
              "      <td>04:41</td>\n",
              "    </tr>\n",
              "    <tr>\n",
              "      <td>6</td>\n",
              "      <td>4.805766</td>\n",
              "      <td>4.762256</td>\n",
              "      <td>0.243596</td>\n",
              "      <td>117.009560</td>\n",
              "      <td>04:08</td>\n",
              "    </tr>\n",
              "    <tr>\n",
              "      <td>7</td>\n",
              "      <td>4.562376</td>\n",
              "      <td>4.603254</td>\n",
              "      <td>0.260908</td>\n",
              "      <td>99.808548</td>\n",
              "      <td>04:11</td>\n",
              "    </tr>\n",
              "    <tr>\n",
              "      <td>8</td>\n",
              "      <td>4.285184</td>\n",
              "      <td>4.498515</td>\n",
              "      <td>0.273981</td>\n",
              "      <td>89.883522</td>\n",
              "      <td>04:09</td>\n",
              "    </tr>\n",
              "    <tr>\n",
              "      <td>9</td>\n",
              "      <td>4.101486</td>\n",
              "      <td>4.482838</td>\n",
              "      <td>0.276846</td>\n",
              "      <td>88.485451</td>\n",
              "      <td>04:09</td>\n",
              "    </tr>\n",
              "  </tbody>\n",
              "</table>"
            ]
          },
          "metadata": {}
        }
      ]
    },
    {
      "cell_type": "code",
      "source": [
        "# get the language model loss for both train and validation\n",
        "learn_lm.recorder.plot_loss()"
      ],
      "metadata": {
        "colab": {
          "base_uri": "https://localhost:8080/",
          "height": 265
        },
        "id": "f2HRK5hr_TuP",
        "outputId": "b3c1f94f-1401-46a9-c41a-a38f5db45522"
      },
      "execution_count": null,
      "outputs": [
        {
          "output_type": "display_data",
          "data": {
            "text/plain": [
              "<Figure size 432x288 with 1 Axes>"
            ],
            "image/png": "[encoded data removed]"
          },
          "metadata": {
            "needs_background": "light"
          }
        }
      ]
    },
    {
      "cell_type": "code",
      "source": [
        "# saving the language model as the encoder to be used for text classification\n",
        "learn_lm.save_encoder('language_model')"
      ],
      "metadata": {
        "id": "_EPyTeTEJTDp"
      },
      "execution_count": null,
      "outputs": []
    },
    {
      "cell_type": "code",
      "source": [
        "# generating a pprediction from language model\n",
        "sample = \"This years winner\"\n",
        "n = 40\n",
        "learn_lm.predict(sample, n)"
      ],
      "metadata": {
        "colab": {
          "base_uri": "https://localhost:8080/",
          "height": 55
        },
        "id": "3KTHlmeYLSQw",
        "outputId": "5a998a1d-3dd9-426a-87f6-b5d7327edbab"
      },
      "execution_count": null,
      "outputs": [
        {
          "output_type": "display_data",
          "data": {
            "text/plain": [
              "<IPython.core.display.HTML object>"
            ],
            "text/html": [
              "\n",
              "<style>\n",
              "    /* Turns off some styling */\n",
              "    progress {\n",
              "        /* gets rid of default border in Firefox and Opera. */\n",
              "        border: none;\n",
              "        /* Needs to be in here for Safari polyfill so background images work as expected. */\n",
              "        background-size: auto;\n",
              "    }\n",
              "    progress:not([value]), progress:not([value])::-webkit-progress-bar {\n",
              "        background: repeating-linear-gradient(45deg, #7e7e7e, #7e7e7e 10px, #5c5c5c 10px, #5c5c5c 20px);\n",
              "    }\n",
              "    .progress-bar-interrupted, .progress-bar-interrupted::-webkit-progress-bar {\n",
              "        background: #F44336;\n",
              "    }\n",
              "</style>\n"
            ]
          },
          "metadata": {}
        },
        {
          "output_type": "display_data",
          "data": {
            "text/plain": [
              "<IPython.core.display.HTML object>"
            ],
            "text/html": []
          },
          "metadata": {}
        },
        {
          "output_type": "execute_result",
          "data": {
            "text/plain": [
              "'This years winner after a day game we review the crown to play the cocreator and and thereâs lively alliances in your garden meaty workout traits with much of your nails while eating them use with your local zoom keeping surfing on'"
            ],
            "application/vnd.google.colaboratory.intrinsic+json": {
              "type": "string"
            }
          },
          "metadata": {},
          "execution_count": 88
        }
      ]
    },
    {
      "cell_type": "code",
      "source": [
        "learn_lm.predict(\"the award for\", 40)"
      ],
      "metadata": {
        "colab": {
          "base_uri": "https://localhost:8080/",
          "height": 55
        },
        "id": "uSxV8Mg2LulQ",
        "outputId": "8a48c5d3-d0dc-4afb-df88-d0c129980f0c"
      },
      "execution_count": null,
      "outputs": [
        {
          "output_type": "display_data",
          "data": {
            "text/plain": [
              "<IPython.core.display.HTML object>"
            ],
            "text/html": [
              "\n",
              "<style>\n",
              "    /* Turns off some styling */\n",
              "    progress {\n",
              "        /* gets rid of default border in Firefox and Opera. */\n",
              "        border: none;\n",
              "        /* Needs to be in here for Safari polyfill so background images work as expected. */\n",
              "        background-size: auto;\n",
              "    }\n",
              "    progress:not([value]), progress:not([value])::-webkit-progress-bar {\n",
              "        background: repeating-linear-gradient(45deg, #7e7e7e, #7e7e7e 10px, #5c5c5c 10px, #5c5c5c 20px);\n",
              "    }\n",
              "    .progress-bar-interrupted, .progress-bar-interrupted::-webkit-progress-bar {\n",
              "        background: #F44336;\n",
              "    }\n",
              "</style>\n"
            ]
          },
          "metadata": {}
        },
        {
          "output_type": "display_data",
          "data": {
            "text/plain": [
              "<IPython.core.display.HTML object>"
            ],
            "text/html": []
          },
          "metadata": {}
        },
        {
          "output_type": "execute_result",
          "data": {
            "text/plain": [
              "'the award for best picture goes to and that could be remarkably annoying for the room resulting in an early days luxury sellers on netflix have writing outsideâ and it has rolled out in multiple sectors as a climatefriendly project'"
            ],
            "application/vnd.google.colaboratory.intrinsic+json": {
              "type": "string"
            }
          },
          "metadata": {},
          "execution_count": 89
        }
      ]
    },
    {
      "cell_type": "code",
      "source": [
        "# creating the dataloaders for our text classifier model\n",
        "cls_data = TextDataLoaders.from_df(s_df, text_vocab=lm_data.vocab, text_col='processed_tweets', labelcol='sentiment', bs=128, seq_len=80)"
      ],
      "metadata": {
        "colab": {
          "base_uri": "https://localhost:8080/",
          "height": 17
        },
        "id": "fh6gLz7YM5Px",
        "outputId": "fcaaf050-3c0f-4e26-df36-11e4307acad4"
      },
      "execution_count": null,
      "outputs": [
        {
          "output_type": "display_data",
          "data": {
            "text/plain": [
              "<IPython.core.display.HTML object>"
            ],
            "text/html": [
              "\n",
              "<style>\n",
              "    /* Turns off some styling */\n",
              "    progress {\n",
              "        /* gets rid of default border in Firefox and Opera. */\n",
              "        border: none;\n",
              "        /* Needs to be in here for Safari polyfill so background images work as expected. */\n",
              "        background-size: auto;\n",
              "    }\n",
              "    progress:not([value]), progress:not([value])::-webkit-progress-bar {\n",
              "        background: repeating-linear-gradient(45deg, #7e7e7e, #7e7e7e 10px, #5c5c5c 10px, #5c5c5c 20px);\n",
              "    }\n",
              "    .progress-bar-interrupted, .progress-bar-interrupted::-webkit-progress-bar {\n",
              "        background: #F44336;\n",
              "    }\n",
              "</style>\n"
            ]
          },
          "metadata": {}
        },
        {
          "output_type": "display_data",
          "data": {
            "text/plain": [
              "<IPython.core.display.HTML object>"
            ],
            "text/html": []
          },
          "metadata": {}
        }
      ]
    },
    {
      "cell_type": "code",
      "source": [
        "# showing the data from our dataloaders \n",
        "cls_data.show_batch(max_n=5)"
      ],
      "metadata": {
        "colab": {
          "base_uri": "https://localhost:8080/",
          "height": 310
        },
        "id": "1PPH_07Vho-S",
        "outputId": "7c5d3ab6-f1b5-4c31-fb8b-d159f94e9176"
      },
      "execution_count": null,
      "outputs": [
        {
          "output_type": "display_data",
          "data": {
            "text/plain": [
              "<IPython.core.display.HTML object>"
            ],
            "text/html": [
              "<table border=\"1\" class=\"dataframe\">\n",
              "  <thead>\n",
              "    <tr style=\"text-align: right;\">\n",
              "      <th></th>\n",
              "      <th>text</th>\n",
              "      <th>category</th>\n",
              "    </tr>\n",
              "  </thead>\n",
              "  <tbody>\n",
              "    <tr>\n",
              "      <th>0</th>\n",
              "      <td>xxbos àà¾ xxrep 4 à àµ xxrep 3 à ¾ xxrep 4 à xxrep 4 à ¾à àà xxunk àà xxrep 4 à ¾à àà xxunk xxrep 3 à xxunk xxrep 3 à xxrep 4 à xxunk àà xxrep 4 à xxrep 6 à à¹à àà àµà xxunk xxunk xxrep 4 à xxunk xxrep 3 à phase of the jharkhand elections is in progress i urge those whose constituencies go to the polls today to vote in large numbers amp enrich the festival of democracy</td>\n",
              "      <td>2</td>\n",
              "    </tr>\n",
              "    <tr>\n",
              "      <th>1</th>\n",
              "      <td>xxbos kerala hc dismisses the pil seeking to set a time limit for the gov for taking a decision on bills passed by assembly while dismissing the pil court observed its not the duty of court to fix a time limit to decide on bills by the governor amp its for the legislature to do so</td>\n",
              "      <td>1</td>\n",
              "    </tr>\n",
              "    <tr>\n",
              "      <th>2</th>\n",
              "      <td>xxbos i suggested secy blinken that if there was something we could do from indian govt to help the us govt deal with this issue in a better way we would be very open to doing it but this is an issue where its mainly for the us to dowell be supportive eam on visa issue</td>\n",
              "      <td>2</td>\n",
              "    </tr>\n",
              "    <tr>\n",
              "      <th>3</th>\n",
              "      <td>xxbos we ve calculated that mlas have come to their party bjp now if they would ve given rs cr to each mla then they ve bought mlas worth rs crores that s why there s inflation as they re using all the money to buy mlas at expense of common xxunk cm arvind kejriwal</td>\n",
              "      <td>1</td>\n",
              "    </tr>\n",
              "    <tr>\n",
              "      <th>4</th>\n",
              "      <td>xxbos all i can say about rahul gandhis comment on veer savarkar is that he has very less historical knowledge maybe someone read out history for him amp he did nt read it on his own he committed a grave sin by insulting savarkar i think hell have to pay for it politically assam cm</td>\n",
              "      <td>0</td>\n",
              "    </tr>\n",
              "  </tbody>\n",
              "</table>"
            ]
          },
          "metadata": {}
        }
      ]
    },
    {
      "cell_type": "code",
      "source": [
        "# creating a text classification learner\n",
        "learn_cls = text_classifier_learner(cls_data, AWD_LSTM, drop_mult=0.4, metrics=accuracy).to_fp16()"
      ],
      "metadata": {
        "id": "S5pLg388R-Aa"
      },
      "execution_count": null,
      "outputs": []
    },
    {
      "cell_type": "code",
      "source": [
        "# loading the encoder\n",
        "learn_cls.load_encoder(\"language_model\")"
      ],
      "metadata": {
        "id": "UD_jZTgsSgQa",
        "colab": {
          "base_uri": "https://localhost:8080/"
        },
        "outputId": "4e32b88f-ece4-43ee-9d30-6846de21c868"
      },
      "execution_count": null,
      "outputs": [
        {
          "output_type": "execute_result",
          "data": {
            "text/plain": [
              "<fastai.text.learner.TextLearner at 0x7f9916bd6670>"
            ]
          },
          "metadata": {},
          "execution_count": 93
        }
      ]
    },
    {
      "cell_type": "code",
      "source": [
        "# fitting the classifier model for one epoch\n",
        "learn_cls.fit_one_cycle(1, 1e-3)"
      ],
      "metadata": {
        "colab": {
          "base_uri": "https://localhost:8080/",
          "height": 81
        },
        "id": "5f5fJ29ISnYB",
        "outputId": "bb899996-ef93-4918-ea0b-7c2305c96049"
      },
      "execution_count": null,
      "outputs": [
        {
          "output_type": "display_data",
          "data": {
            "text/plain": [
              "<IPython.core.display.HTML object>"
            ],
            "text/html": [
              "\n",
              "<style>\n",
              "    /* Turns off some styling */\n",
              "    progress {\n",
              "        /* gets rid of default border in Firefox and Opera. */\n",
              "        border: none;\n",
              "        /* Needs to be in here for Safari polyfill so background images work as expected. */\n",
              "        background-size: auto;\n",
              "    }\n",
              "    progress:not([value]), progress:not([value])::-webkit-progress-bar {\n",
              "        background: repeating-linear-gradient(45deg, #7e7e7e, #7e7e7e 10px, #5c5c5c 10px, #5c5c5c 20px);\n",
              "    }\n",
              "    .progress-bar-interrupted, .progress-bar-interrupted::-webkit-progress-bar {\n",
              "        background: #F44336;\n",
              "    }\n",
              "</style>\n"
            ]
          },
          "metadata": {}
        },
        {
          "output_type": "display_data",
          "data": {
            "text/plain": [
              "<IPython.core.display.HTML object>"
            ],
            "text/html": [
              "<table border=\"1\" class=\"dataframe\">\n",
              "  <thead>\n",
              "    <tr style=\"text-align: left;\">\n",
              "      <th>epoch</th>\n",
              "      <th>train_loss</th>\n",
              "      <th>valid_loss</th>\n",
              "      <th>accuracy</th>\n",
              "      <th>time</th>\n",
              "    </tr>\n",
              "  </thead>\n",
              "  <tbody>\n",
              "    <tr>\n",
              "      <td>0</td>\n",
              "      <td>0.813925</td>\n",
              "      <td>0.800559</td>\n",
              "      <td>0.652791</td>\n",
              "      <td>03:01</td>\n",
              "    </tr>\n",
              "  </tbody>\n",
              "</table>"
            ]
          },
          "metadata": {}
        }
      ]
    },
    {
      "cell_type": "code",
      "source": [
        "# getting the new learning rate for our model\n",
        "new_minimum_lr = learn_cls.lr_find(suggest_funcs=(minimum))\n",
        "print(f\"the minimum learning rate for the Text classification model is : {new_minimum_lr:}\")"
      ],
      "metadata": {
        "colab": {
          "base_uri": "https://localhost:8080/",
          "height": 301
        },
        "id": "vZI6EGw2T0H6",
        "outputId": "abd56989-a1d8-47d3-f5e7-b72efd238c7e"
      },
      "execution_count": null,
      "outputs": [
        {
          "output_type": "display_data",
          "data": {
            "text/plain": [
              "<IPython.core.display.HTML object>"
            ],
            "text/html": [
              "\n",
              "<style>\n",
              "    /* Turns off some styling */\n",
              "    progress {\n",
              "        /* gets rid of default border in Firefox and Opera. */\n",
              "        border: none;\n",
              "        /* Needs to be in here for Safari polyfill so background images work as expected. */\n",
              "        background-size: auto;\n",
              "    }\n",
              "    progress:not([value]), progress:not([value])::-webkit-progress-bar {\n",
              "        background: repeating-linear-gradient(45deg, #7e7e7e, #7e7e7e 10px, #5c5c5c 10px, #5c5c5c 20px);\n",
              "    }\n",
              "    .progress-bar-interrupted, .progress-bar-interrupted::-webkit-progress-bar {\n",
              "        background: #F44336;\n",
              "    }\n",
              "</style>\n"
            ]
          },
          "metadata": {}
        },
        {
          "output_type": "display_data",
          "data": {
            "text/plain": [
              "<IPython.core.display.HTML object>"
            ],
            "text/html": []
          },
          "metadata": {}
        },
        {
          "output_type": "stream",
          "name": "stdout",
          "text": [
            "the minimum learning rate for the Text classification model is : SuggestedLRs(minimum=0.00036307806149125097)\n"
          ]
        },
        {
          "output_type": "display_data",
          "data": {
            "text/plain": [
              "<Figure size 432x288 with 1 Axes>"
            ],
            "image/png": "[encoded data removed]"
          },
          "metadata": {
            "needs_background": "light"
          }
        }
      ]
    },
    {
      "cell_type": "code",
      "source": [
        "# freezing until the last two layers and fitting to 1 epoch\n",
        "learn_cls.freeze_to(-2)\n",
        "learn_cls.fit_one_cycle(1, new_minimum_lr)"
      ],
      "metadata": {
        "colab": {
          "base_uri": "https://localhost:8080/",
          "height": 81
        },
        "id": "aCkQje_bUALi",
        "outputId": "177a977e-dbe3-420e-d2a3-577960030ef9"
      },
      "execution_count": null,
      "outputs": [
        {
          "output_type": "display_data",
          "data": {
            "text/plain": [
              "<IPython.core.display.HTML object>"
            ],
            "text/html": [
              "\n",
              "<style>\n",
              "    /* Turns off some styling */\n",
              "    progress {\n",
              "        /* gets rid of default border in Firefox and Opera. */\n",
              "        border: none;\n",
              "        /* Needs to be in here for Safari polyfill so background images work as expected. */\n",
              "        background-size: auto;\n",
              "    }\n",
              "    progress:not([value]), progress:not([value])::-webkit-progress-bar {\n",
              "        background: repeating-linear-gradient(45deg, #7e7e7e, #7e7e7e 10px, #5c5c5c 10px, #5c5c5c 20px);\n",
              "    }\n",
              "    .progress-bar-interrupted, .progress-bar-interrupted::-webkit-progress-bar {\n",
              "        background: #F44336;\n",
              "    }\n",
              "</style>\n"
            ]
          },
          "metadata": {}
        },
        {
          "output_type": "display_data",
          "data": {
            "text/plain": [
              "<IPython.core.display.HTML object>"
            ],
            "text/html": [
              "<table border=\"1\" class=\"dataframe\">\n",
              "  <thead>\n",
              "    <tr style=\"text-align: left;\">\n",
              "      <th>epoch</th>\n",
              "      <th>train_loss</th>\n",
              "      <th>valid_loss</th>\n",
              "      <th>accuracy</th>\n",
              "      <th>time</th>\n",
              "    </tr>\n",
              "  </thead>\n",
              "  <tbody>\n",
              "    <tr>\n",
              "      <td>0</td>\n",
              "      <td>0.718108</td>\n",
              "      <td>0.701095</td>\n",
              "      <td>0.707835</td>\n",
              "      <td>03:04</td>\n",
              "    </tr>\n",
              "  </tbody>\n",
              "</table>"
            ]
          },
          "metadata": {}
        }
      ]
    },
    {
      "cell_type": "code",
      "source": [
        "# freezing until the last three layers and fitting to 10 epoch\n",
        "learn_cls.freeze_to(-3)\n",
        "learn_cls.fit_one_cycle(10, new_minimum_lr)"
      ],
      "metadata": {
        "colab": {
          "base_uri": "https://localhost:8080/",
          "height": 363
        },
        "id": "IVkjsiJ0U7ez",
        "outputId": "5254c4ee-e7c5-48c4-aff1-13958bd7b2ea"
      },
      "execution_count": null,
      "outputs": [
        {
          "output_type": "display_data",
          "data": {
            "text/plain": [
              "<IPython.core.display.HTML object>"
            ],
            "text/html": [
              "\n",
              "<style>\n",
              "    /* Turns off some styling */\n",
              "    progress {\n",
              "        /* gets rid of default border in Firefox and Opera. */\n",
              "        border: none;\n",
              "        /* Needs to be in here for Safari polyfill so background images work as expected. */\n",
              "        background-size: auto;\n",
              "    }\n",
              "    progress:not([value]), progress:not([value])::-webkit-progress-bar {\n",
              "        background: repeating-linear-gradient(45deg, #7e7e7e, #7e7e7e 10px, #5c5c5c 10px, #5c5c5c 20px);\n",
              "    }\n",
              "    .progress-bar-interrupted, .progress-bar-interrupted::-webkit-progress-bar {\n",
              "        background: #F44336;\n",
              "    }\n",
              "</style>\n"
            ]
          },
          "metadata": {}
        },
        {
          "output_type": "display_data",
          "data": {
            "text/plain": [
              "<IPython.core.display.HTML object>"
            ],
            "text/html": [
              "<table border=\"1\" class=\"dataframe\">\n",
              "  <thead>\n",
              "    <tr style=\"text-align: left;\">\n",
              "      <th>epoch</th>\n",
              "      <th>train_loss</th>\n",
              "      <th>valid_loss</th>\n",
              "      <th>accuracy</th>\n",
              "      <th>time</th>\n",
              "    </tr>\n",
              "  </thead>\n",
              "  <tbody>\n",
              "    <tr>\n",
              "      <td>0</td>\n",
              "      <td>0.654306</td>\n",
              "      <td>0.643788</td>\n",
              "      <td>0.735903</td>\n",
              "      <td>03:09</td>\n",
              "    </tr>\n",
              "    <tr>\n",
              "      <td>1</td>\n",
              "      <td>0.530503</td>\n",
              "      <td>0.493885</td>\n",
              "      <td>0.803076</td>\n",
              "      <td>03:15</td>\n",
              "    </tr>\n",
              "    <tr>\n",
              "      <td>2</td>\n",
              "      <td>0.407017</td>\n",
              "      <td>0.357690</td>\n",
              "      <td>0.869548</td>\n",
              "      <td>03:11</td>\n",
              "    </tr>\n",
              "    <tr>\n",
              "      <td>3</td>\n",
              "      <td>0.299026</td>\n",
              "      <td>0.281324</td>\n",
              "      <td>0.900081</td>\n",
              "      <td>03:12</td>\n",
              "    </tr>\n",
              "    <tr>\n",
              "      <td>4</td>\n",
              "      <td>0.259490</td>\n",
              "      <td>0.249729</td>\n",
              "      <td>0.915292</td>\n",
              "      <td>03:10</td>\n",
              "    </tr>\n",
              "    <tr>\n",
              "      <td>5</td>\n",
              "      <td>0.214022</td>\n",
              "      <td>0.227523</td>\n",
              "      <td>0.923723</td>\n",
              "      <td>03:11</td>\n",
              "    </tr>\n",
              "    <tr>\n",
              "      <td>6</td>\n",
              "      <td>0.183579</td>\n",
              "      <td>0.220231</td>\n",
              "      <td>0.927757</td>\n",
              "      <td>03:12</td>\n",
              "    </tr>\n",
              "    <tr>\n",
              "      <td>7</td>\n",
              "      <td>0.157843</td>\n",
              "      <td>0.219208</td>\n",
              "      <td>0.928766</td>\n",
              "      <td>03:12</td>\n",
              "    </tr>\n",
              "    <tr>\n",
              "      <td>8</td>\n",
              "      <td>0.151579</td>\n",
              "      <td>0.216802</td>\n",
              "      <td>0.930502</td>\n",
              "      <td>03:12</td>\n",
              "    </tr>\n",
              "    <tr>\n",
              "      <td>9</td>\n",
              "      <td>0.137038</td>\n",
              "      <td>0.216633</td>\n",
              "      <td>0.930950</td>\n",
              "      <td>03:10</td>\n",
              "    </tr>\n",
              "  </tbody>\n",
              "</table>"
            ]
          },
          "metadata": {}
        }
      ]
    },
    {
      "cell_type": "code",
      "source": [
        "# predicting the sentiment of the tweet\n",
        "learn_cls.predict(\"This was not how it was meant to be\")"
      ],
      "metadata": {
        "colab": {
          "base_uri": "https://localhost:8080/",
          "height": 35
        },
        "id": "4-_pzcBriv9q",
        "outputId": "21e68152-fb56-4690-881c-75f9edd1a826"
      },
      "execution_count": null,
      "outputs": [
        {
          "output_type": "display_data",
          "data": {
            "text/plain": [
              "<IPython.core.display.HTML object>"
            ],
            "text/html": [
              "\n",
              "<style>\n",
              "    /* Turns off some styling */\n",
              "    progress {\n",
              "        /* gets rid of default border in Firefox and Opera. */\n",
              "        border: none;\n",
              "        /* Needs to be in here for Safari polyfill so background images work as expected. */\n",
              "        background-size: auto;\n",
              "    }\n",
              "    progress:not([value]), progress:not([value])::-webkit-progress-bar {\n",
              "        background: repeating-linear-gradient(45deg, #7e7e7e, #7e7e7e 10px, #5c5c5c 10px, #5c5c5c 20px);\n",
              "    }\n",
              "    .progress-bar-interrupted, .progress-bar-interrupted::-webkit-progress-bar {\n",
              "        background: #F44336;\n",
              "    }\n",
              "</style>\n"
            ]
          },
          "metadata": {}
        },
        {
          "output_type": "display_data",
          "data": {
            "text/plain": [
              "<IPython.core.display.HTML object>"
            ],
            "text/html": []
          },
          "metadata": {}
        },
        {
          "output_type": "execute_result",
          "data": {
            "text/plain": [
              "('1', tensor(1), tensor([0.0028, 0.9859, 0.0113]))"
            ]
          },
          "metadata": {},
          "execution_count": 99
        }
      ]
    },
    {
      "cell_type": "markdown",
      "source": [
        "## Conclusion\n",
        "* ULMFiT (Universal Language Model Fine-tuning) is a technique for natural language processing (NLP) tasks that was developed by researchers at fast.ai. \n",
        "\n",
        "* It involves fine-tuning a pre-trained language model on a specific NLP task, such as sentiment analysis or named entity recognition. This allows the model to achieve strong performance on the specific task while still maintaining a general understanding of the structure of language. The technique has been shown to significantly improve the performance of NLP models on a variety of tasks.\n",
        "\n",
        "* We created our own ULMFiT model based on the tweets generated by snscraper and successfully created a text classifier learner.\n",
        "\n",
        "* We can see that the ULMFiT model is able to predict the sentiment of a tweet with ~93% accuracy, which is fairly good score for a model to achieve. To test it out, we passed a neutral sentence and it predicted correctly\n"
      ],
      "metadata": {
        "id": "qivkcBPUeiuA"
      }
    }
  ]
}